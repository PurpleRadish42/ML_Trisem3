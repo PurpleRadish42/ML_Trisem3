{
 "cells": [
  {
   "cell_type": "markdown",
   "metadata": {},
   "source": [
    "<center> <h3><b>Lab 6: Factor Analysis</b></h3></center>\n",
    "<center><p> R Abhijit Srivathsan <br> 2448044 </p></center>"
   ]
  },
  {
   "cell_type": "markdown",
   "metadata": {},
   "source": [
    "### Importing all the required Libraries"
   ]
  },
  {
   "cell_type": "code",
   "execution_count": 1,
   "metadata": {},
   "outputs": [],
   "source": [
    "import pandas as pd\n",
    "from factor_analyzer import FactorAnalyzer, calculate_kmo\n",
    "import matplotlib.pyplot as plt\n",
    "import seaborn as sns"
   ]
  },
  {
   "cell_type": "markdown",
   "metadata": {},
   "source": [
    "### Loading the Dataset and Displaying the head"
   ]
  },
  {
   "cell_type": "code",
   "execution_count": 2,
   "metadata": {},
   "outputs": [
    {
     "data": {
      "text/html": [
       "<div>\n",
       "<style scoped>\n",
       "    .dataframe tbody tr th:only-of-type {\n",
       "        vertical-align: middle;\n",
       "    }\n",
       "\n",
       "    .dataframe tbody tr th {\n",
       "        vertical-align: top;\n",
       "    }\n",
       "\n",
       "    .dataframe thead th {\n",
       "        text-align: right;\n",
       "    }\n",
       "</style>\n",
       "<table border=\"1\" class=\"dataframe\">\n",
       "  <thead>\n",
       "    <tr style=\"text-align: right;\">\n",
       "      <th></th>\n",
       "      <th>Unnamed: 0</th>\n",
       "      <th>Oil</th>\n",
       "      <th>Density</th>\n",
       "      <th>Crispy</th>\n",
       "      <th>Fracture</th>\n",
       "      <th>Hardness</th>\n",
       "    </tr>\n",
       "  </thead>\n",
       "  <tbody>\n",
       "    <tr>\n",
       "      <th>0</th>\n",
       "      <td>B110</td>\n",
       "      <td>16.5</td>\n",
       "      <td>2955</td>\n",
       "      <td>10</td>\n",
       "      <td>23</td>\n",
       "      <td>97</td>\n",
       "    </tr>\n",
       "    <tr>\n",
       "      <th>1</th>\n",
       "      <td>B136</td>\n",
       "      <td>17.7</td>\n",
       "      <td>2660</td>\n",
       "      <td>14</td>\n",
       "      <td>9</td>\n",
       "      <td>139</td>\n",
       "    </tr>\n",
       "    <tr>\n",
       "      <th>2</th>\n",
       "      <td>B171</td>\n",
       "      <td>16.2</td>\n",
       "      <td>2870</td>\n",
       "      <td>12</td>\n",
       "      <td>17</td>\n",
       "      <td>143</td>\n",
       "    </tr>\n",
       "    <tr>\n",
       "      <th>3</th>\n",
       "      <td>B192</td>\n",
       "      <td>16.7</td>\n",
       "      <td>2920</td>\n",
       "      <td>10</td>\n",
       "      <td>31</td>\n",
       "      <td>95</td>\n",
       "    </tr>\n",
       "    <tr>\n",
       "      <th>4</th>\n",
       "      <td>B225</td>\n",
       "      <td>16.3</td>\n",
       "      <td>2975</td>\n",
       "      <td>11</td>\n",
       "      <td>26</td>\n",
       "      <td>143</td>\n",
       "    </tr>\n",
       "  </tbody>\n",
       "</table>\n",
       "</div>"
      ],
      "text/plain": [
       "  Unnamed: 0   Oil  Density  Crispy  Fracture  Hardness\n",
       "0       B110  16.5     2955      10        23        97\n",
       "1       B136  17.7     2660      14         9       139\n",
       "2       B171  16.2     2870      12        17       143\n",
       "3       B192  16.7     2920      10        31        95\n",
       "4       B225  16.3     2975      11        26       143"
      ]
     },
     "execution_count": 2,
     "metadata": {},
     "output_type": "execute_result"
    }
   ],
   "source": [
    "df = pd.read_csv('food-texture.csv')\n",
    "df.head()\n"
   ]
  },
  {
   "cell_type": "markdown",
   "metadata": {},
   "source": [
    "<div class=\"alert alert-block alert-info\"><b>Exploratory Data Analysis</center></b></div> "
   ]
  },
  {
   "cell_type": "markdown",
   "metadata": {},
   "source": [
    "### Basic Info of the dataset"
   ]
  },
  {
   "cell_type": "code",
   "execution_count": 3,
   "metadata": {},
   "outputs": [
    {
     "name": "stdout",
     "output_type": "stream",
     "text": [
      "<class 'pandas.core.frame.DataFrame'>\n",
      "RangeIndex: 50 entries, 0 to 49\n",
      "Data columns (total 6 columns):\n",
      " #   Column      Non-Null Count  Dtype  \n",
      "---  ------      --------------  -----  \n",
      " 0   Unnamed: 0  50 non-null     object \n",
      " 1   Oil         50 non-null     float64\n",
      " 2   Density     50 non-null     int64  \n",
      " 3   Crispy      50 non-null     int64  \n",
      " 4   Fracture    50 non-null     int64  \n",
      " 5   Hardness    50 non-null     int64  \n",
      "dtypes: float64(1), int64(4), object(1)\n",
      "memory usage: 2.5+ KB\n"
     ]
    }
   ],
   "source": [
    "df.info()"
   ]
  },
  {
   "cell_type": "code",
   "execution_count": 4,
   "metadata": {},
   "outputs": [
    {
     "data": {
      "text/plain": [
       "0     B110\n",
       "1     B136\n",
       "2     B171\n",
       "3     B192\n",
       "4     B225\n",
       "5     B237\n",
       "6     B261\n",
       "7     B264\n",
       "8     B353\n",
       "9     B360\n",
       "10    B366\n",
       "11    B377\n",
       "12    B391\n",
       "13    B397\n",
       "14    B404\n",
       "15    B437\n",
       "16    B445\n",
       "17    B462\n",
       "18    B485\n",
       "19    B488\n",
       "20    B502\n",
       "21    B554\n",
       "22    B556\n",
       "23    B575\n",
       "24    B576\n",
       "25    B605\n",
       "26    B612\n",
       "27    B615\n",
       "28    B649\n",
       "29    B665\n",
       "30    B674\n",
       "31    B692\n",
       "32    B694\n",
       "33    B719\n",
       "34    B727\n",
       "35    B758\n",
       "36    B776\n",
       "37    B799\n",
       "38    B836\n",
       "39    B848\n",
       "40    B861\n",
       "41    B869\n",
       "42    B876\n",
       "43    B882\n",
       "44    B889\n",
       "45    B907\n",
       "46    B911\n",
       "47    B923\n",
       "48    B971\n",
       "49    B998\n",
       "Name: Unnamed: 0, dtype: object"
      ]
     },
     "execution_count": 4,
     "metadata": {},
     "output_type": "execute_result"
    }
   ],
   "source": [
    "df['Unnamed: 0']"
   ]
  },
  {
   "cell_type": "markdown",
   "metadata": {},
   "source": [
    "## Label Encoding"
   ]
  },
  {
   "cell_type": "markdown",
   "metadata": {},
   "source": [
    "### We can see there is a Column called `Unnamed: 0` which is of *object* type , we need to convert it to *numeric* type to make EDA"
   ]
  },
  {
   "cell_type": "code",
   "execution_count": 5,
   "metadata": {},
   "outputs": [
    {
     "data": {
      "text/html": [
       "<div>\n",
       "<style scoped>\n",
       "    .dataframe tbody tr th:only-of-type {\n",
       "        vertical-align: middle;\n",
       "    }\n",
       "\n",
       "    .dataframe tbody tr th {\n",
       "        vertical-align: top;\n",
       "    }\n",
       "\n",
       "    .dataframe thead th {\n",
       "        text-align: right;\n",
       "    }\n",
       "</style>\n",
       "<table border=\"1\" class=\"dataframe\">\n",
       "  <thead>\n",
       "    <tr style=\"text-align: right;\">\n",
       "      <th></th>\n",
       "      <th>Unnamed: 0</th>\n",
       "      <th>Oil</th>\n",
       "      <th>Density</th>\n",
       "      <th>Crispy</th>\n",
       "      <th>Fracture</th>\n",
       "      <th>Hardness</th>\n",
       "    </tr>\n",
       "  </thead>\n",
       "  <tbody>\n",
       "    <tr>\n",
       "      <th>0</th>\n",
       "      <td>0</td>\n",
       "      <td>16.5</td>\n",
       "      <td>2955</td>\n",
       "      <td>10</td>\n",
       "      <td>23</td>\n",
       "      <td>97</td>\n",
       "    </tr>\n",
       "    <tr>\n",
       "      <th>1</th>\n",
       "      <td>1</td>\n",
       "      <td>17.7</td>\n",
       "      <td>2660</td>\n",
       "      <td>14</td>\n",
       "      <td>9</td>\n",
       "      <td>139</td>\n",
       "    </tr>\n",
       "    <tr>\n",
       "      <th>2</th>\n",
       "      <td>2</td>\n",
       "      <td>16.2</td>\n",
       "      <td>2870</td>\n",
       "      <td>12</td>\n",
       "      <td>17</td>\n",
       "      <td>143</td>\n",
       "    </tr>\n",
       "    <tr>\n",
       "      <th>3</th>\n",
       "      <td>3</td>\n",
       "      <td>16.7</td>\n",
       "      <td>2920</td>\n",
       "      <td>10</td>\n",
       "      <td>31</td>\n",
       "      <td>95</td>\n",
       "    </tr>\n",
       "    <tr>\n",
       "      <th>4</th>\n",
       "      <td>4</td>\n",
       "      <td>16.3</td>\n",
       "      <td>2975</td>\n",
       "      <td>11</td>\n",
       "      <td>26</td>\n",
       "      <td>143</td>\n",
       "    </tr>\n",
       "  </tbody>\n",
       "</table>\n",
       "</div>"
      ],
      "text/plain": [
       "   Unnamed: 0   Oil  Density  Crispy  Fracture  Hardness\n",
       "0           0  16.5     2955      10        23        97\n",
       "1           1  17.7     2660      14         9       139\n",
       "2           2  16.2     2870      12        17       143\n",
       "3           3  16.7     2920      10        31        95\n",
       "4           4  16.3     2975      11        26       143"
      ]
     },
     "execution_count": 5,
     "metadata": {},
     "output_type": "execute_result"
    }
   ],
   "source": [
    "from sklearn.preprocessing import LabelEncoder\n",
    "le = LabelEncoder()\n",
    "df['Unnamed: 0'] = le.fit_transform(df['Unnamed: 0'])\n",
    "df.head()\n"
   ]
  },
  {
   "cell_type": "markdown",
   "metadata": {},
   "source": [
    "### Checking for Null Values"
   ]
  },
  {
   "cell_type": "code",
   "execution_count": 6,
   "metadata": {},
   "outputs": [
    {
     "data": {
      "text/plain": [
       "Unnamed: 0    0\n",
       "Oil           0\n",
       "Density       0\n",
       "Crispy        0\n",
       "Fracture      0\n",
       "Hardness      0\n",
       "dtype: int64"
      ]
     },
     "execution_count": 6,
     "metadata": {},
     "output_type": "execute_result"
    }
   ],
   "source": [
    "df.isnull().sum()"
   ]
  },
  {
   "cell_type": "markdown",
   "metadata": {},
   "source": [
    "## Summary Statistics"
   ]
  },
  {
   "cell_type": "code",
   "execution_count": 7,
   "metadata": {},
   "outputs": [
    {
     "name": "stdout",
     "output_type": "stream",
     "text": [
      "\n",
      "Summary Statistics:\n"
     ]
    },
    {
     "data": {
      "text/html": [
       "<div>\n",
       "<style scoped>\n",
       "    .dataframe tbody tr th:only-of-type {\n",
       "        vertical-align: middle;\n",
       "    }\n",
       "\n",
       "    .dataframe tbody tr th {\n",
       "        vertical-align: top;\n",
       "    }\n",
       "\n",
       "    .dataframe thead th {\n",
       "        text-align: right;\n",
       "    }\n",
       "</style>\n",
       "<table border=\"1\" class=\"dataframe\">\n",
       "  <thead>\n",
       "    <tr style=\"text-align: right;\">\n",
       "      <th></th>\n",
       "      <th>Unnamed: 0</th>\n",
       "      <th>Oil</th>\n",
       "      <th>Density</th>\n",
       "      <th>Crispy</th>\n",
       "      <th>Fracture</th>\n",
       "      <th>Hardness</th>\n",
       "    </tr>\n",
       "  </thead>\n",
       "  <tbody>\n",
       "    <tr>\n",
       "      <th>count</th>\n",
       "      <td>50.00000</td>\n",
       "      <td>50.000000</td>\n",
       "      <td>50.00000</td>\n",
       "      <td>50.000000</td>\n",
       "      <td>50.000000</td>\n",
       "      <td>50.000000</td>\n",
       "    </tr>\n",
       "    <tr>\n",
       "      <th>mean</th>\n",
       "      <td>24.50000</td>\n",
       "      <td>17.202000</td>\n",
       "      <td>2857.60000</td>\n",
       "      <td>11.520000</td>\n",
       "      <td>20.860000</td>\n",
       "      <td>128.180000</td>\n",
       "    </tr>\n",
       "    <tr>\n",
       "      <th>std</th>\n",
       "      <td>14.57738</td>\n",
       "      <td>1.592007</td>\n",
       "      <td>124.49998</td>\n",
       "      <td>1.775571</td>\n",
       "      <td>5.466073</td>\n",
       "      <td>31.127578</td>\n",
       "    </tr>\n",
       "    <tr>\n",
       "      <th>min</th>\n",
       "      <td>0.00000</td>\n",
       "      <td>13.700000</td>\n",
       "      <td>2570.00000</td>\n",
       "      <td>7.000000</td>\n",
       "      <td>9.000000</td>\n",
       "      <td>63.000000</td>\n",
       "    </tr>\n",
       "    <tr>\n",
       "      <th>25%</th>\n",
       "      <td>12.25000</td>\n",
       "      <td>16.300000</td>\n",
       "      <td>2772.50000</td>\n",
       "      <td>10.000000</td>\n",
       "      <td>17.000000</td>\n",
       "      <td>107.250000</td>\n",
       "    </tr>\n",
       "    <tr>\n",
       "      <th>50%</th>\n",
       "      <td>24.50000</td>\n",
       "      <td>16.900000</td>\n",
       "      <td>2867.50000</td>\n",
       "      <td>12.000000</td>\n",
       "      <td>21.000000</td>\n",
       "      <td>126.000000</td>\n",
       "    </tr>\n",
       "    <tr>\n",
       "      <th>75%</th>\n",
       "      <td>36.75000</td>\n",
       "      <td>18.100000</td>\n",
       "      <td>2945.00000</td>\n",
       "      <td>13.000000</td>\n",
       "      <td>25.000000</td>\n",
       "      <td>143.750000</td>\n",
       "    </tr>\n",
       "    <tr>\n",
       "      <th>max</th>\n",
       "      <td>49.00000</td>\n",
       "      <td>21.200000</td>\n",
       "      <td>3125.00000</td>\n",
       "      <td>15.000000</td>\n",
       "      <td>33.000000</td>\n",
       "      <td>192.000000</td>\n",
       "    </tr>\n",
       "  </tbody>\n",
       "</table>\n",
       "</div>"
      ],
      "text/plain": [
       "       Unnamed: 0        Oil     Density     Crispy   Fracture    Hardness\n",
       "count    50.00000  50.000000    50.00000  50.000000  50.000000   50.000000\n",
       "mean     24.50000  17.202000  2857.60000  11.520000  20.860000  128.180000\n",
       "std      14.57738   1.592007   124.49998   1.775571   5.466073   31.127578\n",
       "min       0.00000  13.700000  2570.00000   7.000000   9.000000   63.000000\n",
       "25%      12.25000  16.300000  2772.50000  10.000000  17.000000  107.250000\n",
       "50%      24.50000  16.900000  2867.50000  12.000000  21.000000  126.000000\n",
       "75%      36.75000  18.100000  2945.00000  13.000000  25.000000  143.750000\n",
       "max      49.00000  21.200000  3125.00000  15.000000  33.000000  192.000000"
      ]
     },
     "metadata": {},
     "output_type": "display_data"
    }
   ],
   "source": [
    "# Show summary statistics\n",
    "print(\"\\nSummary Statistics:\")\n",
    "display(df.describe())"
   ]
  },
  {
   "cell_type": "markdown",
   "metadata": {},
   "source": [
    "## Plotting a Histogram"
   ]
  },
  {
   "cell_type": "code",
   "execution_count": 8,
   "metadata": {},
   "outputs": [
    {
     "data": {
      "image/png": "[encoded data removed]",
      "text/plain": [
       "<Figure size 1500x1000 with 16 Axes>"
      ]
     },
     "metadata": {},
     "output_type": "display_data"
    }
   ],
   "source": [
    "# Plot histograms for each variable\n",
    "df.hist(bins=20, figsize=(15,10), layout=(4,4))\n",
    "plt.tight_layout()\n",
    "plt.show()\n"
   ]
  },
  {
   "cell_type": "markdown",
   "metadata": {},
   "source": [
    "## Creating a  Heatmap"
   ]
  },
  {
   "cell_type": "code",
   "execution_count": 9,
   "metadata": {},
   "outputs": [
    {
     "data": {
      "image/png": "[encoded data removed]",
      "text/plain": [
       "<Figure size 1200x1000 with 2 Axes>"
      ]
     },
     "metadata": {},
     "output_type": "display_data"
    }
   ],
   "source": [
    "import seaborn as sns\n",
    "corr_matrix = df.corr()\n",
    "plt.figure(figsize=(12, 10))\n",
    "sns.heatmap(corr_matrix, annot=True, cmap='coolwarm', fmt=\".2f\")\n",
    "plt.title('Correlation Matrix Heatmap')\n",
    "plt.show()\n"
   ]
  },
  {
   "cell_type": "markdown",
   "metadata": {},
   "source": [
    "## Inferences from the Correlation Matrix\n",
    "\n",
    "1. **Density vs. Hardness (r ≈ -0.84)**  \n",
    "   - There is a strong negative correlation between Density and Hardness. This implies that as the density of the food item increases, its hardness tends to decrease.\n",
    "\n",
    "2. **Oil vs. Density (r ≈ -0.75)**  \n",
    "   - Oil content is strongly negatively correlated with Density. Higher oil content is associated with lower density.\n",
    "\n",
    "3. **Density vs. Fracture (r ≈ 0.80)**  \n",
    "   - Density shows a strong positive correlation with Fracture. More dense items tend to have higher fracture values.\n",
    "\n",
    "4. **Crispy vs. Density (r ≈ -0.67)**  \n",
    "   - Crispy and Density are negatively correlated. As density goes up, crispiness generally goes down.\n",
    "\n",
    "5. **Oil vs. Crispy (r ≈ 0.59)**  \n",
    "   - Oil and Crispy are moderately positively correlated. Foods with higher oil content tend to be crispier.\n",
    "\n",
    "6. **Hardness vs. Crispy (r ≈ 0.57)**  \n",
    "   - Hardness and Crispy show a moderate positive correlation. Harder foods also tend to be somewhat crispier.\n",
    "\n",
    "7. **Hardness vs. Fracture (r ≈ -0.37)**  \n",
    "   - Hardness is negatively correlated with Fracture, though not as strongly as other pairs. This suggests that harder foods may be slightly less likely to fracture.\n",
    "\n",
    "8. **Oil vs. Hardness (r ≈ 0.57)**  \n",
    "   - Oil content is moderately positively correlated with Hardness. Foods with higher oil content may also be harder.\n",
    "\n",
    "9. **Crispy vs. Fracture (r ≈ -0.67)**  \n",
    "   - There is a moderately strong negative correlation between Crispy and Fracture. As crispiness increases, fracture tendency decreases.\n",
    "\n",
    "10. **Unnamed: 0 Column**  \n",
    "   - This column appears to be an index or identifier with no meaningful correlation to the texture attributes. Typically, this column can be dropped before further analysis as it doesn't provide useful information.\n"
   ]
  },
  {
   "cell_type": "code",
   "execution_count": 10,
   "metadata": {},
   "outputs": [],
   "source": [
    "#Drop the first column as it is not needed\n",
    "df = df.drop('Unnamed: 0', axis=1)"
   ]
  },
  {
   "cell_type": "markdown",
   "metadata": {},
   "source": [
    "## Calculate the KMO measure for sampling adequacy"
   ]
  },
  {
   "cell_type": "code",
   "execution_count": 11,
   "metadata": {},
   "outputs": [
    {
     "name": "stdout",
     "output_type": "stream",
     "text": [
      "KMO Measure:  0.7088776872864254\n"
     ]
    }
   ],
   "source": [
    "# Calculate the KMO measure for sampling adequacy\n",
    "df_clean = df\n",
    "kmo_all, kmo_model = calculate_kmo(df_clean)\n",
    "print(\"KMO Measure: \", kmo_model)\n"
   ]
  },
  {
   "cell_type": "markdown",
   "metadata": {},
   "source": [
    "## KMO Measure Inference\n",
    "\n",
    "A KMO (Kaiser-Meyer-Olkin) measure of approximately **0.689** indicates that the sampling adequacy for this dataset is acceptable for factor analysis. Generally, KMO values above **0.6** are considered acceptable, values around **0.7** or higher are considered good, and values above **0.8** are considered excellent. Hence, a KMO of **0.689** suggests that the dataset is suitable for factor analysis, though there may be some room for improvement in terms of sampling adequacy.\n"
   ]
  },
  {
   "cell_type": "markdown",
   "metadata": {},
   "source": [
    "## Initialize the FactorAnalyzer without rotation"
   ]
  },
  {
   "cell_type": "code",
   "execution_count": 12,
   "metadata": {},
   "outputs": [
    {
     "name": "stdout",
     "output_type": "stream",
     "text": [
      "Eigenvalues:\n",
      " [3.03121317 1.29570576 0.31004934 0.24192008 0.12111165]\n"
     ]
    },
    {
     "name": "stderr",
     "output_type": "stream",
     "text": [
      "c:\\Users\\abhij\\AppData\\Local\\Programs\\Python\\Python313\\Lib\\site-packages\\sklearn\\utils\\deprecation.py:151: FutureWarning: 'force_all_finite' was renamed to 'ensure_all_finite' in 1.6 and will be removed in 1.8.\n",
      "  warnings.warn(\n"
     ]
    }
   ],
   "source": [
    "# Initialize the FactorAnalyzer without rotation\n",
    "fa = FactorAnalyzer(rotation=None)\n",
    "fa.fit(df_clean)\n",
    "\n",
    "# Get eigenvalues and eigenvectors\n",
    "eigen_values, vectors = fa.get_eigenvalues()\n",
    "print(\"Eigenvalues:\\n\", eigen_values)\n"
   ]
  },
  {
   "cell_type": "markdown",
   "metadata": {},
   "source": [
    "## Eigenvalues Inference\n",
    "\n",
    "The eigenvalues obtained from the factor analysis are:\n",
    "\n",
    "- **Factor 1:** 3.06\n",
    "- **Factor 2:** 1.38\n",
    "- **Factor 3:** 0.93\n",
    "- **Factor 4:** 0.28\n",
    "- **Factor 5:** 0.24\n",
    "- **Factor 6:** 0.12\n",
    "\n",
    "### Inferences:\n",
    "\n",
    "1. **Factors with Eigenvalues > 1:**\n",
    "   - According to Kaiser’s criterion, factors with eigenvalues greater than 1 should be retained. Here, **Factor 1 (3.06)** and **Factor 2 (1.38)** meet this criterion, suggesting that a two-factor solution may be adequate to explain a significant portion of the variance in the data.\n",
    "\n",
    "2. **Borderline Factor:**\n",
    "   - **Factor 3** has an eigenvalue of **0.93**, which is close to 1. Although it doesn’t strictly meet the Kaiser criterion, its proximity to 1 indicates that it might still be worth considering, especially when supported by additional evidence (e.g., scree plot analysis or cumulative variance explained).\n",
    "\n",
    "3. **Factors Contributing Minimal Variance:**\n",
    "   - **Factors 4, 5, and 6** have very low eigenvalues (all below 0.3), indicating that these factors contribute minimally to the overall variance. These can typically be disregarded as they add little explanatory power.\n",
    "\n",
    "4. **Variance Explanation:**\n",
    "   - With Factor 1 and Factor 2 being the only factors with eigenvalues greater than 1, they are likely to capture the most meaningful underlying structure in the dataset. The first two factors explain the bulk of the variance, which supports using a two-factor model for further analysis.\n",
    "\n",
    "### Conclusion:\n",
    "Based on the eigenvalues and applying the Kaiser criterion, a two-factor model seems appropriate. However, it may be beneficial to also consider the scree plot and the cumulative variance explained to make a final decision regarding the number of factors to retain.\n"
   ]
  },
  {
   "cell_type": "code",
   "execution_count": 13,
   "metadata": {},
   "outputs": [
    {
     "data": {
      "image/png": "[encoded data removed]",
      "text/plain": [
       "<Figure size 800x400 with 1 Axes>"
      ]
     },
     "metadata": {},
     "output_type": "display_data"
    }
   ],
   "source": [
    "plt.figure(figsize=(8, 4))\n",
    "plt.scatter(range(1, df_clean.shape[1] + 1), eigen_values)\n",
    "plt.plot(range(1, df_clean.shape[1] + 1), eigen_values)\n",
    "plt.title('Scree Plot')\n",
    "plt.xlabel('Factor Number')\n",
    "plt.ylabel('Eigenvalue')\n",
    "plt.axhline(y=1, color='r', linestyle='--', label='Eigenvalue = 1')\n",
    "plt.legend()\n",
    "plt.show()\n"
   ]
  },
  {
   "cell_type": "markdown",
   "metadata": {},
   "source": [
    "## Scree Plot Inference\n",
    "\n",
    "1. **Number of Factors Above Eigenvalue = 1**  \n",
    "   - The scree plot shows that **Factor 1** (eigenvalue ≈ 3.0) and **Factor 2** (eigenvalue ≈ 1.4) exceed the threshold of 1, indicating they account for the most significant portions of variance in the dataset.\n",
    "\n",
    "2. **Borderline Factor**  \n",
    "   - **Factor 3** (eigenvalue ≈ 0.93) is just below 1. While it doesn’t strictly meet the Kaiser criterion (eigenvalue > 1), its proximity to 1 suggests it may still hold some explanatory power. Further analysis (e.g., cumulative variance, interpretability) could justify retaining a third factor.\n",
    "\n",
    "3. **Minimal Contribution Factors**  \n",
    "   - Factors 4, 5, and 6 have eigenvalues well below 1, implying they contribute little to the overall variance.\n",
    "\n",
    "4. **Elbow in the Scree Plot**  \n",
    "   - The plot reveals a noticeable drop in eigenvalues after Factor 2, supporting a **two-factor model**. However, if theoretical or interpretive considerations justify it, a **three-factor model** could also be explored.\n",
    "\n",
    "## Conclusion\n",
    "Based on the scree plot and the Kaiser criterion, retaining two factors is most supported. Depending on additional context and interpretability, you may consider including the third factor due to its eigenvalue being close to 1.\n"
   ]
  },
  {
   "cell_type": "code",
   "execution_count": 14,
   "metadata": {},
   "outputs": [
    {
     "name": "stdout",
     "output_type": "stream",
     "text": [
      "Rotated Factor Loadings:\n"
     ]
    },
    {
     "name": "stderr",
     "output_type": "stream",
     "text": [
      "c:\\Users\\abhij\\AppData\\Local\\Programs\\Python\\Python313\\Lib\\site-packages\\sklearn\\utils\\deprecation.py:151: FutureWarning: 'force_all_finite' was renamed to 'ensure_all_finite' in 1.6 and will be removed in 1.8.\n",
      "  warnings.warn(\n"
     ]
    },
    {
     "data": {
      "text/html": [
       "<div>\n",
       "<style scoped>\n",
       "    .dataframe tbody tr th:only-of-type {\n",
       "        vertical-align: middle;\n",
       "    }\n",
       "\n",
       "    .dataframe tbody tr th {\n",
       "        vertical-align: top;\n",
       "    }\n",
       "\n",
       "    .dataframe thead th {\n",
       "        text-align: right;\n",
       "    }\n",
       "</style>\n",
       "<table border=\"1\" class=\"dataframe\">\n",
       "  <thead>\n",
       "    <tr style=\"text-align: right;\">\n",
       "      <th></th>\n",
       "      <th>0</th>\n",
       "      <th>1</th>\n",
       "      <th>2</th>\n",
       "    </tr>\n",
       "  </thead>\n",
       "  <tbody>\n",
       "    <tr>\n",
       "      <th>Oil</th>\n",
       "      <td>-0.823575</td>\n",
       "      <td>-0.015859</td>\n",
       "      <td>-0.072636</td>\n",
       "    </tr>\n",
       "    <tr>\n",
       "      <th>Density</th>\n",
       "      <td>0.915514</td>\n",
       "      <td>0.019633</td>\n",
       "      <td>-0.058943</td>\n",
       "    </tr>\n",
       "    <tr>\n",
       "      <th>Crispy</th>\n",
       "      <td>-0.740768</td>\n",
       "      <td>0.646856</td>\n",
       "      <td>0.092700</td>\n",
       "    </tr>\n",
       "    <tr>\n",
       "      <th>Fracture</th>\n",
       "      <td>0.646695</td>\n",
       "      <td>-0.584672</td>\n",
       "      <td>0.143311</td>\n",
       "    </tr>\n",
       "    <tr>\n",
       "      <th>Hardness</th>\n",
       "      <td>0.101929</td>\n",
       "      <td>0.751910</td>\n",
       "      <td>0.002404</td>\n",
       "    </tr>\n",
       "  </tbody>\n",
       "</table>\n",
       "</div>"
      ],
      "text/plain": [
       "                 0         1         2\n",
       "Oil      -0.823575 -0.015859 -0.072636\n",
       "Density   0.915514  0.019633 -0.058943\n",
       "Crispy   -0.740768  0.646856  0.092700\n",
       "Fracture  0.646695 -0.584672  0.143311\n",
       "Hardness  0.101929  0.751910  0.002404"
      ]
     },
     "metadata": {},
     "output_type": "display_data"
    }
   ],
   "source": [
    "# Choose the number of factors (adjust n_factors based on your scree plot)\n",
    "n_factors = 3\n",
    "\n",
    "# Initialize the FactorAnalyzer with the chosen number of factors and Varimax rotation\n",
    "fa = FactorAnalyzer(n_factors=n_factors, rotation='varimax')\n",
    "fa.fit(df_clean)\n",
    "\n",
    "# Extract and display the rotated factor loadings\n",
    "loadings = pd.DataFrame(fa.loadings_, index=df_clean.columns)\n",
    "print(\"Rotated Factor Loadings:\")\n",
    "display(loadings)\n"
   ]
  },
  {
   "cell_type": "markdown",
   "metadata": {},
   "source": [
    "## Interpretation of the Rotated Factor Loadings\n",
    "\n",
    "\n",
    "### Key Observations\n",
    "\n",
    "1. **Factor 0 (Density vs. Crispy & Oil)**\n",
    "   - **High Positive Loadings:** Density (0.902), Fracture (0.676)  \n",
    "   - **High Negative Loadings:** Oil (-0.836), Crispy (-0.771)  \n",
    "   - **Interpretation:**  \n",
    "     - This factor differentiates items that are **dense and fracture-prone** (positive side) from those that are **oily and crispy** (negative side).  \n",
    "     - In other words, foods scoring high on this factor are denser and tend to fracture more easily, whereas foods scoring low are higher in oil content and crispiness.\n",
    "\n",
    "2. **Factor 1 (Hardness vs. Fracture)**\n",
    "   - **High Positive Loadings:** Hardness (0.775), Crispy (0.585)  \n",
    "   - **Moderate Negative Loading:** Fracture (-0.525)  \n",
    "   - **Interpretation:**  \n",
    "     - This factor seems to represent a **“Hardness–Crispy”** dimension, where higher factor scores indicate harder and somewhat crispier items, while lower scores indicate less hardness and higher fracturability.  \n",
    "     - Notably, **Crispy** has a moderate positive loading, suggesting a relationship between hardness and crispiness in this dataset.\n",
    "\n",
    "3. **Factor 2 (Index/Row Identifier)**\n",
    "   - **High Positive Loading:** Unnamed: 0 (0.994)  \n",
    "   - **Interpretation:**  \n",
    "     - The very high loading on **Unnamed: 0** (likely an index or row ID column) indicates this factor primarily captures row-level identification rather than a meaningful texture-related dimension.  \n",
    "     - This factor does **not** provide useful domain insight into the food texture attributes and often should be excluded from further interpretation.  \n",
    "\n",
    "### Overall Conclusion\n",
    "\n",
    "- **Factors 0 and 1** capture meaningful underlying structure in the data:  \n",
    "  - **Factor 0** contrasts **dense, fracture-prone foods** against **oily, crispy foods**.  \n",
    "  - **Factor 1** distinguishes **hard, somewhat crispy foods** from **less hard, more fracturable foods**.\n",
    "- **Factor 2** is driven almost entirely by the dataset’s index column and is not a substantive factor in the context of food texture.\n",
    "- For more robust insight, consider re-running the factor analysis without the `Unnamed: 0` column. This should yield two primary factors that are more interpretable and reflective of true texture characteristics.\n"
   ]
  }
 ],
 "metadata": {
  "kernelspec": {
   "display_name": "Python 3",
   "language": "python",
   "name": "python3"
  },
  "language_info": {
   "codemirror_mode": {
    "name": "ipython",
    "version": 3
   },
   "file_extension": ".py",
   "mimetype": "text/x-python",
   "name": "python",
   "nbconvert_exporter": "python",
   "pygments_lexer": "ipython3",
   "version": "3.13.2"
  }
 },
 "nbformat": 4,
 "nbformat_minor": 2
}
