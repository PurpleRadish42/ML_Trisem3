{
 "cells": [
  {
   "cell_type": "code",
   "execution_count": 13,
   "metadata": {},
   "outputs": [
    {
     "name": "stdout",
     "output_type": "stream",
     "text": [
      "DataFrame:\n",
      "         Date   Time  Temperature_Comedor_Sensor  \\\n",
      "0  13/03/2012  11:45                     18.1875   \n",
      "1  13/03/2012  12:00                     18.4633   \n",
      "2  13/03/2012  12:15                     18.7673   \n",
      "3  13/03/2012  12:30                     19.0727   \n",
      "4  13/03/2012  12:45                     19.3721   \n",
      "\n",
      "   Temperature_Habitacion_Sensor  Weather_Temperature  CO2_Comedor_Sensor  \\\n",
      "0                        17.8275                  0.0             216.560   \n",
      "1                        18.1207                  6.8             219.947   \n",
      "2                        18.4367                 17.0             219.403   \n",
      "3                        18.7513                 18.0             218.613   \n",
      "4                        19.0414                 20.0             217.714   \n",
      "\n",
      "   CO2_Habitacion_Sensor  Humedad_Comedor_Sensor  Humedad_Habitacion_Sensor  \\\n",
      "0                221.920                 39.9125                    42.4150   \n",
      "1                220.363                 39.9267                    42.2453   \n",
      "2                218.933                 39.7720                    42.2267   \n",
      "3                217.045                 39.7760                    42.0987   \n",
      "4                216.080                 39.7757                    42.0686   \n",
      "\n",
      "   Lighting_Comedor_Sensor  ...  Meteo_Exterior_Sol_Oest  \\\n",
      "0                  81.6650  ...                  9690.24   \n",
      "1                  81.7413  ...                 11022.00   \n",
      "2                  81.4240  ...                 13960.50   \n",
      "3                  81.5013  ...                 18511.20   \n",
      "4                  81.4657  ...                 26349.00   \n",
      "\n",
      "   Meteo_Exterior_Sol_Est  Meteo_Exterior_Sol_Sud  Meteo_Exterior_Piranometro  \\\n",
      "0                12604.20                 95436.8                     758.880   \n",
      "1                10787.20                 95436.8                     762.069   \n",
      "2                 9669.63                 95398.6                     766.251   \n",
      "3                 9648.13                 95360.3                     766.037   \n",
      "4                 9208.32                 95354.9                     762.743   \n",
      "\n",
      "   Exterior_Entalpic_1  Exterior_Entalpic_2  Exterior_Entalpic_turbo  \\\n",
      "0                    0                    0                        0   \n",
      "1                    0                    0                        0   \n",
      "2                    0                    0                        0   \n",
      "3                    0                    0                        0   \n",
      "4                    0                    0                        0   \n",
      "\n",
      "   Temperature_Exterior_Sensor  Humedad_Exterior_Sensor  Day_Of_Week  \n",
      "0                      18.1150                  48.3750          2.0  \n",
      "1                      18.4147                  47.8080          2.0  \n",
      "2                      18.8533                  47.4320          2.0  \n",
      "3                      19.2907                  47.0240          2.0  \n",
      "4                      19.7400                  45.4743          2.0  \n",
      "\n",
      "[5 rows x 24 columns]\n"
     ]
    },
    {
     "name": "stderr",
     "output_type": "stream",
     "text": [
      "C:\\Users\\Elvis\\AppData\\Local\\Temp\\ipykernel_31864\\1270885208.py:20: FutureWarning: The 'delim_whitespace' keyword in pd.read_csv is deprecated and will be removed in a future version. Use ``sep='\\s+'`` instead\n",
      "  df = pd.read_csv(input_file, delim_whitespace=True, comment='#', names=column_names, skiprows=1)\n"
     ]
    }
   ],
   "source": [
    "import pandas as pd\n",
    "\n",
    "# Define the file paths\n",
    "input_file = 'c:/Users/Elvis/Kaggle Project/NEW-DATA-1.T15.txt'\n",
    "\n",
    "# Read the text file\n",
    "\n",
    "\n",
    "# Maunally define the column names\n",
    "column_names = [\n",
    "    'Date', 'Time', 'Temperature_Comedor_Sensor', 'Temperature_Habitacion_Sensor', 'Weather_Temperature',\n",
    "    'CO2_Comedor_Sensor', 'CO2_Habitacion_Sensor', 'Humedad_Comedor_Sensor', 'Humedad_Habitacion_Sensor',\n",
    "    'Lighting_Comedor_Sensor', 'Lighting_Habitacion_Sensor', 'Precipitacion', 'Meteo_Exterior_Crepusculo',\n",
    "    'Meteo_Exterior_Viento', 'Meteo_Exterior_Sol_Oest', 'Meteo_Exterior_Sol_Est', 'Meteo_Exterior_Sol_Sud',\n",
    "    'Meteo_Exterior_Piranometro', 'Exterior_Entalpic_1', 'Exterior_Entalpic_2', 'Exterior_Entalpic_turbo',\n",
    "    'Temperature_Exterior_Sensor', 'Humedad_Exterior_Sensor', 'Day_Of_Week'\n",
    "]\n",
    "\n",
    "# Assuming the text file is space-separated and has a header row\n",
    "df = pd.read_csv(input_file, delim_whitespace=True, comment='#', names=column_names, skiprows=1)\n",
    "\n",
    "# Display the DataFrame to verify it was read correctly\n",
    "print(\"DataFrame:\")\n",
    "print(df.head())\n",
    "\n",
    "\n"
   ]
  },
  {
   "cell_type": "code",
   "execution_count": 14,
   "metadata": {},
   "outputs": [
    {
     "name": "stdout",
     "output_type": "stream",
     "text": [
      "\n",
      "Data types:\n",
      "Date                              object\n",
      "Time                              object\n",
      "Temperature_Comedor_Sensor       float64\n",
      "Temperature_Habitacion_Sensor    float64\n",
      "Weather_Temperature              float64\n",
      "CO2_Comedor_Sensor               float64\n",
      "CO2_Habitacion_Sensor            float64\n",
      "Humedad_Comedor_Sensor           float64\n",
      "Humedad_Habitacion_Sensor        float64\n",
      "Lighting_Comedor_Sensor          float64\n",
      "Lighting_Habitacion_Sensor       float64\n",
      "Precipitacion                    float64\n",
      "Meteo_Exterior_Crepusculo        float64\n",
      "Meteo_Exterior_Viento            float64\n",
      "Meteo_Exterior_Sol_Oest          float64\n",
      "Meteo_Exterior_Sol_Est           float64\n",
      "Meteo_Exterior_Sol_Sud           float64\n",
      "Meteo_Exterior_Piranometro       float64\n",
      "Exterior_Entalpic_1                int64\n",
      "Exterior_Entalpic_2                int64\n",
      "Exterior_Entalpic_turbo            int64\n",
      "Temperature_Exterior_Sensor      float64\n",
      "Humedad_Exterior_Sensor          float64\n",
      "Day_Of_Week                      float64\n",
      "dtype: object\n"
     ]
    }
   ],
   "source": [
    "# Check the data types of the columns\n",
    "print(\"\\nData types:\")\n",
    "print(df.dtypes)"
   ]
  },
  {
   "cell_type": "code",
   "execution_count": 15,
   "metadata": {},
   "outputs": [
    {
     "data": {
      "text/plain": [
       "Date                             0\n",
       "Time                             0\n",
       "Temperature_Comedor_Sensor       0\n",
       "Temperature_Habitacion_Sensor    0\n",
       "Weather_Temperature              0\n",
       "CO2_Comedor_Sensor               0\n",
       "CO2_Habitacion_Sensor            0\n",
       "Humedad_Comedor_Sensor           0\n",
       "Humedad_Habitacion_Sensor        0\n",
       "Lighting_Comedor_Sensor          0\n",
       "Lighting_Habitacion_Sensor       0\n",
       "Precipitacion                    0\n",
       "Meteo_Exterior_Crepusculo        0\n",
       "Meteo_Exterior_Viento            0\n",
       "Meteo_Exterior_Sol_Oest          0\n",
       "Meteo_Exterior_Sol_Est           0\n",
       "Meteo_Exterior_Sol_Sud           0\n",
       "Meteo_Exterior_Piranometro       0\n",
       "Exterior_Entalpic_1              0\n",
       "Exterior_Entalpic_2              0\n",
       "Exterior_Entalpic_turbo          0\n",
       "Temperature_Exterior_Sensor      0\n",
       "Humedad_Exterior_Sensor          0\n",
       "Day_Of_Week                      0\n",
       "dtype: int64"
      ]
     },
     "execution_count": 15,
     "metadata": {},
     "output_type": "execute_result"
    }
   ],
   "source": [
    "# Checking for missing values\n",
    "df.isnull().sum()"
   ]
  },
  {
   "cell_type": "code",
   "execution_count": 16,
   "metadata": {},
   "outputs": [
    {
     "data": {
      "text/plain": [
       "0       2.0\n",
       "1       2.0\n",
       "2       2.0\n",
       "3       2.0\n",
       "4       2.0\n",
       "       ... \n",
       "2759    3.0\n",
       "2760    3.0\n",
       "2761    3.0\n",
       "2762    3.0\n",
       "2763    3.0\n",
       "Name: Day_Of_Week, Length: 2764, dtype: float64"
      ]
     },
     "execution_count": 16,
     "metadata": {},
     "output_type": "execute_result"
    }
   ],
   "source": [
    "df['Day_Of_Week']"
   ]
  },
  {
   "cell_type": "code",
   "execution_count": 17,
   "metadata": {},
   "outputs": [
    {
     "data": {
      "text/plain": [
       "<Axes: xlabel='Precipitacion'>"
      ]
     },
     "execution_count": 17,
     "metadata": {},
     "output_type": "execute_result"
    },
    {
     "data": {
      "image/png": "[encoded data removed]",
      "text/plain": [
       "<Figure size 640x480 with 1 Axes>"
      ]
     },
     "metadata": {},
     "output_type": "display_data"
    }
   ],
   "source": [
    "import seaborn as sns\n",
    "df['Precipitacion'].value_counts().plot(kind='bar')"
   ]
  },
  {
   "cell_type": "code",
   "execution_count": 18,
   "metadata": {},
   "outputs": [
    {
     "data": {
      "text/plain": [
       "<Axes: xlabel='Precipitacion_Category'>"
      ]
     },
     "execution_count": 18,
     "metadata": {},
     "output_type": "execute_result"
    },
    {
     "data": {
      "image/png": "[encoded data removed]",
      "text/plain": [
       "<Figure size 640x480 with 1 Axes>"
      ]
     },
     "metadata": {},
     "output_type": "display_data"
    }
   ],
   "source": [
    "# Create a category of the preicipation if the probability is greater than 0.5\n",
    "df['Precipitacion_Category'] = df['Precipitacion'].apply(lambda x: 1 if x > 0.5 else 0)\n",
    "df['Precipitacion_Category'].value_counts().plot(kind='bar')"
   ]
  },
  {
   "cell_type": "code",
   "execution_count": 19,
   "metadata": {},
   "outputs": [
    {
     "data": {
      "text/plain": [
       "<Axes: xlabel='Precipitacion_Category'>"
      ]
     },
     "execution_count": 19,
     "metadata": {},
     "output_type": "execute_result"
    },
    {
     "data": {
      "image/png": "[encoded data removed]",
      "text/plain": [
       "<Figure size 640x480 with 1 Axes>"
      ]
     },
     "metadata": {},
     "output_type": "display_data"
    }
   ],
   "source": [
    "# Since the data is time series, we can use the date as the index\n",
    "# and the dataset is imbalanced, we can undersample the Majority data where the precipitation is 0\n",
    "from sklearn.utils import resample\n",
    "df_majority = df[df['Precipitacion_Category'] == 0]\n",
    "df_minority = df[df['Precipitacion_Category'] == 1]\n",
    "df_majority_downsampled = resample(df_majority, replace=False, n_samples=len(df_minority),     \n",
    "                                   random_state=123) # reproducible results\n",
    "df_downsampled = pd.concat([df_majority_downsampled, df_minority])\n",
    "df_downsampled['Precipitacion_Category'].value_counts().plot(kind='bar')"
   ]
  },
  {
   "cell_type": "code",
   "execution_count": 26,
   "metadata": {},
   "outputs": [],
   "source": [
    "df_downsampled['DateTime'] = pd.to_datetime(df_downsampled['Date'] + ' ' + df_downsampled['Time'], format='%d/%m/%Y %H:%M')\n",
    "\n",
    "# Extract date and time components\n",
    "df_downsampled['Year'] = df_downsampled['DateTime'].dt.year\n",
    "df_downsampled['Month'] = df_downsampled['DateTime'].dt.month\n",
    "df_downsampled['Day'] = df_downsampled['DateTime'].dt.day\n",
    "df_downsampled['Hour'] = df_downsampled['DateTime'].dt.hour\n",
    "df_downsampled['Minute'] = df_downsampled['DateTime'].dt.minute\n",
    "df_downsampled['Second'] = df_downsampled['DateTime'].dt.second\n",
    "df_downsampled['DayOfWeek'] = df_downsampled['DateTime'].dt.dayofweek\n",
    "\n",
    "# Drop the original 'DateTime' column\n",
    "df_downsampled.drop(columns=['DateTime'], inplace=True)\n",
    "df_downsampled.drop(columns=['Date','Time'],axis=1, inplace=True)\n",
    "\n",
    "\n"
   ]
  },
  {
   "cell_type": "code",
   "execution_count": 24,
   "metadata": {},
   "outputs": [
    {
     "data": {
      "text/plain": [
       "<Axes: xlabel='DayOfWeek'>"
      ]
     },
     "execution_count": 24,
     "metadata": {},
     "output_type": "execute_result"
    },
    {
     "data": {
      "image/png": "[encoded data removed]",
      "text/plain": [
       "<Figure size 640x480 with 1 Axes>"
      ]
     },
     "metadata": {},
     "output_type": "display_data"
    }
   ],
   "source": [
    "df_downsampled['DayOfWeek'].value_counts().plot(kind='bar')\n"
   ]
  },
  {
   "cell_type": "code",
   "execution_count": 27,
   "metadata": {},
   "outputs": [
    {
     "data": {
      "text/plain": [
       "Temperature_Comedor_Sensor       float64\n",
       "Temperature_Habitacion_Sensor    float64\n",
       "Weather_Temperature              float64\n",
       "CO2_Comedor_Sensor               float64\n",
       "CO2_Habitacion_Sensor            float64\n",
       "Humedad_Comedor_Sensor           float64\n",
       "Humedad_Habitacion_Sensor        float64\n",
       "Lighting_Comedor_Sensor          float64\n",
       "Lighting_Habitacion_Sensor       float64\n",
       "Precipitacion                    float64\n",
       "Meteo_Exterior_Crepusculo        float64\n",
       "Meteo_Exterior_Viento            float64\n",
       "Meteo_Exterior_Sol_Oest          float64\n",
       "Meteo_Exterior_Sol_Est           float64\n",
       "Meteo_Exterior_Sol_Sud           float64\n",
       "Meteo_Exterior_Piranometro       float64\n",
       "Exterior_Entalpic_1                int64\n",
       "Exterior_Entalpic_2                int64\n",
       "Exterior_Entalpic_turbo            int64\n",
       "Temperature_Exterior_Sensor      float64\n",
       "Humedad_Exterior_Sensor          float64\n",
       "Day_Of_Week                      float64\n",
       "Precipitacion_Category             int64\n",
       "Year                               int32\n",
       "Month                              int32\n",
       "Day                                int32\n",
       "Hour                               int32\n",
       "Minute                             int32\n",
       "Second                             int32\n",
       "DayOfWeek                          int32\n",
       "dtype: object"
      ]
     },
     "execution_count": 27,
     "metadata": {},
     "output_type": "execute_result"
    }
   ],
   "source": [
    "df_downsampled.dtypes   \n"
   ]
  },
  {
   "cell_type": "code",
   "execution_count": 29,
   "metadata": {},
   "outputs": [
    {
     "name": "stdout",
     "output_type": "stream",
     "text": [
      "Accuracy: 0.8867924528301887\n",
      "[[20  6]\n",
      " [ 0 27]]\n",
      "              precision    recall  f1-score   support\n",
      "\n",
      "           0       1.00      0.77      0.87        26\n",
      "           1       0.82      1.00      0.90        27\n",
      "\n",
      "    accuracy                           0.89        53\n",
      "   macro avg       0.91      0.88      0.88        53\n",
      "weighted avg       0.91      0.89      0.89        53\n",
      "\n"
     ]
    }
   ],
   "source": [
    "# Naive baysian model building\n",
    "from sklearn.model_selection import train_test_split\n",
    "from sklearn.naive_bayes import GaussianNB\n",
    "from sklearn.metrics import accuracy_score, classification_report , confusion_matrix\n",
    "X = df_downsampled.drop(['Precipitacion_Category', 'Precipitacion'], axis=1)\n",
    "y = df_downsampled['Precipitacion_Category']\n",
    "X_train, X_test, y_train, y_test = train_test_split(X, y, test_size=0.2, random_state=42)\n",
    "gnb = GaussianNB()\n",
    "gnb.fit(X_train, y_train)\n",
    "y_pred = gnb.predict(X_test)\n",
    "print(\"Accuracy:\", accuracy_score(y_test, y_pred))\n",
    "# Making the confusion matrix\n",
    "print(confusion_matrix(y_test, y_pred))\n",
    "print(classification_report(y_test, y_pred))\n"
   ]
  }
 ],
 "metadata": {
  "kernelspec": {
   "display_name": "Python 3",
   "language": "python",
   "name": "python3"
  },
  "language_info": {
   "codemirror_mode": {
    "name": "ipython",
    "version": 3
   },
   "file_extension": ".py",
   "mimetype": "text/x-python",
   "name": "python",
   "nbconvert_exporter": "python",
   "pygments_lexer": "ipython3",
   "version": "3.13.1"
  }
 },
 "nbformat": 4,
 "nbformat_minor": 2
}
