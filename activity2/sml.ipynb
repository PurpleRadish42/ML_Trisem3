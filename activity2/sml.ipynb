{
 "cells": [
  {
   "cell_type": "code",
   "execution_count": 10,
   "metadata": {},
   "outputs": [
    {
     "data": {
      "text/html": [
       "<div>\n",
       "<style scoped>\n",
       "    .dataframe tbody tr th:only-of-type {\n",
       "        vertical-align: middle;\n",
       "    }\n",
       "\n",
       "    .dataframe tbody tr th {\n",
       "        vertical-align: top;\n",
       "    }\n",
       "\n",
       "    .dataframe thead th {\n",
       "        text-align: right;\n",
       "    }\n",
       "</style>\n",
       "<table border=\"1\" class=\"dataframe\">\n",
       "  <thead>\n",
       "    <tr style=\"text-align: right;\">\n",
       "      <th></th>\n",
       "      <th>Date</th>\n",
       "      <th>Time</th>\n",
       "      <th>Temperature_Comedor_Sensor</th>\n",
       "      <th>Temperature_Habitacion_Sensor</th>\n",
       "      <th>Weather_Temperature</th>\n",
       "      <th>CO2_Comedor_Sensor</th>\n",
       "      <th>CO2_Habitacion_Sensor</th>\n",
       "      <th>Humedad_Comedor_Sensor</th>\n",
       "      <th>Humedad_Habitacion_Sensor</th>\n",
       "      <th>Lighting_Comedor_Sensor</th>\n",
       "      <th>...</th>\n",
       "      <th>Meteo_Exterior_Sol_Oest</th>\n",
       "      <th>Meteo_Exterior_Sol_Est</th>\n",
       "      <th>Meteo_Exterior_Sol_Sud</th>\n",
       "      <th>Meteo_Exterior_Piranometro</th>\n",
       "      <th>Exterior_Entalpic_1</th>\n",
       "      <th>Exterior_Entalpic_2</th>\n",
       "      <th>Exterior_Entalpic_turbo</th>\n",
       "      <th>Temperature_Exterior_Sensor</th>\n",
       "      <th>Humedad_Exterior_Sensor</th>\n",
       "      <th>Day_Of_Week</th>\n",
       "    </tr>\n",
       "  </thead>\n",
       "  <tbody>\n",
       "    <tr>\n",
       "      <th>0</th>\n",
       "      <td>13-03-2012</td>\n",
       "      <td>11:45</td>\n",
       "      <td>18.1875</td>\n",
       "      <td>17.8275</td>\n",
       "      <td>0.0</td>\n",
       "      <td>216.560</td>\n",
       "      <td>221.920</td>\n",
       "      <td>39.9125</td>\n",
       "      <td>42.4150</td>\n",
       "      <td>81.6650</td>\n",
       "      <td>...</td>\n",
       "      <td>9690.24</td>\n",
       "      <td>12604.20</td>\n",
       "      <td>95436.8</td>\n",
       "      <td>758.880</td>\n",
       "      <td>0</td>\n",
       "      <td>0</td>\n",
       "      <td>0</td>\n",
       "      <td>18.1150</td>\n",
       "      <td>48.3750</td>\n",
       "      <td>2.0</td>\n",
       "    </tr>\n",
       "    <tr>\n",
       "      <th>1</th>\n",
       "      <td>13-03-2012</td>\n",
       "      <td>12:00</td>\n",
       "      <td>18.4633</td>\n",
       "      <td>18.1207</td>\n",
       "      <td>6.8</td>\n",
       "      <td>219.947</td>\n",
       "      <td>220.363</td>\n",
       "      <td>39.9267</td>\n",
       "      <td>42.2453</td>\n",
       "      <td>81.7413</td>\n",
       "      <td>...</td>\n",
       "      <td>11022.00</td>\n",
       "      <td>10787.20</td>\n",
       "      <td>95436.8</td>\n",
       "      <td>762.069</td>\n",
       "      <td>0</td>\n",
       "      <td>0</td>\n",
       "      <td>0</td>\n",
       "      <td>18.4147</td>\n",
       "      <td>47.8080</td>\n",
       "      <td>2.0</td>\n",
       "    </tr>\n",
       "    <tr>\n",
       "      <th>2</th>\n",
       "      <td>13-03-2012</td>\n",
       "      <td>12:15</td>\n",
       "      <td>18.7673</td>\n",
       "      <td>18.4367</td>\n",
       "      <td>17.0</td>\n",
       "      <td>219.403</td>\n",
       "      <td>218.933</td>\n",
       "      <td>39.7720</td>\n",
       "      <td>42.2267</td>\n",
       "      <td>81.4240</td>\n",
       "      <td>...</td>\n",
       "      <td>13960.50</td>\n",
       "      <td>9669.63</td>\n",
       "      <td>95398.6</td>\n",
       "      <td>766.251</td>\n",
       "      <td>0</td>\n",
       "      <td>0</td>\n",
       "      <td>0</td>\n",
       "      <td>18.8533</td>\n",
       "      <td>47.4320</td>\n",
       "      <td>2.0</td>\n",
       "    </tr>\n",
       "    <tr>\n",
       "      <th>3</th>\n",
       "      <td>13-03-2012</td>\n",
       "      <td>12:30</td>\n",
       "      <td>19.0727</td>\n",
       "      <td>18.7513</td>\n",
       "      <td>18.0</td>\n",
       "      <td>218.613</td>\n",
       "      <td>217.045</td>\n",
       "      <td>39.7760</td>\n",
       "      <td>42.0987</td>\n",
       "      <td>81.5013</td>\n",
       "      <td>...</td>\n",
       "      <td>18511.20</td>\n",
       "      <td>9648.13</td>\n",
       "      <td>95360.3</td>\n",
       "      <td>766.037</td>\n",
       "      <td>0</td>\n",
       "      <td>0</td>\n",
       "      <td>0</td>\n",
       "      <td>19.2907</td>\n",
       "      <td>47.0240</td>\n",
       "      <td>2.0</td>\n",
       "    </tr>\n",
       "    <tr>\n",
       "      <th>4</th>\n",
       "      <td>13-03-2012</td>\n",
       "      <td>12:45</td>\n",
       "      <td>19.3721</td>\n",
       "      <td>19.0414</td>\n",
       "      <td>20.0</td>\n",
       "      <td>217.714</td>\n",
       "      <td>216.080</td>\n",
       "      <td>39.7757</td>\n",
       "      <td>42.0686</td>\n",
       "      <td>81.4657</td>\n",
       "      <td>...</td>\n",
       "      <td>26349.00</td>\n",
       "      <td>9208.32</td>\n",
       "      <td>95354.9</td>\n",
       "      <td>762.743</td>\n",
       "      <td>0</td>\n",
       "      <td>0</td>\n",
       "      <td>0</td>\n",
       "      <td>19.7400</td>\n",
       "      <td>45.4743</td>\n",
       "      <td>2.0</td>\n",
       "    </tr>\n",
       "  </tbody>\n",
       "</table>\n",
       "<p>5 rows × 24 columns</p>\n",
       "</div>"
      ],
      "text/plain": [
       "         Date   Time  Temperature_Comedor_Sensor  \\\n",
       "0  13-03-2012  11:45                     18.1875   \n",
       "1  13-03-2012  12:00                     18.4633   \n",
       "2  13-03-2012  12:15                     18.7673   \n",
       "3  13-03-2012  12:30                     19.0727   \n",
       "4  13-03-2012  12:45                     19.3721   \n",
       "\n",
       "   Temperature_Habitacion_Sensor  Weather_Temperature  CO2_Comedor_Sensor  \\\n",
       "0                        17.8275                  0.0             216.560   \n",
       "1                        18.1207                  6.8             219.947   \n",
       "2                        18.4367                 17.0             219.403   \n",
       "3                        18.7513                 18.0             218.613   \n",
       "4                        19.0414                 20.0             217.714   \n",
       "\n",
       "   CO2_Habitacion_Sensor  Humedad_Comedor_Sensor  Humedad_Habitacion_Sensor  \\\n",
       "0                221.920                 39.9125                    42.4150   \n",
       "1                220.363                 39.9267                    42.2453   \n",
       "2                218.933                 39.7720                    42.2267   \n",
       "3                217.045                 39.7760                    42.0987   \n",
       "4                216.080                 39.7757                    42.0686   \n",
       "\n",
       "   Lighting_Comedor_Sensor  ...  Meteo_Exterior_Sol_Oest  \\\n",
       "0                  81.6650  ...                  9690.24   \n",
       "1                  81.7413  ...                 11022.00   \n",
       "2                  81.4240  ...                 13960.50   \n",
       "3                  81.5013  ...                 18511.20   \n",
       "4                  81.4657  ...                 26349.00   \n",
       "\n",
       "   Meteo_Exterior_Sol_Est  Meteo_Exterior_Sol_Sud  Meteo_Exterior_Piranometro  \\\n",
       "0                12604.20                 95436.8                     758.880   \n",
       "1                10787.20                 95436.8                     762.069   \n",
       "2                 9669.63                 95398.6                     766.251   \n",
       "3                 9648.13                 95360.3                     766.037   \n",
       "4                 9208.32                 95354.9                     762.743   \n",
       "\n",
       "   Exterior_Entalpic_1  Exterior_Entalpic_2  Exterior_Entalpic_turbo  \\\n",
       "0                    0                    0                        0   \n",
       "1                    0                    0                        0   \n",
       "2                    0                    0                        0   \n",
       "3                    0                    0                        0   \n",
       "4                    0                    0                        0   \n",
       "\n",
       "   Temperature_Exterior_Sensor  Humedad_Exterior_Sensor  Day_Of_Week  \n",
       "0                      18.1150                  48.3750          2.0  \n",
       "1                      18.4147                  47.8080          2.0  \n",
       "2                      18.8533                  47.4320          2.0  \n",
       "3                      19.2907                  47.0240          2.0  \n",
       "4                      19.7400                  45.4743          2.0  \n",
       "\n",
       "[5 rows x 24 columns]"
      ]
     },
     "execution_count": 10,
     "metadata": {},
     "output_type": "execute_result"
    }
   ],
   "source": [
    "import pandas as pd\n",
    "\n",
    "# Define the file paths\n",
    "input_file = 'SML.csv'\n",
    "\n",
    "# Read the text file\n",
    "\n",
    "\n",
    "# Maunally define the column names\n",
    "# column_names = [\n",
    "#     'Date', 'Time', 'Temperature_Comedor_Sensor', 'Temperature_Habitacion_Sensor', 'Weather_Temperature',\n",
    "#     'CO2_Comedor_Sensor', 'CO2_Habitacion_Sensor', 'Humedad_Comedor_Sensor', 'Humedad_Habitacion_Sensor',\n",
    "#     'Lighting_Comedor_Sensor', 'Lighting_Habitacion_Sensor', 'Precipitacion', 'Meteo_Exterior_Crepusculo',\n",
    "#     'Meteo_Exterior_Viento', 'Meteo_Exterior_Sol_Oest', 'Meteo_Exterior_Sol_Est', 'Meteo_Exterior_Sol_Sud',\n",
    "#     'Meteo_Exterior_Piranometro', 'Exterior_Entalpic_1', 'Exterior_Entalpic_2', 'Exterior_Entalpic_turbo',\n",
    "#     'Temperature_Exterior_Sensor', 'Humedad_Exterior_Sensor', 'Day_Of_Week'\n",
    "# ]\n",
    "\n",
    "# Assuming the text file is space-separated and has a header row\n",
    "df = pd.read_csv(input_file)\n",
    "\n",
    "# Display the DataFrame to verify it was read correctly\n",
    "# print(\"DataFrame:\")\n",
    "df.head()\n",
    "\n",
    "\n"
   ]
  },
  {
   "cell_type": "code",
   "execution_count": 11,
   "metadata": {},
   "outputs": [
    {
     "name": "stdout",
     "output_type": "stream",
     "text": [
      "\n",
      "Data types:\n",
      "Date                              object\n",
      "Time                              object\n",
      "Temperature_Comedor_Sensor       float64\n",
      "Temperature_Habitacion_Sensor    float64\n",
      "Weather_Temperature              float64\n",
      "CO2_Comedor_Sensor               float64\n",
      "CO2_Habitacion_Sensor            float64\n",
      "Humedad_Comedor_Sensor           float64\n",
      "Humedad_Habitacion_Sensor        float64\n",
      "Lighting_Comedor_Sensor          float64\n",
      "Lighting_Habitacion_Sensor       float64\n",
      "Precipitacion                    float64\n",
      "Meteo_Exterior_Crepusculo        float64\n",
      "Meteo_Exterior_Viento            float64\n",
      "Meteo_Exterior_Sol_Oest          float64\n",
      "Meteo_Exterior_Sol_Est           float64\n",
      "Meteo_Exterior_Sol_Sud           float64\n",
      "Meteo_Exterior_Piranometro       float64\n",
      "Exterior_Entalpic_1                int64\n",
      "Exterior_Entalpic_2                int64\n",
      "Exterior_Entalpic_turbo            int64\n",
      "Temperature_Exterior_Sensor      float64\n",
      "Humedad_Exterior_Sensor          float64\n",
      "Day_Of_Week                      float64\n",
      "dtype: object\n"
     ]
    }
   ],
   "source": [
    "# Check the data types of the columns\n",
    "print(\"\\nData types:\")\n",
    "print(df.dtypes)"
   ]
  },
  {
   "cell_type": "code",
   "execution_count": 12,
   "metadata": {},
   "outputs": [
    {
     "data": {
      "text/plain": [
       "Date                             0\n",
       "Time                             0\n",
       "Temperature_Comedor_Sensor       0\n",
       "Temperature_Habitacion_Sensor    0\n",
       "Weather_Temperature              0\n",
       "CO2_Comedor_Sensor               0\n",
       "CO2_Habitacion_Sensor            0\n",
       "Humedad_Comedor_Sensor           0\n",
       "Humedad_Habitacion_Sensor        0\n",
       "Lighting_Comedor_Sensor          0\n",
       "Lighting_Habitacion_Sensor       0\n",
       "Precipitacion                    0\n",
       "Meteo_Exterior_Crepusculo        0\n",
       "Meteo_Exterior_Viento            0\n",
       "Meteo_Exterior_Sol_Oest          0\n",
       "Meteo_Exterior_Sol_Est           0\n",
       "Meteo_Exterior_Sol_Sud           0\n",
       "Meteo_Exterior_Piranometro       0\n",
       "Exterior_Entalpic_1              0\n",
       "Exterior_Entalpic_2              0\n",
       "Exterior_Entalpic_turbo          0\n",
       "Temperature_Exterior_Sensor      0\n",
       "Humedad_Exterior_Sensor          0\n",
       "Day_Of_Week                      0\n",
       "dtype: int64"
      ]
     },
     "execution_count": 12,
     "metadata": {},
     "output_type": "execute_result"
    }
   ],
   "source": [
    "# Checking for missing values\n",
    "df.isnull().sum()"
   ]
  },
  {
   "cell_type": "code",
   "execution_count": 13,
   "metadata": {},
   "outputs": [
    {
     "data": {
      "text/plain": [
       "0       2.0\n",
       "1       2.0\n",
       "2       2.0\n",
       "3       2.0\n",
       "4       2.0\n",
       "       ... \n",
       "4132    3.0\n",
       "4133    3.0\n",
       "4134    3.0\n",
       "4135    3.0\n",
       "4136    3.0\n",
       "Name: Day_Of_Week, Length: 4137, dtype: float64"
      ]
     },
     "execution_count": 13,
     "metadata": {},
     "output_type": "execute_result"
    }
   ],
   "source": [
    "df['Day_Of_Week']"
   ]
  },
  {
   "cell_type": "code",
   "execution_count": 14,
   "metadata": {},
   "outputs": [
    {
     "data": {
      "text/plain": [
       "<Axes: xlabel='Precipitacion'>"
      ]
     },
     "execution_count": 14,
     "metadata": {},
     "output_type": "execute_result"
    },
    {
     "data": {
      "image/png": "[encoded data removed]",
      "text/plain": [
       "<Figure size 640x480 with 1 Axes>"
      ]
     },
     "metadata": {},
     "output_type": "display_data"
    }
   ],
   "source": [
    "import seaborn as sns\n",
    "df['Precipitacion'].value_counts().plot(kind='bar')"
   ]
  },
  {
   "cell_type": "code",
   "execution_count": 15,
   "metadata": {},
   "outputs": [
    {
     "data": {
      "text/plain": [
       "<Axes: xlabel='Precipitacion_Category'>"
      ]
     },
     "execution_count": 15,
     "metadata": {},
     "output_type": "execute_result"
    },
    {
     "data": {
      "image/png": "[encoded data removed]",
      "text/plain": [
       "<Figure size 640x480 with 1 Axes>"
      ]
     },
     "metadata": {},
     "output_type": "display_data"
    }
   ],
   "source": [
    "# Create a category of the preicipation if the probability is greater than 0.5\n",
    "df['Precipitacion_Category'] = df['Precipitacion'].apply(lambda x: 1 if x > 0.5 else 0)\n",
    "df['Precipitacion_Category'].value_counts().plot(kind='bar')"
   ]
  },
  {
   "cell_type": "code",
   "execution_count": 16,
   "metadata": {},
   "outputs": [
    {
     "data": {
      "text/plain": [
       "<Axes: xlabel='Precipitacion_Category'>"
      ]
     },
     "execution_count": 16,
     "metadata": {},
     "output_type": "execute_result"
    },
    {
     "data": {
      "image/png": "[encoded data removed]",
      "text/plain": [
       "<Figure size 640x480 with 1 Axes>"
      ]
     },
     "metadata": {},
     "output_type": "display_data"
    }
   ],
   "source": [
    "# Since the data is time series, we can use the date as the index\n",
    "# and the dataset is imbalanced, we can undersample the Majority data where the precipitation is 0\n",
    "from sklearn.utils import resample\n",
    "df_majority = df[df['Precipitacion_Category'] == 0]\n",
    "df_minority = df[df['Precipitacion_Category'] == 1]\n",
    "df_majority_downsampled = resample(df_majority, replace=False, n_samples=len(df_minority),     \n",
    "                                   random_state=123) # reproducible results\n",
    "df_downsampled = pd.concat([df_majority_downsampled, df_minority])\n",
    "df_downsampled['Precipitacion_Category'].value_counts().plot(kind='bar')"
   ]
  },
  {
   "cell_type": "code",
   "execution_count": 17,
   "metadata": {},
   "outputs": [],
   "source": [
    "df_downsampled['DateTime'] = pd.to_datetime(df_downsampled['Date'] + ' ' + df_downsampled['Time'], format='mixed')\n",
    "\n",
    "# Extract date and time components\n",
    "df_downsampled['Year'] = df_downsampled['DateTime'].dt.year\n",
    "df_downsampled['Month'] = df_downsampled['DateTime'].dt.month\n",
    "df_downsampled['Day'] = df_downsampled['DateTime'].dt.day\n",
    "df_downsampled['Hour'] = df_downsampled['DateTime'].dt.hour\n",
    "df_downsampled['Minute'] = df_downsampled['DateTime'].dt.minute\n",
    "df_downsampled['Second'] = df_downsampled['DateTime'].dt.second\n",
    "df_downsampled['DayOfWeek'] = df_downsampled['DateTime'].dt.dayofweek\n",
    "\n",
    "# Drop the original 'DateTime' column\n",
    "df_downsampled.drop(columns=['DateTime'], inplace=True)\n",
    "df_downsampled.drop(columns=['Date','Time'],axis=1, inplace=True)\n",
    "\n",
    "\n"
   ]
  },
  {
   "cell_type": "code",
   "execution_count": 18,
   "metadata": {},
   "outputs": [
    {
     "data": {
      "text/plain": [
       "<Axes: xlabel='DayOfWeek'>"
      ]
     },
     "execution_count": 18,
     "metadata": {},
     "output_type": "execute_result"
    },
    {
     "data": {
      "image/png": "[encoded data removed]",
      "text/plain": [
       "<Figure size 640x480 with 1 Axes>"
      ]
     },
     "metadata": {},
     "output_type": "display_data"
    }
   ],
   "source": [
    "df_downsampled['DayOfWeek'].value_counts().plot(kind='bar')\n"
   ]
  },
  {
   "cell_type": "code",
   "execution_count": 19,
   "metadata": {},
   "outputs": [
    {
     "data": {
      "text/plain": [
       "Temperature_Comedor_Sensor       float64\n",
       "Temperature_Habitacion_Sensor    float64\n",
       "Weather_Temperature              float64\n",
       "CO2_Comedor_Sensor               float64\n",
       "CO2_Habitacion_Sensor            float64\n",
       "Humedad_Comedor_Sensor           float64\n",
       "Humedad_Habitacion_Sensor        float64\n",
       "Lighting_Comedor_Sensor          float64\n",
       "Lighting_Habitacion_Sensor       float64\n",
       "Precipitacion                    float64\n",
       "Meteo_Exterior_Crepusculo        float64\n",
       "Meteo_Exterior_Viento            float64\n",
       "Meteo_Exterior_Sol_Oest          float64\n",
       "Meteo_Exterior_Sol_Est           float64\n",
       "Meteo_Exterior_Sol_Sud           float64\n",
       "Meteo_Exterior_Piranometro       float64\n",
       "Exterior_Entalpic_1                int64\n",
       "Exterior_Entalpic_2                int64\n",
       "Exterior_Entalpic_turbo            int64\n",
       "Temperature_Exterior_Sensor      float64\n",
       "Humedad_Exterior_Sensor          float64\n",
       "Day_Of_Week                      float64\n",
       "Precipitacion_Category             int64\n",
       "Year                               int32\n",
       "Month                              int32\n",
       "Day                                int32\n",
       "Hour                               int32\n",
       "Minute                             int32\n",
       "Second                             int32\n",
       "DayOfWeek                          int32\n",
       "dtype: object"
      ]
     },
     "execution_count": 19,
     "metadata": {},
     "output_type": "execute_result"
    }
   ],
   "source": [
    "df_downsampled.dtypes   \n"
   ]
  },
  {
   "cell_type": "code",
   "execution_count": null,
   "metadata": {},
   "outputs": [
    {
     "name": "stdout",
     "output_type": "stream",
     "text": [
      "Accuracy: 0.8\n",
      "[[23 11]\n",
      " [ 2 29]]\n",
      "              precision    recall  f1-score   support\n",
      "\n",
      "           0       0.92      0.68      0.78        34\n",
      "           1       0.72      0.94      0.82        31\n",
      "\n",
      "    accuracy                           0.80        65\n",
      "   macro avg       0.82      0.81      0.80        65\n",
      "weighted avg       0.83      0.80      0.80        65\n",
      "\n"
     ]
    }
   ],
   "source": [
    "# Naive baysian model building\n",
    "from sklearn.model_selection import train_test_split\n",
    "from sklearn.naive_bayes import GaussianNB\n",
    "from sklearn.metrics import accuracy_score, classification_report , confusion_matrix\n",
    "X = df_downsampled.drop(['Precipitacion_Category', 'Precipitacion'], axis=1)\n",
    "y = df_downsampled['Precipitacion_Category']\n",
    "X_train, X_test, y_train, y_test = train_test_split(X, y, test_size=0.2, random_state=42)\n",
    "gnb = GaussianNB()\n",
    "gnb.fit(X_train, y_train)\n",
    "y_pred = gnb.predict(X_test)\n",
    "print(\"Accuracy:\", accuracy_score(y_test, y_pred))\n",
    "# Making the confusion matrix\n",
    "print(confusion_matrix(y_test, y_pred))\n",
    "print(classification_report(y_test, y_pred))\n"
   ]
  }
 ],
 "metadata": {
  "kernelspec": {
   "display_name": "Python 3",
   "language": "python",
   "name": "python3"
  },
  "language_info": {
   "codemirror_mode": {
    "name": "ipython",
    "version": 3
   },
   "file_extension": ".py",
   "mimetype": "text/x-python",
   "name": "python",
   "nbconvert_exporter": "python",
   "pygments_lexer": "ipython3",
   "version": "3.13.0"
  }
 },
 "nbformat": 4,
 "nbformat_minor": 2
}
