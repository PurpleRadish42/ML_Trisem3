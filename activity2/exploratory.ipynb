{
 "cells": [
  {
   "cell_type": "code",
   "execution_count": 1,
   "metadata": {},
   "outputs": [
    {
     "name": "stdout",
     "output_type": "stream",
     "text": [
      "{'uci_id': 3, 'name': 'Annealing', 'repository_url': 'https://archive.ics.uci.edu/dataset/3/annealing', 'data_url': 'https://archive.ics.uci.edu/static/public/3/data.csv', 'abstract': 'Steel annealing data', 'area': 'Physics and Chemistry', 'tasks': ['Classification'], 'characteristics': ['Multivariate'], 'num_instances': 798, 'num_features': 38, 'feature_types': ['Categorical', 'Integer', 'Real'], 'demographics': [], 'target_col': ['class'], 'index_col': None, 'has_missing_values': 'yes', 'missing_values_symbol': 'NaN', 'year_of_dataset_creation': None, 'last_updated': 'Mon Dec 23 2024', 'dataset_doi': '10.24432/C5RW2F', 'creators': [], 'intro_paper': None, 'additional_info': {'summary': \"Attribute Listing:\\n    1. family:          --,GB,GK,GS,TN,ZA,ZF,ZH,ZM,ZS\\n    2. product-type:    C, H, G\\n    3. steel:           -,R,A,U,K,M,S,W,V\\n    4. carbon:          continuous\\n    5. hardness:        continuous\\n    6. temper_rolling:  -,T\\n    7. condition:       -,S,A,X\\n    8. formability:     -,1,2,3,4,5\\n    9. strength:        continuous\\n   10. non-ageing:      -,N\\n   11. surface-finish:  P,M,-\\n   12. surface-quality: -,D,E,F,G\\n   13. enamelability:   -,1,2,3,4,5\\n   14. bc:              Y,-\\n   15. bf:              Y,-\\n   16. bt:              Y,-\\n   17. bw/me:           B,M,-\\n   18. bl:              Y,-\\n   19. m:               Y,-\\n   20. chrom:           C,-\\n   21. phos:            P,-\\n   22. cbond:           Y,-\\n   23. marvi:           Y,-\\n   24. exptl:           Y,-\\n   25. ferro:           Y,-\\n   26. corr:            Y,-\\n   27. blue/bright/varn/clean:          B,R,V,C,-\\n   28. lustre:          Y,-\\n   29. jurofm:          Y,-\\n   30. s:               Y,-\\n   31. p:               Y,-\\n   32. shape:           COIL, SHEET\\n   33. thick:           continuous\\n   34. width:           continuous\\n   35. len:             continuous\\n   36. oil:             -,Y,N\\n   37. bore:            0000,0500,0600,0760\\n   38. packing: -,1,2,3\\n   classes:        1,2,3,4,5,U\\n\\n   -- The '-' values are actually 'not_applicable' values rather than 'missing_values' (and so can be treated as legal discrete values rather than as showing the absence of a discrete value).\", 'purpose': None, 'funded_by': None, 'instances_represent': None, 'recommended_data_splits': None, 'sensitive_data': None, 'preprocessing_description': None, 'variable_info': \"Attribute Listing:\\r\\n    1. family:\\t\\t--,GB,GK,GS,TN,ZA,ZF,ZH,ZM,ZS\\r\\n    2. product-type:\\tC, H, G\\r\\n    3. steel:\\t\\t-,R,A,U,K,M,S,W,V\\r\\n    4. carbon:\\t\\tcontinuous\\r\\n    5. hardness:\\tcontinuous\\r\\n    6. temper_rolling:\\t-,T\\r\\n    7. condition:\\t-,S,A,X\\r\\n    8. formability:\\t-,1,2,3,4,5\\r\\n    9. strength:\\tcontinuous\\r\\n   10. non-ageing:\\t-,N\\r\\n   11. surface-finish:\\tP,M,-\\r\\n   12. surface-quality: -,D,E,F,G\\r\\n   13. enamelability:\\t-,1,2,3,4,5\\r\\n   14. bc:\\t\\tY,-\\r\\n   15. bf:\\t\\tY,-\\r\\n   16. bt:\\t\\tY,-\\r\\n   17. bw/me:\\t\\tB,M,-\\r\\n   18. bl:\\t\\tY,-\\r\\n   19. m:\\t\\tY,-\\r\\n   20. chrom:\\t\\tC,-\\r\\n   21. phos:\\t\\tP,-\\r\\n   22. cbond:\\t\\tY,-\\r\\n   23. marvi:\\t\\tY,-\\r\\n   24. exptl:\\t\\tY,-\\r\\n   25. ferro:\\t\\tY,-\\r\\n   26. corr:\\t\\tY,-\\r\\n   27. blue/bright/varn/clean:\\t\\tB,R,V,C,-\\r\\n   28. lustre:\\t\\tY,-\\r\\n   29. jurofm:\\t\\tY,-\\r\\n   30. s:\\t\\tY,-\\r\\n   31. p:\\t\\tY,-\\r\\n   32. shape:\\t\\tCOIL, SHEET\\r\\n   33. thick:\\t\\tcontinuous\\r\\n   34. width:\\t\\tcontinuous\\r\\n   35. len:\\t\\tcontinuous\\r\\n   36. oil:\\t\\t-,Y,N\\r\\n   37. bore:\\t\\t0000,0500,0600,0760\\r\\n   38. packing:\\t-,1,2,3\\r\\n   classes:        1,2,3,4,5,U\\r\\n \\r\\n   -- The '-' values are actually 'not_applicable' values rather than 'missing_values' (and so can be treated as legal discrete values rather than as showing the absence of a discrete value).\", 'citation': None}}\n",
      "                      name     role         type demographic description  \\\n",
      "0                  famiily  Feature  Categorical        None        None   \n",
      "1             product-type  Feature  Categorical        None        None   \n",
      "2                    steel  Feature  Categorical        None        None   \n",
      "3                   carbon  Feature      Integer        None        None   \n",
      "4                 hardness  Feature      Integer        None        None   \n",
      "5           temper-rolling  Feature  Categorical        None        None   \n",
      "6                condition  Feature  Categorical        None        None   \n",
      "7              formability  Feature      Integer        None        None   \n",
      "8                 strength  Feature      Integer        None        None   \n",
      "9               non-ageing  Feature  Categorical        None        None   \n",
      "10          surface-finish  Feature  Categorical        None        None   \n",
      "11         surface-quality  Feature  Categorical        None        None   \n",
      "12           enamelability  Feature      Integer        None        None   \n",
      "13                      bc  Feature  Categorical        None        None   \n",
      "14                      bf  Feature  Categorical        None        None   \n",
      "15                      bt  Feature  Categorical        None        None   \n",
      "16                   bw/me  Feature  Categorical        None        None   \n",
      "17                      bl  Feature  Categorical        None        None   \n",
      "18                       m  Feature  Categorical        None        None   \n",
      "19                   chrom  Feature  Categorical        None        None   \n",
      "20                    phos  Feature  Categorical        None        None   \n",
      "21                   cbond  Feature  Categorical        None        None   \n",
      "22                   marvi  Feature  Categorical        None        None   \n",
      "23                   exptl  Feature  Categorical        None        None   \n",
      "24                   ferro  Feature  Categorical        None        None   \n",
      "25                    corr  Feature  Categorical        None        None   \n",
      "26  blue/bright/varn/clean  Feature  Categorical        None        None   \n",
      "27                  lustre  Feature  Categorical        None        None   \n",
      "28                  jurofm  Feature  Categorical        None        None   \n",
      "29                       s  Feature  Categorical        None        None   \n",
      "30                       p  Feature  Categorical        None        None   \n",
      "31                   shape  Feature  Categorical        None        None   \n",
      "32                   thick  Feature   Continuous        None        None   \n",
      "33                   width  Feature   Continuous        None        None   \n",
      "34                     len  Feature      Integer        None        None   \n",
      "35                     oil  Feature  Categorical        None        None   \n",
      "36                    bore  Feature      Integer        None        None   \n",
      "37                 packing  Feature      Integer        None        None   \n",
      "38                   class   Target  Categorical        None        None   \n",
      "\n",
      "   units missing_values  \n",
      "0   None            yes  \n",
      "1   None             no  \n",
      "2   None            yes  \n",
      "3   None             no  \n",
      "4   None             no  \n",
      "5   None            yes  \n",
      "6   None            yes  \n",
      "7   None            yes  \n",
      "8   None             no  \n",
      "9   None            yes  \n",
      "10  None            yes  \n",
      "11  None            yes  \n",
      "12  None            yes  \n",
      "13  None            yes  \n",
      "14  None            yes  \n",
      "15  None            yes  \n",
      "16  None            yes  \n",
      "17  None            yes  \n",
      "18  None            yes  \n",
      "19  None            yes  \n",
      "20  None            yes  \n",
      "21  None            yes  \n",
      "22  None            yes  \n",
      "23  None            yes  \n",
      "24  None            yes  \n",
      "25  None            yes  \n",
      "26  None            yes  \n",
      "27  None            yes  \n",
      "28  None            yes  \n",
      "29  None            yes  \n",
      "30  None            yes  \n",
      "31  None             no  \n",
      "32  None             no  \n",
      "33  None             no  \n",
      "34  None             no  \n",
      "35  None            yes  \n",
      "36  None             no  \n",
      "37  None            yes  \n",
      "38  None             no  \n"
     ]
    }
   ],
   "source": [
    "from ucimlrepo import fetch_ucirepo \n",
    "  \n",
    "# fetch dataset \n",
    "annealing = fetch_ucirepo(id=3) \n",
    "  \n",
    "# data (as pandas dataframes)\n",
    "X = annealing.data.features \n",
    "y = annealing.data.targets \n",
    "  \n",
    "# metadata \n",
    "print(annealing.metadata) \n",
    "  \n",
    "# variable information \n",
    "print(annealing.variables)\n"
   ]
  },
  {
   "cell_type": "code",
   "execution_count": 2,
   "metadata": {},
   "outputs": [
    {
     "data": {
      "text/plain": [
       "ucimlrepo.dotdict.dotdict"
      ]
     },
     "execution_count": 2,
     "metadata": {},
     "output_type": "execute_result"
    }
   ],
   "source": [
    "type(annealing)"
   ]
  },
  {
   "cell_type": "code",
   "execution_count": 3,
   "metadata": {},
   "outputs": [
    {
     "name": "stdout",
     "output_type": "stream",
     "text": [
      "Dataset saved to annealing_dataset.csv\n"
     ]
    }
   ],
   "source": [
    "import pandas as pd\n",
    "from ucimlrepo import fetch_ucirepo\n",
    "\n",
    "# Fetch dataset\n",
    "annealing = fetch_ucirepo(id=3)\n",
    "\n",
    "# Extract features and target\n",
    "X = annealing.data.features\n",
    "y = annealing.data.targets\n",
    "\n",
    "# Combine features and target into a single DataFrame\n",
    "df = pd.concat([X, y], axis=1)\n",
    "\n",
    "# Save to a CSV file\n",
    "df.to_csv(\"annealing_dataset.csv\", index=False)\n",
    "\n",
    "print(\"Dataset saved to annealing_dataset.csv\")"
   ]
  },
  {
   "cell_type": "code",
   "execution_count": null,
   "metadata": {},
   "outputs": [],
   "source": []
  }
 ],
 "metadata": {
  "kernelspec": {
   "display_name": "Python 3",
   "language": "python",
   "name": "python3"
  },
  "language_info": {
   "codemirror_mode": {
    "name": "ipython",
    "version": 3
   },
   "file_extension": ".py",
   "mimetype": "text/x-python",
   "name": "python",
   "nbconvert_exporter": "python",
   "pygments_lexer": "ipython3",
   "version": "3.13.0"
  }
 },
 "nbformat": 4,
 "nbformat_minor": 2
}
