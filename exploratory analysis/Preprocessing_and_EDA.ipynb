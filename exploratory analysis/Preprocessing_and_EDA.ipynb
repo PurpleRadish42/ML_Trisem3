{
  "cells": [
    {
      "cell_type": "markdown",
      "id": "f4e97220",
      "metadata": {
        "id": "f4e97220"
      },
      "source": [
        "### Data Preprocessing and Exploratory Data Analysis"
      ]
    },
    {
      "cell_type": "markdown",
      "id": "0d96a823",
      "metadata": {
        "id": "0d96a823"
      },
      "source": [
        "#### Import Libraries"
      ]
    },
    {
      "cell_type": "code",
      "execution_count": null,
      "id": "a29b02da",
      "metadata": {
        "id": "a29b02da"
      },
      "outputs": [],
      "source": [
        "import warnings\n",
        "warnings.filterwarnings('ignore')"
      ]
    },
    {
      "cell_type": "code",
      "execution_count": 1,
      "id": "13e3fe10",
      "metadata": {
        "id": "13e3fe10"
      },
      "outputs": [],
      "source": [
        "import numpy as np\n",
        "import pandas as pd\n",
        "import matplotlib.pyplot as plt\n",
        "import seaborn as sb"
      ]
    },
    {
      "cell_type": "markdown",
      "id": "3eda5097",
      "metadata": {
        "id": "3eda5097"
      },
      "source": [
        "#### Data Acquistion and About Dataset"
      ]
    },
    {
      "cell_type": "code",
      "execution_count": null,
      "id": "e1cc5751",
      "metadata": {
        "id": "e1cc5751"
      },
      "outputs": [],
      "source": [
        "# Read the Titanic csv File\n",
        "# Source: https://www.kaggle.com/code/stephaniestallworth/titanic-eda-classification-end-to-end/input?select=train.csv\n",
        "df_Titanic = pd.read_csv('titanic.csv')"
      ]
    },
    {
      "cell_type": "code",
      "execution_count": null,
      "id": "b0710def",
      "metadata": {
        "id": "b0710def",
        "outputId": "8005e12e-782c-44f4-aade-2c05d4dc2481"
      },
      "outputs": [
        {
          "data": {
            "text/html": [
              "<div>\n",
              "<style scoped>\n",
              "    .dataframe tbody tr th:only-of-type {\n",
              "        vertical-align: middle;\n",
              "    }\n",
              "\n",
              "    .dataframe tbody tr th {\n",
              "        vertical-align: top;\n",
              "    }\n",
              "\n",
              "    .dataframe thead th {\n",
              "        text-align: right;\n",
              "    }\n",
              "</style>\n",
              "<table border=\"1\" class=\"dataframe\">\n",
              "  <thead>\n",
              "    <tr style=\"text-align: right;\">\n",
              "      <th></th>\n",
              "      <th>PassengerId</th>\n",
              "      <th>Survived</th>\n",
              "      <th>Pclass</th>\n",
              "      <th>Name</th>\n",
              "      <th>Sex</th>\n",
              "      <th>Age</th>\n",
              "      <th>SibSp</th>\n",
              "      <th>Parch</th>\n",
              "      <th>Ticket</th>\n",
              "      <th>Fare</th>\n",
              "      <th>Cabin</th>\n",
              "      <th>Embarked</th>\n",
              "    </tr>\n",
              "  </thead>\n",
              "  <tbody>\n",
              "    <tr>\n",
              "      <th>0</th>\n",
              "      <td>1</td>\n",
              "      <td>0</td>\n",
              "      <td>3</td>\n",
              "      <td>Braund, Mr. Owen Harris</td>\n",
              "      <td>male</td>\n",
              "      <td>22.0</td>\n",
              "      <td>1</td>\n",
              "      <td>0</td>\n",
              "      <td>A/5 21171</td>\n",
              "      <td>7.2500</td>\n",
              "      <td>NaN</td>\n",
              "      <td>S</td>\n",
              "    </tr>\n",
              "    <tr>\n",
              "      <th>1</th>\n",
              "      <td>2</td>\n",
              "      <td>1</td>\n",
              "      <td>1</td>\n",
              "      <td>Cumings, Mrs. John Bradley (Florence Briggs Th...</td>\n",
              "      <td>female</td>\n",
              "      <td>38.0</td>\n",
              "      <td>1</td>\n",
              "      <td>0</td>\n",
              "      <td>PC 17599</td>\n",
              "      <td>71.2833</td>\n",
              "      <td>C85</td>\n",
              "      <td>C</td>\n",
              "    </tr>\n",
              "    <tr>\n",
              "      <th>2</th>\n",
              "      <td>3</td>\n",
              "      <td>1</td>\n",
              "      <td>3</td>\n",
              "      <td>Heikkinen, Miss. Laina</td>\n",
              "      <td>female</td>\n",
              "      <td>26.0</td>\n",
              "      <td>0</td>\n",
              "      <td>0</td>\n",
              "      <td>STON/O2. 3101282</td>\n",
              "      <td>7.9250</td>\n",
              "      <td>NaN</td>\n",
              "      <td>S</td>\n",
              "    </tr>\n",
              "    <tr>\n",
              "      <th>3</th>\n",
              "      <td>4</td>\n",
              "      <td>1</td>\n",
              "      <td>1</td>\n",
              "      <td>Futrelle, Mrs. Jacques Heath (Lily May Peel)</td>\n",
              "      <td>female</td>\n",
              "      <td>35.0</td>\n",
              "      <td>1</td>\n",
              "      <td>0</td>\n",
              "      <td>113803</td>\n",
              "      <td>53.1000</td>\n",
              "      <td>C123</td>\n",
              "      <td>S</td>\n",
              "    </tr>\n",
              "    <tr>\n",
              "      <th>4</th>\n",
              "      <td>5</td>\n",
              "      <td>0</td>\n",
              "      <td>3</td>\n",
              "      <td>Allen, Mr. William Henry</td>\n",
              "      <td>male</td>\n",
              "      <td>35.0</td>\n",
              "      <td>0</td>\n",
              "      <td>0</td>\n",
              "      <td>373450</td>\n",
              "      <td>8.0500</td>\n",
              "      <td>NaN</td>\n",
              "      <td>S</td>\n",
              "    </tr>\n",
              "  </tbody>\n",
              "</table>\n",
              "</div>"
            ],
            "text/plain": [
              "   PassengerId  Survived  Pclass  \\\n",
              "0            1         0       3   \n",
              "1            2         1       1   \n",
              "2            3         1       3   \n",
              "3            4         1       1   \n",
              "4            5         0       3   \n",
              "\n",
              "                                                Name     Sex   Age  SibSp  \\\n",
              "0                            Braund, Mr. Owen Harris    male  22.0      1   \n",
              "1  Cumings, Mrs. John Bradley (Florence Briggs Th...  female  38.0      1   \n",
              "2                             Heikkinen, Miss. Laina  female  26.0      0   \n",
              "3       Futrelle, Mrs. Jacques Heath (Lily May Peel)  female  35.0      1   \n",
              "4                           Allen, Mr. William Henry    male  35.0      0   \n",
              "\n",
              "   Parch            Ticket     Fare Cabin Embarked  \n",
              "0      0         A/5 21171   7.2500   NaN        S  \n",
              "1      0          PC 17599  71.2833   C85        C  \n",
              "2      0  STON/O2. 3101282   7.9250   NaN        S  \n",
              "3      0            113803  53.1000  C123        S  \n",
              "4      0            373450   8.0500   NaN        S  "
            ]
          },
          "execution_count": 78,
          "metadata": {},
          "output_type": "execute_result"
        }
      ],
      "source": [
        "df_Titanic.head()"
      ]
    },
    {
      "cell_type": "code",
      "execution_count": null,
      "id": "607b3ba3",
      "metadata": {
        "id": "607b3ba3",
        "outputId": "f808a2a6-f715-474f-8043-981411611e15"
      },
      "outputs": [
        {
          "name": "stdout",
          "output_type": "stream",
          "text": [
            "No. of Records: 891\n",
            "No. of Features: 12\n",
            "Features: Index(['PassengerId', 'Survived', 'Pclass', 'Name', 'Sex', 'Age', 'SibSp',\n",
            "       'Parch', 'Ticket', 'Fare', 'Cabin', 'Embarked'],\n",
            "      dtype='object')\n"
          ]
        }
      ],
      "source": [
        "print('No. of Records:',df_Titanic.shape[0])\n",
        "print('No. of Features:',df_Titanic.shape[1])\n",
        "print('Features:', df_Titanic.columns)"
      ]
    },
    {
      "cell_type": "code",
      "execution_count": null,
      "id": "9114e442",
      "metadata": {
        "id": "9114e442",
        "outputId": "382a7983-e812-418c-bc8b-7f175f87ccca"
      },
      "outputs": [
        {
          "name": "stdout",
          "output_type": "stream",
          "text": [
            "<class 'pandas.core.frame.DataFrame'>\n",
            "RangeIndex: 891 entries, 0 to 890\n",
            "Data columns (total 12 columns):\n",
            " #   Column       Non-Null Count  Dtype  \n",
            "---  ------       --------------  -----  \n",
            " 0   PassengerId  891 non-null    int64  \n",
            " 1   Survived     891 non-null    int64  \n",
            " 2   Pclass       891 non-null    int64  \n",
            " 3   Name         891 non-null    object \n",
            " 4   Sex          891 non-null    object \n",
            " 5   Age          714 non-null    float64\n",
            " 6   SibSp        891 non-null    int64  \n",
            " 7   Parch        891 non-null    int64  \n",
            " 8   Ticket       891 non-null    object \n",
            " 9   Fare         891 non-null    float64\n",
            " 10  Cabin        204 non-null    object \n",
            " 11  Embarked     889 non-null    object \n",
            "dtypes: float64(2), int64(5), object(5)\n",
            "memory usage: 83.7+ KB\n"
          ]
        }
      ],
      "source": [
        "df_Titanic.info()"
      ]
    },
    {
      "cell_type": "markdown",
      "id": "947c6df5",
      "metadata": {
        "id": "947c6df5"
      },
      "source": [
        "#### Data Preprocessing"
      ]
    },
    {
      "cell_type": "markdown",
      "id": "a2c7195e",
      "metadata": {
        "id": "a2c7195e"
      },
      "source": [
        "#### Dropping Not Relevant Features"
      ]
    },
    {
      "cell_type": "code",
      "execution_count": null,
      "id": "780ef263",
      "metadata": {
        "id": "780ef263",
        "outputId": "0fdf6751-8029-4e27-f4b0-230f12689c49"
      },
      "outputs": [
        {
          "data": {
            "text/plain": [
              "0                                Braund, Mr. Owen Harris\n",
              "1      Cumings, Mrs. John Bradley (Florence Briggs Th...\n",
              "2                                 Heikkinen, Miss. Laina\n",
              "3           Futrelle, Mrs. Jacques Heath (Lily May Peel)\n",
              "4                               Allen, Mr. William Henry\n",
              "                             ...                        \n",
              "886                                Montvila, Rev. Juozas\n",
              "887                         Graham, Miss. Margaret Edith\n",
              "888             Johnston, Miss. Catherine Helen \"Carrie\"\n",
              "889                                Behr, Mr. Karl Howell\n",
              "890                                  Dooley, Mr. Patrick\n",
              "Name: Name, Length: 891, dtype: object"
            ]
          },
          "execution_count": 83,
          "metadata": {},
          "output_type": "execute_result"
        }
      ],
      "source": [
        "df_Titanic['Name']"
      ]
    },
    {
      "cell_type": "code",
      "execution_count": null,
      "id": "faaed676",
      "metadata": {
        "id": "faaed676"
      },
      "outputs": [],
      "source": []
    },
    {
      "cell_type": "code",
      "execution_count": null,
      "id": "bbcd89d1",
      "metadata": {
        "id": "bbcd89d1"
      },
      "outputs": [],
      "source": [
        "# Remove PassengerId, Name, Ticket\n",
        "df_Titanic.drop(['PassengerId', 'Name', 'Ticket'], axis = 1, inplace = True)"
      ]
    },
    {
      "cell_type": "markdown",
      "id": "0461dad1",
      "metadata": {
        "id": "0461dad1"
      },
      "source": [
        "#### Missing Data"
      ]
    },
    {
      "cell_type": "code",
      "execution_count": null,
      "id": "5c6db574",
      "metadata": {
        "id": "5c6db574",
        "outputId": "02c54009-3714-44f2-c6d9-830add423058"
      },
      "outputs": [
        {
          "data": {
            "text/plain": [
              "Survived      0\n",
              "Pclass        0\n",
              "Sex           0\n",
              "Age         177\n",
              "SibSp         0\n",
              "Parch         0\n",
              "Fare          0\n",
              "Cabin       687\n",
              "Embarked      2\n",
              "dtype: int64"
            ]
          },
          "execution_count": 85,
          "metadata": {},
          "output_type": "execute_result"
        }
      ],
      "source": [
        "#Checking for missing values\n",
        "df_Titanic.isnull().sum()"
      ]
    },
    {
      "cell_type": "code",
      "execution_count": null,
      "id": "e9d04cdd",
      "metadata": {
        "id": "e9d04cdd"
      },
      "outputs": [],
      "source": [
        "# Remove cabin feature as it has more missing values\n",
        "df_Titanic.drop('Cabin', axis = 1, inplace = True)"
      ]
    },
    {
      "cell_type": "code",
      "execution_count": null,
      "id": "a9ec4c98",
      "metadata": {
        "id": "a9ec4c98"
      },
      "outputs": [],
      "source": [
        "# Remove records with Embarked missing (Only 2 records)\n",
        "df_Titanic = df_Titanic.dropna(subset='Embarked')"
      ]
    },
    {
      "cell_type": "markdown",
      "id": "e6efab9f",
      "metadata": {
        "id": "e6efab9f"
      },
      "source": [
        "##### Imputation for Age Feature"
      ]
    },
    {
      "cell_type": "code",
      "execution_count": null,
      "id": "3e9c2e0d",
      "metadata": {
        "id": "3e9c2e0d",
        "outputId": "63943802-6c97-4977-8a96-0ec4714cd86a"
      },
      "outputs": [
        {
          "data": {
            "image/png": "[encoded data removed]",
            "text/plain": [
              "<Figure size 1000x700 with 1 Axes>"
            ]
          },
          "metadata": {},
          "output_type": "display_data"
        }
      ],
      "source": [
        "# Plotting Age by Passenger Class Category\n",
        "plt.figure(figsize = (10,7))\n",
        "sb.boxplot(x = 'Pclass', y = 'Age', data = df_Titanic, palette= 'GnBu_d').set_title('Age by Passenger Class')\n",
        "plt.show()"
      ]
    },
    {
      "cell_type": "code",
      "execution_count": null,
      "id": "deb8fd04",
      "metadata": {
        "id": "deb8fd04",
        "outputId": "eca9fd2b-2979-4028-efad-0a94c6ccb6a1"
      },
      "outputs": [
        {
          "name": "stdout",
          "output_type": "stream",
          "text": [
            "[38.10554347826087, 29.87763005780347, 25.14061971830986]\n"
          ]
        },
        {
          "data": {
            "text/plain": [
              "array([38., 30., 25.])"
            ]
          },
          "execution_count": 89,
          "metadata": {},
          "output_type": "execute_result"
        }
      ],
      "source": [
        "# Computation of mean age by Passenger Class\n",
        "age_mean = [df_Titanic[df_Titanic['Pclass'] == 1]['Age'].mean(), df_Titanic[df_Titanic['Pclass'] == 2]['Age'].mean(), df_Titanic[df_Titanic['Pclass'] == 3]['Age'].mean()]\n",
        "print(age_mean)\n",
        "age_mean = np.rint(age_mean)\n",
        "age_mean"
      ]
    },
    {
      "cell_type": "code",
      "execution_count": null,
      "id": "b67dc5e3",
      "metadata": {
        "id": "b67dc5e3"
      },
      "outputs": [],
      "source": [
        "# Imputation for Age Feature\n",
        "def impute_age(cols):\n",
        "    Age = cols[0]\n",
        "    Pclass = cols[1]\n",
        "\n",
        "    if pd.isnull(Age):\n",
        "        if Pclass == 1:\n",
        "            return age_mean[0]\n",
        "        elif Pclass == 2:\n",
        "            return age_mean[1]\n",
        "        else:\n",
        "            return age_mean[2]\n",
        "    else:\n",
        "        return Age\n",
        "\n",
        "# Apply the function to the Age column\n",
        "df_Titanic['Age']=df_Titanic[['Age','Pclass']].apply(impute_age, axis =1 )"
      ]
    },
    {
      "cell_type": "code",
      "execution_count": null,
      "id": "207686c9",
      "metadata": {
        "id": "207686c9",
        "outputId": "03341aa9-c54f-4b5c-9e00-8f1e07f7114a"
      },
      "outputs": [
        {
          "data": {
            "text/plain": [
              "Survived    0\n",
              "Pclass      0\n",
              "Sex         0\n",
              "Age         0\n",
              "SibSp       0\n",
              "Parch       0\n",
              "Fare        0\n",
              "Embarked    0\n",
              "dtype: int64"
            ]
          },
          "execution_count": 91,
          "metadata": {},
          "output_type": "execute_result"
        }
      ],
      "source": [
        "df_Titanic.isnull().sum()"
      ]
    },
    {
      "cell_type": "code",
      "execution_count": null,
      "id": "d1b6db17",
      "metadata": {
        "id": "d1b6db17",
        "outputId": "3d2323f4-cd55-4ff0-c6bd-f887f24a809d"
      },
      "outputs": [
        {
          "name": "stdout",
          "output_type": "stream",
          "text": [
            "<class 'pandas.core.frame.DataFrame'>\n",
            "Int64Index: 889 entries, 0 to 890\n",
            "Data columns (total 8 columns):\n",
            " #   Column    Non-Null Count  Dtype  \n",
            "---  ------    --------------  -----  \n",
            " 0   Survived  889 non-null    int64  \n",
            " 1   Pclass    889 non-null    int64  \n",
            " 2   Sex       889 non-null    object \n",
            " 3   Age       889 non-null    float64\n",
            " 4   SibSp     889 non-null    int64  \n",
            " 5   Parch     889 non-null    int64  \n",
            " 6   Fare      889 non-null    float64\n",
            " 7   Embarked  889 non-null    object \n",
            "dtypes: float64(2), int64(4), object(2)\n",
            "memory usage: 62.5+ KB\n"
          ]
        }
      ],
      "source": [
        "df_Titanic.info()"
      ]
    },
    {
      "cell_type": "code",
      "execution_count": null,
      "id": "32560f41",
      "metadata": {
        "id": "32560f41",
        "outputId": "afc4b14b-f6e9-4043-ec8c-ddd37fce12da"
      },
      "outputs": [
        {
          "data": {
            "text/html": [
              "<div>\n",
              "<style scoped>\n",
              "    .dataframe tbody tr th:only-of-type {\n",
              "        vertical-align: middle;\n",
              "    }\n",
              "\n",
              "    .dataframe tbody tr th {\n",
              "        vertical-align: top;\n",
              "    }\n",
              "\n",
              "    .dataframe thead th {\n",
              "        text-align: right;\n",
              "    }\n",
              "</style>\n",
              "<table border=\"1\" class=\"dataframe\">\n",
              "  <thead>\n",
              "    <tr style=\"text-align: right;\">\n",
              "      <th></th>\n",
              "      <th>Survived</th>\n",
              "      <th>Pclass</th>\n",
              "      <th>Age</th>\n",
              "      <th>SibSp</th>\n",
              "      <th>Parch</th>\n",
              "      <th>Fare</th>\n",
              "    </tr>\n",
              "  </thead>\n",
              "  <tbody>\n",
              "    <tr>\n",
              "      <th>count</th>\n",
              "      <td>889.000000</td>\n",
              "      <td>889.000000</td>\n",
              "      <td>889.000000</td>\n",
              "      <td>889.000000</td>\n",
              "      <td>889.000000</td>\n",
              "      <td>889.000000</td>\n",
              "    </tr>\n",
              "    <tr>\n",
              "      <th>mean</th>\n",
              "      <td>0.382452</td>\n",
              "      <td>2.311586</td>\n",
              "      <td>29.218414</td>\n",
              "      <td>0.524184</td>\n",
              "      <td>0.382452</td>\n",
              "      <td>32.096681</td>\n",
              "    </tr>\n",
              "    <tr>\n",
              "      <th>std</th>\n",
              "      <td>0.486260</td>\n",
              "      <td>0.834700</td>\n",
              "      <td>13.178017</td>\n",
              "      <td>1.103705</td>\n",
              "      <td>0.806761</td>\n",
              "      <td>49.697504</td>\n",
              "    </tr>\n",
              "    <tr>\n",
              "      <th>min</th>\n",
              "      <td>0.000000</td>\n",
              "      <td>1.000000</td>\n",
              "      <td>0.420000</td>\n",
              "      <td>0.000000</td>\n",
              "      <td>0.000000</td>\n",
              "      <td>0.000000</td>\n",
              "    </tr>\n",
              "    <tr>\n",
              "      <th>25%</th>\n",
              "      <td>0.000000</td>\n",
              "      <td>2.000000</td>\n",
              "      <td>22.000000</td>\n",
              "      <td>0.000000</td>\n",
              "      <td>0.000000</td>\n",
              "      <td>7.895800</td>\n",
              "    </tr>\n",
              "    <tr>\n",
              "      <th>50%</th>\n",
              "      <td>0.000000</td>\n",
              "      <td>3.000000</td>\n",
              "      <td>26.000000</td>\n",
              "      <td>0.000000</td>\n",
              "      <td>0.000000</td>\n",
              "      <td>14.454200</td>\n",
              "    </tr>\n",
              "    <tr>\n",
              "      <th>75%</th>\n",
              "      <td>1.000000</td>\n",
              "      <td>3.000000</td>\n",
              "      <td>36.500000</td>\n",
              "      <td>1.000000</td>\n",
              "      <td>0.000000</td>\n",
              "      <td>31.000000</td>\n",
              "    </tr>\n",
              "    <tr>\n",
              "      <th>max</th>\n",
              "      <td>1.000000</td>\n",
              "      <td>3.000000</td>\n",
              "      <td>80.000000</td>\n",
              "      <td>8.000000</td>\n",
              "      <td>6.000000</td>\n",
              "      <td>512.329200</td>\n",
              "    </tr>\n",
              "  </tbody>\n",
              "</table>\n",
              "</div>"
            ],
            "text/plain": [
              "         Survived      Pclass         Age       SibSp       Parch        Fare\n",
              "count  889.000000  889.000000  889.000000  889.000000  889.000000  889.000000\n",
              "mean     0.382452    2.311586   29.218414    0.524184    0.382452   32.096681\n",
              "std      0.486260    0.834700   13.178017    1.103705    0.806761   49.697504\n",
              "min      0.000000    1.000000    0.420000    0.000000    0.000000    0.000000\n",
              "25%      0.000000    2.000000   22.000000    0.000000    0.000000    7.895800\n",
              "50%      0.000000    3.000000   26.000000    0.000000    0.000000   14.454200\n",
              "75%      1.000000    3.000000   36.500000    1.000000    0.000000   31.000000\n",
              "max      1.000000    3.000000   80.000000    8.000000    6.000000  512.329200"
            ]
          },
          "execution_count": 93,
          "metadata": {},
          "output_type": "execute_result"
        }
      ],
      "source": [
        "df_Titanic.describe()"
      ]
    },
    {
      "cell_type": "code",
      "execution_count": null,
      "id": "f2ee873e",
      "metadata": {
        "id": "f2ee873e"
      },
      "outputs": [],
      "source": []
    },
    {
      "cell_type": "markdown",
      "id": "0bacfc14",
      "metadata": {
        "id": "0bacfc14"
      },
      "source": [
        "#### Target Feature (Class Feature)"
      ]
    },
    {
      "cell_type": "code",
      "execution_count": null,
      "id": "3ca0089b",
      "metadata": {
        "id": "3ca0089b",
        "outputId": "12424d74-32d8-4b8f-8aa6-65e6e5bf9e0f"
      },
      "outputs": [
        {
          "name": "stdout",
          "output_type": "stream",
          "text": [
            "Target Feature\n",
            "Survived\n",
            "0    549\n",
            "1    340\n",
            "dtype: int64 Survived\n",
            "0    61.754781\n",
            "1    38.245219\n",
            "dtype: float64\n"
          ]
        }
      ],
      "source": [
        "print('Target Feature')\n",
        "print(df_Titanic.groupby('Survived').size(), 100*df_Titanic.groupby('Survived').size()/len(df_Titanic))"
      ]
    },
    {
      "cell_type": "code",
      "execution_count": null,
      "id": "591e9e5d",
      "metadata": {
        "id": "591e9e5d",
        "outputId": "dfc4948e-8448-4ccb-f67d-d9cdd9d94e5f"
      },
      "outputs": [
        {
          "data": {
            "image/png": "[encoded data removed]",
            "text/plain": [
              "<Figure size 500x500 with 1 Axes>"
            ]
          },
          "metadata": {},
          "output_type": "display_data"
        }
      ],
      "source": [
        "plt.figure(figsize = (5,5))\n",
        "sb.countplot(df_Titanic['Survived'], palette= ['blue','lightgreen'])\n",
        "plt.title('Survivors vs Non-Survivors')\n",
        "plt.ylabel('# Passengers')\n",
        "plt.show()"
      ]
    },
    {
      "cell_type": "markdown",
      "id": "7d51f95f",
      "metadata": {
        "id": "7d51f95f"
      },
      "source": [
        "### Data Exploration"
      ]
    },
    {
      "cell_type": "markdown",
      "id": "c4a00b61",
      "metadata": {
        "id": "c4a00b61"
      },
      "source": [
        "#### Numerical Features: Fare, Age"
      ]
    },
    {
      "cell_type": "code",
      "execution_count": null,
      "id": "6907c594",
      "metadata": {
        "id": "6907c594"
      },
      "outputs": [],
      "source": [
        "num_var = ['Age','Fare']"
      ]
    },
    {
      "cell_type": "code",
      "execution_count": null,
      "id": "53bcc9ae",
      "metadata": {
        "id": "53bcc9ae",
        "outputId": "750c8a42-5d36-44f2-bca7-50ab105d2919"
      },
      "outputs": [
        {
          "data": {
            "text/html": [
              "<div>\n",
              "<style scoped>\n",
              "    .dataframe tbody tr th:only-of-type {\n",
              "        vertical-align: middle;\n",
              "    }\n",
              "\n",
              "    .dataframe tbody tr th {\n",
              "        vertical-align: top;\n",
              "    }\n",
              "\n",
              "    .dataframe thead th {\n",
              "        text-align: right;\n",
              "    }\n",
              "</style>\n",
              "<table border=\"1\" class=\"dataframe\">\n",
              "  <thead>\n",
              "    <tr style=\"text-align: right;\">\n",
              "      <th></th>\n",
              "      <th>Age</th>\n",
              "      <th>Fare</th>\n",
              "    </tr>\n",
              "  </thead>\n",
              "  <tbody>\n",
              "    <tr>\n",
              "      <th>count</th>\n",
              "      <td>889.000000</td>\n",
              "      <td>889.000000</td>\n",
              "    </tr>\n",
              "    <tr>\n",
              "      <th>mean</th>\n",
              "      <td>29.218414</td>\n",
              "      <td>32.096681</td>\n",
              "    </tr>\n",
              "    <tr>\n",
              "      <th>std</th>\n",
              "      <td>13.178017</td>\n",
              "      <td>49.697504</td>\n",
              "    </tr>\n",
              "    <tr>\n",
              "      <th>min</th>\n",
              "      <td>0.420000</td>\n",
              "      <td>0.000000</td>\n",
              "    </tr>\n",
              "    <tr>\n",
              "      <th>25%</th>\n",
              "      <td>22.000000</td>\n",
              "      <td>7.895800</td>\n",
              "    </tr>\n",
              "    <tr>\n",
              "      <th>50%</th>\n",
              "      <td>26.000000</td>\n",
              "      <td>14.454200</td>\n",
              "    </tr>\n",
              "    <tr>\n",
              "      <th>75%</th>\n",
              "      <td>36.500000</td>\n",
              "      <td>31.000000</td>\n",
              "    </tr>\n",
              "    <tr>\n",
              "      <th>max</th>\n",
              "      <td>80.000000</td>\n",
              "      <td>512.329200</td>\n",
              "    </tr>\n",
              "  </tbody>\n",
              "</table>\n",
              "</div>"
            ],
            "text/plain": [
              "              Age        Fare\n",
              "count  889.000000  889.000000\n",
              "mean    29.218414   32.096681\n",
              "std     13.178017   49.697504\n",
              "min      0.420000    0.000000\n",
              "25%     22.000000    7.895800\n",
              "50%     26.000000   14.454200\n",
              "75%     36.500000   31.000000\n",
              "max     80.000000  512.329200"
            ]
          },
          "execution_count": 97,
          "metadata": {},
          "output_type": "execute_result"
        }
      ],
      "source": [
        "df_Titanic[num_var].describe()"
      ]
    },
    {
      "cell_type": "code",
      "execution_count": null,
      "id": "7489601b",
      "metadata": {
        "id": "7489601b",
        "outputId": "7f279192-fb31-4d6e-e9f4-713b55b9aaac"
      },
      "outputs": [
        {
          "data": {
            "text/html": [
              "<div>\n",
              "<style scoped>\n",
              "    .dataframe tbody tr th:only-of-type {\n",
              "        vertical-align: middle;\n",
              "    }\n",
              "\n",
              "    .dataframe tbody tr th {\n",
              "        vertical-align: top;\n",
              "    }\n",
              "\n",
              "    .dataframe thead th {\n",
              "        text-align: right;\n",
              "    }\n",
              "</style>\n",
              "<table border=\"1\" class=\"dataframe\">\n",
              "  <thead>\n",
              "    <tr style=\"text-align: right;\">\n",
              "      <th></th>\n",
              "      <th>Survived</th>\n",
              "      <th>Pclass</th>\n",
              "      <th>Sex</th>\n",
              "      <th>Age</th>\n",
              "      <th>SibSp</th>\n",
              "      <th>Parch</th>\n",
              "      <th>Fare</th>\n",
              "      <th>Embarked</th>\n",
              "    </tr>\n",
              "  </thead>\n",
              "  <tbody>\n",
              "    <tr>\n",
              "      <th>179</th>\n",
              "      <td>0</td>\n",
              "      <td>3</td>\n",
              "      <td>male</td>\n",
              "      <td>36.0</td>\n",
              "      <td>0</td>\n",
              "      <td>0</td>\n",
              "      <td>0.0</td>\n",
              "      <td>S</td>\n",
              "    </tr>\n",
              "    <tr>\n",
              "      <th>263</th>\n",
              "      <td>0</td>\n",
              "      <td>1</td>\n",
              "      <td>male</td>\n",
              "      <td>40.0</td>\n",
              "      <td>0</td>\n",
              "      <td>0</td>\n",
              "      <td>0.0</td>\n",
              "      <td>S</td>\n",
              "    </tr>\n",
              "    <tr>\n",
              "      <th>271</th>\n",
              "      <td>1</td>\n",
              "      <td>3</td>\n",
              "      <td>male</td>\n",
              "      <td>25.0</td>\n",
              "      <td>0</td>\n",
              "      <td>0</td>\n",
              "      <td>0.0</td>\n",
              "      <td>S</td>\n",
              "    </tr>\n",
              "    <tr>\n",
              "      <th>277</th>\n",
              "      <td>0</td>\n",
              "      <td>2</td>\n",
              "      <td>male</td>\n",
              "      <td>30.0</td>\n",
              "      <td>0</td>\n",
              "      <td>0</td>\n",
              "      <td>0.0</td>\n",
              "      <td>S</td>\n",
              "    </tr>\n",
              "    <tr>\n",
              "      <th>302</th>\n",
              "      <td>0</td>\n",
              "      <td>3</td>\n",
              "      <td>male</td>\n",
              "      <td>19.0</td>\n",
              "      <td>0</td>\n",
              "      <td>0</td>\n",
              "      <td>0.0</td>\n",
              "      <td>S</td>\n",
              "    </tr>\n",
              "    <tr>\n",
              "      <th>413</th>\n",
              "      <td>0</td>\n",
              "      <td>2</td>\n",
              "      <td>male</td>\n",
              "      <td>30.0</td>\n",
              "      <td>0</td>\n",
              "      <td>0</td>\n",
              "      <td>0.0</td>\n",
              "      <td>S</td>\n",
              "    </tr>\n",
              "    <tr>\n",
              "      <th>466</th>\n",
              "      <td>0</td>\n",
              "      <td>2</td>\n",
              "      <td>male</td>\n",
              "      <td>30.0</td>\n",
              "      <td>0</td>\n",
              "      <td>0</td>\n",
              "      <td>0.0</td>\n",
              "      <td>S</td>\n",
              "    </tr>\n",
              "    <tr>\n",
              "      <th>481</th>\n",
              "      <td>0</td>\n",
              "      <td>2</td>\n",
              "      <td>male</td>\n",
              "      <td>30.0</td>\n",
              "      <td>0</td>\n",
              "      <td>0</td>\n",
              "      <td>0.0</td>\n",
              "      <td>S</td>\n",
              "    </tr>\n",
              "    <tr>\n",
              "      <th>597</th>\n",
              "      <td>0</td>\n",
              "      <td>3</td>\n",
              "      <td>male</td>\n",
              "      <td>49.0</td>\n",
              "      <td>0</td>\n",
              "      <td>0</td>\n",
              "      <td>0.0</td>\n",
              "      <td>S</td>\n",
              "    </tr>\n",
              "    <tr>\n",
              "      <th>633</th>\n",
              "      <td>0</td>\n",
              "      <td>1</td>\n",
              "      <td>male</td>\n",
              "      <td>38.0</td>\n",
              "      <td>0</td>\n",
              "      <td>0</td>\n",
              "      <td>0.0</td>\n",
              "      <td>S</td>\n",
              "    </tr>\n",
              "    <tr>\n",
              "      <th>674</th>\n",
              "      <td>0</td>\n",
              "      <td>2</td>\n",
              "      <td>male</td>\n",
              "      <td>30.0</td>\n",
              "      <td>0</td>\n",
              "      <td>0</td>\n",
              "      <td>0.0</td>\n",
              "      <td>S</td>\n",
              "    </tr>\n",
              "    <tr>\n",
              "      <th>732</th>\n",
              "      <td>0</td>\n",
              "      <td>2</td>\n",
              "      <td>male</td>\n",
              "      <td>30.0</td>\n",
              "      <td>0</td>\n",
              "      <td>0</td>\n",
              "      <td>0.0</td>\n",
              "      <td>S</td>\n",
              "    </tr>\n",
              "    <tr>\n",
              "      <th>806</th>\n",
              "      <td>0</td>\n",
              "      <td>1</td>\n",
              "      <td>male</td>\n",
              "      <td>39.0</td>\n",
              "      <td>0</td>\n",
              "      <td>0</td>\n",
              "      <td>0.0</td>\n",
              "      <td>S</td>\n",
              "    </tr>\n",
              "    <tr>\n",
              "      <th>815</th>\n",
              "      <td>0</td>\n",
              "      <td>1</td>\n",
              "      <td>male</td>\n",
              "      <td>38.0</td>\n",
              "      <td>0</td>\n",
              "      <td>0</td>\n",
              "      <td>0.0</td>\n",
              "      <td>S</td>\n",
              "    </tr>\n",
              "    <tr>\n",
              "      <th>822</th>\n",
              "      <td>0</td>\n",
              "      <td>1</td>\n",
              "      <td>male</td>\n",
              "      <td>38.0</td>\n",
              "      <td>0</td>\n",
              "      <td>0</td>\n",
              "      <td>0.0</td>\n",
              "      <td>S</td>\n",
              "    </tr>\n",
              "  </tbody>\n",
              "</table>\n",
              "</div>"
            ],
            "text/plain": [
              "     Survived  Pclass   Sex   Age  SibSp  Parch  Fare Embarked\n",
              "179         0       3  male  36.0      0      0   0.0        S\n",
              "263         0       1  male  40.0      0      0   0.0        S\n",
              "271         1       3  male  25.0      0      0   0.0        S\n",
              "277         0       2  male  30.0      0      0   0.0        S\n",
              "302         0       3  male  19.0      0      0   0.0        S\n",
              "413         0       2  male  30.0      0      0   0.0        S\n",
              "466         0       2  male  30.0      0      0   0.0        S\n",
              "481         0       2  male  30.0      0      0   0.0        S\n",
              "597         0       3  male  49.0      0      0   0.0        S\n",
              "633         0       1  male  38.0      0      0   0.0        S\n",
              "674         0       2  male  30.0      0      0   0.0        S\n",
              "732         0       2  male  30.0      0      0   0.0        S\n",
              "806         0       1  male  39.0      0      0   0.0        S\n",
              "815         0       1  male  38.0      0      0   0.0        S\n",
              "822         0       1  male  38.0      0      0   0.0        S"
            ]
          },
          "execution_count": 98,
          "metadata": {},
          "output_type": "execute_result"
        }
      ],
      "source": [
        "df_Titanic[df_Titanic['Fare']==0]"
      ]
    },
    {
      "cell_type": "code",
      "execution_count": null,
      "id": "7922422e",
      "metadata": {
        "id": "7922422e",
        "outputId": "22ba7f13-826b-41b1-a192-1658e1e49fe1"
      },
      "outputs": [
        {
          "data": {
            "text/plain": [
              "Embarked  Pclass\n",
              "C         1         104.718529\n",
              "          2          25.358335\n",
              "          3          11.214083\n",
              "Q         1          90.000000\n",
              "          2          12.350000\n",
              "          3          11.183393\n",
              "S         1          70.364862\n",
              "          2          20.327439\n",
              "          3          14.644083\n",
              "Name: Fare, dtype: float64"
            ]
          },
          "execution_count": 99,
          "metadata": {},
          "output_type": "execute_result"
        }
      ],
      "source": [
        "df_Titanic.groupby(['Embarked', 'Pclass'])['Fare'].mean()"
      ]
    },
    {
      "cell_type": "code",
      "execution_count": null,
      "id": "1eeaa2d8",
      "metadata": {
        "id": "1eeaa2d8"
      },
      "outputs": [],
      "source": [
        "df_Titanic.loc[(df_Titanic['Fare']==0) & (df_Titanic['Embarked']=='S') & (df_Titanic['Pclass']==1),'Fare'] = 70\n",
        "df_Titanic.loc[(df_Titanic['Fare']==0) & (df_Titanic['Embarked']=='S') & (df_Titanic['Pclass']==2),'Fare'] = 20\n",
        "df_Titanic.loc[(df_Titanic['Fare']==0) & (df_Titanic['Embarked']=='S') & (df_Titanic['Pclass']==3),'Fare'] = 15"
      ]
    },
    {
      "cell_type": "code",
      "execution_count": null,
      "id": "c642cbf3",
      "metadata": {
        "id": "c642cbf3",
        "outputId": "90480835-8d8d-47e1-f6c4-6ec1d41a097b"
      },
      "outputs": [
        {
          "data": {
            "text/html": [
              "<div>\n",
              "<style scoped>\n",
              "    .dataframe tbody tr th:only-of-type {\n",
              "        vertical-align: middle;\n",
              "    }\n",
              "\n",
              "    .dataframe tbody tr th {\n",
              "        vertical-align: top;\n",
              "    }\n",
              "\n",
              "    .dataframe thead th {\n",
              "        text-align: right;\n",
              "    }\n",
              "</style>\n",
              "<table border=\"1\" class=\"dataframe\">\n",
              "  <thead>\n",
              "    <tr style=\"text-align: right;\">\n",
              "      <th></th>\n",
              "      <th>Survived</th>\n",
              "      <th>Pclass</th>\n",
              "      <th>Sex</th>\n",
              "      <th>Age</th>\n",
              "      <th>SibSp</th>\n",
              "      <th>Parch</th>\n",
              "      <th>Fare</th>\n",
              "      <th>Embarked</th>\n",
              "    </tr>\n",
              "  </thead>\n",
              "  <tbody>\n",
              "  </tbody>\n",
              "</table>\n",
              "</div>"
            ],
            "text/plain": [
              "Empty DataFrame\n",
              "Columns: [Survived, Pclass, Sex, Age, SibSp, Parch, Fare, Embarked]\n",
              "Index: []"
            ]
          },
          "execution_count": 101,
          "metadata": {},
          "output_type": "execute_result"
        }
      ],
      "source": [
        "df_Titanic[df_Titanic['Fare']==0]"
      ]
    },
    {
      "cell_type": "code",
      "execution_count": null,
      "id": "2c28049a",
      "metadata": {
        "id": "2c28049a",
        "outputId": "23dce391-c18d-41ca-9c0f-a03527b1521f"
      },
      "outputs": [
        {
          "data": {
            "text/plain": [
              "Text(0.5, 1.0, 'Ticket Fare')"
            ]
          },
          "execution_count": 102,
          "metadata": {},
          "output_type": "execute_result"
        },
        {
          "data": {
            "image/png": "[encoded data removed]",
            "text/plain": [
              "<Figure size 640x480 with 1 Axes>"
            ]
          },
          "metadata": {},
          "output_type": "display_data"
        }
      ],
      "source": [
        "# Visualization of Fare Feature after updation\n",
        "\n",
        "plt.hist(df_Titanic['Fare'], bins = 20, edgecolor= 'black', color ='teal')\n",
        "plt.xlabel('Fare',fontsize = 10)\n",
        "plt.ylabel('# Passengers',fontsize = 10)\n",
        "plt.title('Ticket Fare',fontsize = 10)"
      ]
    },
    {
      "cell_type": "code",
      "execution_count": null,
      "id": "afab9a43",
      "metadata": {
        "id": "afab9a43",
        "outputId": "8585bfd2-5511-4626-e894-7048b56fa20e"
      },
      "outputs": [
        {
          "data": {
            "text/html": [
              "<div>\n",
              "<style scoped>\n",
              "    .dataframe tbody tr th:only-of-type {\n",
              "        vertical-align: middle;\n",
              "    }\n",
              "\n",
              "    .dataframe tbody tr th {\n",
              "        vertical-align: top;\n",
              "    }\n",
              "\n",
              "    .dataframe thead th {\n",
              "        text-align: right;\n",
              "    }\n",
              "</style>\n",
              "<table border=\"1\" class=\"dataframe\">\n",
              "  <thead>\n",
              "    <tr style=\"text-align: right;\">\n",
              "      <th></th>\n",
              "      <th>Survived</th>\n",
              "      <th>Pclass</th>\n",
              "      <th>Sex</th>\n",
              "      <th>Age</th>\n",
              "      <th>SibSp</th>\n",
              "      <th>Parch</th>\n",
              "      <th>Fare</th>\n",
              "      <th>Embarked</th>\n",
              "    </tr>\n",
              "  </thead>\n",
              "  <tbody>\n",
              "    <tr>\n",
              "      <th>258</th>\n",
              "      <td>1</td>\n",
              "      <td>1</td>\n",
              "      <td>female</td>\n",
              "      <td>35.0</td>\n",
              "      <td>0</td>\n",
              "      <td>0</td>\n",
              "      <td>512.3292</td>\n",
              "      <td>C</td>\n",
              "    </tr>\n",
              "    <tr>\n",
              "      <th>679</th>\n",
              "      <td>1</td>\n",
              "      <td>1</td>\n",
              "      <td>male</td>\n",
              "      <td>36.0</td>\n",
              "      <td>0</td>\n",
              "      <td>1</td>\n",
              "      <td>512.3292</td>\n",
              "      <td>C</td>\n",
              "    </tr>\n",
              "    <tr>\n",
              "      <th>737</th>\n",
              "      <td>1</td>\n",
              "      <td>1</td>\n",
              "      <td>male</td>\n",
              "      <td>35.0</td>\n",
              "      <td>0</td>\n",
              "      <td>0</td>\n",
              "      <td>512.3292</td>\n",
              "      <td>C</td>\n",
              "    </tr>\n",
              "  </tbody>\n",
              "</table>\n",
              "</div>"
            ],
            "text/plain": [
              "     Survived  Pclass     Sex   Age  SibSp  Parch      Fare Embarked\n",
              "258         1       1  female  35.0      0      0  512.3292        C\n",
              "679         1       1    male  36.0      0      1  512.3292        C\n",
              "737         1       1    male  35.0      0      0  512.3292        C"
            ]
          },
          "execution_count": 103,
          "metadata": {},
          "output_type": "execute_result"
        }
      ],
      "source": [
        "# Remove the records with outlier values for the feature Fare\n",
        "df_Titanic[df_Titanic['Fare']>300]"
      ]
    },
    {
      "cell_type": "code",
      "execution_count": null,
      "id": "e45ffed2",
      "metadata": {
        "id": "e45ffed2"
      },
      "outputs": [],
      "source": [
        "df_Titanic = df_Titanic.drop(df_Titanic[df_Titanic['Fare']>300].index)"
      ]
    },
    {
      "cell_type": "code",
      "execution_count": null,
      "id": "168d539e",
      "metadata": {
        "id": "168d539e"
      },
      "outputs": [],
      "source": [
        "# or it can be updated with mean value of fare for Embarked = C"
      ]
    },
    {
      "cell_type": "code",
      "execution_count": null,
      "id": "9e5c2645",
      "metadata": {
        "id": "9e5c2645",
        "outputId": "6417fdc3-fc9f-4446-ad35-854f9cdaff74"
      },
      "outputs": [
        {
          "data": {
            "text/plain": [
              "0.5166563526523346"
            ]
          },
          "execution_count": 106,
          "metadata": {},
          "output_type": "execute_result"
        }
      ],
      "source": [
        "df_Titanic['Age'].skew()"
      ]
    },
    {
      "cell_type": "code",
      "execution_count": null,
      "id": "846f94a5",
      "metadata": {
        "id": "846f94a5",
        "outputId": "7843069e-8268-4680-acfe-2c4aaea66c02"
      },
      "outputs": [
        {
          "data": {
            "text/plain": [
              "<AxesSubplot:xlabel='Age', ylabel='Count'>"
            ]
          },
          "execution_count": 107,
          "metadata": {},
          "output_type": "execute_result"
        },
        {
          "data": {
            "image/png": "[encoded data removed]",
            "text/plain": [
              "<Figure size 640x480 with 1 Axes>"
            ]
          },
          "metadata": {},
          "output_type": "display_data"
        }
      ],
      "source": [
        "sb.histplot(df_Titanic['Age'], kde=True, bins=30, color='blue')"
      ]
    },
    {
      "cell_type": "code",
      "execution_count": null,
      "id": "36da6e75",
      "metadata": {
        "id": "36da6e75",
        "outputId": "2f59dee6-a406-458d-bca3-8b2d5f8b5708"
      },
      "outputs": [
        {
          "data": {
            "text/plain": [
              "3.187478107835326"
            ]
          },
          "execution_count": 108,
          "metadata": {},
          "output_type": "execute_result"
        }
      ],
      "source": [
        "df_Titanic['Fare'].skew()"
      ]
    },
    {
      "cell_type": "code",
      "execution_count": null,
      "id": "fc4853f7",
      "metadata": {
        "id": "fc4853f7",
        "outputId": "3c098b03-331d-449e-8f04-61f42c797721"
      },
      "outputs": [
        {
          "data": {
            "text/plain": [
              "<AxesSubplot:xlabel='Fare', ylabel='Count'>"
            ]
          },
          "execution_count": 109,
          "metadata": {},
          "output_type": "execute_result"
        },
        {
          "data": {
            "image/png": "[encoded data removed]",
            "text/plain": [
              "<Figure size 640x480 with 1 Axes>"
            ]
          },
          "metadata": {},
          "output_type": "display_data"
        }
      ],
      "source": [
        "sb.histplot(df_Titanic['Fare'], kde=True, bins=30, color='blue')"
      ]
    },
    {
      "cell_type": "code",
      "execution_count": null,
      "id": "c018ef67",
      "metadata": {
        "id": "c018ef67"
      },
      "outputs": [],
      "source": []
    },
    {
      "cell_type": "code",
      "execution_count": null,
      "id": "a809b171",
      "metadata": {
        "id": "a809b171"
      },
      "outputs": [],
      "source": [
        "# Survival Analysis (Target Feature) upon Numeric variables"
      ]
    },
    {
      "cell_type": "code",
      "execution_count": null,
      "id": "c8d75bb1",
      "metadata": {
        "id": "c8d75bb1"
      },
      "outputs": [],
      "source": [
        "# Fare"
      ]
    },
    {
      "cell_type": "code",
      "execution_count": null,
      "id": "d4ec42d3",
      "metadata": {
        "id": "d4ec42d3",
        "outputId": "433370d0-b70d-4c3e-be47-b5cc6b93336c"
      },
      "outputs": [
        {
          "data": {
            "text/plain": [
              "count    549.000000\n",
              "mean      23.055956\n",
              "std       31.513256\n",
              "min        4.012500\n",
              "25%        7.895800\n",
              "50%       11.500000\n",
              "75%       26.000000\n",
              "max      263.000000\n",
              "Name: Fare, dtype: float64"
            ]
          },
          "execution_count": 112,
          "metadata": {},
          "output_type": "execute_result"
        }
      ],
      "source": [
        "df_Titanic[df_Titanic['Survived']==0].Fare.describe()"
      ]
    },
    {
      "cell_type": "code",
      "execution_count": null,
      "id": "20224d64",
      "metadata": {
        "id": "20224d64",
        "outputId": "8cfc4a65-dfa4-4b08-ae44-744d41228251"
      },
      "outputs": [
        {
          "data": {
            "text/plain": [
              "<AxesSubplot:xlabel='Fare'>"
            ]
          },
          "execution_count": 113,
          "metadata": {},
          "output_type": "execute_result"
        },
        {
          "data": {
            "image/png": "[encoded data removed]",
            "text/plain": [
              "<Figure size 640x480 with 1 Axes>"
            ]
          },
          "metadata": {},
          "output_type": "display_data"
        }
      ],
      "source": [
        "sb.boxplot(df_Titanic[df_Titanic['Survived']==0].Fare)"
      ]
    },
    {
      "cell_type": "code",
      "execution_count": null,
      "id": "01987308",
      "metadata": {
        "id": "01987308",
        "outputId": "213a1104-0207-426d-86f5-8c800220650f"
      },
      "outputs": [
        {
          "data": {
            "text/plain": [
              "count    337.000000\n",
              "mean      44.122379\n",
              "std       50.512497\n",
              "min        6.975000\n",
              "25%       12.475000\n",
              "50%       26.000000\n",
              "75%       56.495800\n",
              "max      263.000000\n",
              "Name: Fare, dtype: float64"
            ]
          },
          "execution_count": 114,
          "metadata": {},
          "output_type": "execute_result"
        }
      ],
      "source": [
        "df_Titanic[df_Titanic['Survived']==1].Fare.describe()"
      ]
    },
    {
      "cell_type": "code",
      "execution_count": null,
      "id": "ac932597",
      "metadata": {
        "id": "ac932597",
        "outputId": "dd4fb722-b217-4f62-af6d-e7ca00ab5664"
      },
      "outputs": [
        {
          "data": {
            "text/plain": [
              "<AxesSubplot:xlabel='Fare'>"
            ]
          },
          "execution_count": 115,
          "metadata": {},
          "output_type": "execute_result"
        },
        {
          "data": {
            "image/png": "[encoded data removed]",
            "text/plain": [
              "<Figure size 640x480 with 1 Axes>"
            ]
          },
          "metadata": {},
          "output_type": "display_data"
        }
      ],
      "source": [
        "sb.boxplot(df_Titanic[df_Titanic['Survived']==1].Fare)"
      ]
    },
    {
      "cell_type": "code",
      "execution_count": null,
      "id": "244cdd2b",
      "metadata": {
        "id": "244cdd2b",
        "outputId": "9bccebea-ede7-4e32-b9e1-ff8b3a1bd7b0"
      },
      "outputs": [
        {
          "data": {
            "text/plain": [
              "<matplotlib.legend.Legend at 0x2a0c15573d0>"
            ]
          },
          "execution_count": 116,
          "metadata": {},
          "output_type": "execute_result"
        },
        {
          "data": {
            "image/png": "[encoded data removed]",
            "text/plain": [
              "<Figure size 640x480 with 1 Axes>"
            ]
          },
          "metadata": {},
          "output_type": "display_data"
        }
      ],
      "source": [
        "# Survival Analysis based on Fare feature\n",
        "plt.hist(df_Titanic[df_Titanic['Survived']==0].Fare, bins = 20, alpha=0.5, label ='Did Not Survive', edgecolor= 'black',color ='grey')\n",
        "plt.hist(df_Titanic[df_Titanic['Survived']==1].Fare, bins = 20, alpha=0.5, label = 'Survive', edgecolor = 'black',color = 'lightgreen')\n",
        "plt.title('Fare: Survivors vs Non-Survivors')\n",
        "plt.xlabel('Fare')\n",
        "plt.ylabel('# Passengers')\n",
        "plt.legend(loc = 'upper right')"
      ]
    },
    {
      "cell_type": "code",
      "execution_count": null,
      "id": "6a9c2848",
      "metadata": {
        "id": "6a9c2848",
        "outputId": "c51875b3-c764-44c4-c749-a93fd22d3888"
      },
      "outputs": [
        {
          "data": {
            "text/plain": [
              "Text(0.5, 1.0, 'Age')"
            ]
          },
          "execution_count": 117,
          "metadata": {},
          "output_type": "execute_result"
        },
        {
          "data": {
            "image/png": "[encoded data removed]",
            "text/plain": [
              "<Figure size 640x480 with 1 Axes>"
            ]
          },
          "metadata": {},
          "output_type": "display_data"
        }
      ],
      "source": [
        "# Visualization of Age Feature\n",
        "\n",
        "plt.hist(df_Titanic['Age'], bins = 20, edgecolor= 'black',color ='teal')\n",
        "plt.xlabel('Fare',fontsize = 10)\n",
        "plt.ylabel('# Passengers',fontsize = 10)\n",
        "plt.title('Age',fontsize = 10)"
      ]
    },
    {
      "cell_type": "code",
      "execution_count": null,
      "id": "22baf0d0",
      "metadata": {
        "id": "22baf0d0",
        "outputId": "d32b9f28-a06c-4ebb-93af-dd585a107c9c"
      },
      "outputs": [
        {
          "data": {
            "text/plain": [
              "<matplotlib.legend.Legend at 0x2a0c2988940>"
            ]
          },
          "execution_count": 118,
          "metadata": {},
          "output_type": "execute_result"
        },
        {
          "data": {
            "image/png": "[encoded data removed]",
            "text/plain": [
              "<Figure size 640x480 with 1 Axes>"
            ]
          },
          "metadata": {},
          "output_type": "display_data"
        }
      ],
      "source": [
        "# Survival Analysis based on Age feature\n",
        "plt.hist(df_Titanic[df_Titanic['Survived']==0].Age, bins = 20, label ='Did Not Survive', alpha = .50,edgecolor= 'black',color ='grey')\n",
        "plt.hist(df_Titanic[df_Titanic['Survived']==1].Age, bins = 20, label = 'Survive', alpha = .50, edgecolor = 'black',color = 'lightgreen')\n",
        "plt.title('Age: Survivors vs Non-Survivors')\n",
        "plt.xlabel('Age')\n",
        "plt.ylabel('# Passengers')\n",
        "plt.legend(loc = 'upper right')"
      ]
    },
    {
      "cell_type": "code",
      "execution_count": null,
      "id": "32b35672",
      "metadata": {
        "id": "32b35672"
      },
      "outputs": [],
      "source": []
    },
    {
      "cell_type": "markdown",
      "id": "24fb90d6",
      "metadata": {
        "id": "24fb90d6"
      },
      "source": [
        "#### Discrete Features: Pclass, SibSp, Parch"
      ]
    },
    {
      "cell_type": "markdown",
      "id": "6339dbee",
      "metadata": {
        "id": "6339dbee"
      },
      "source": [
        "#### Crosstab analysis of discrete features on the target"
      ]
    },
    {
      "cell_type": "code",
      "execution_count": null,
      "id": "c28768fb",
      "metadata": {
        "id": "c28768fb",
        "outputId": "f797942c-f05b-43e1-b3a2-ac6d8ca04b04"
      },
      "outputs": [
        {
          "data": {
            "text/plain": [
              "Pclass\n",
              "1    211\n",
              "2    184\n",
              "3    491\n",
              "dtype: int64"
            ]
          },
          "execution_count": 119,
          "metadata": {},
          "output_type": "execute_result"
        }
      ],
      "source": [
        "# Feature Pclass\n",
        "df_Titanic.groupby('Pclass').size()"
      ]
    },
    {
      "cell_type": "code",
      "execution_count": null,
      "id": "52491718",
      "metadata": {
        "id": "52491718",
        "outputId": "5450505e-8773-41bc-b22a-eab8bd22cd98"
      },
      "outputs": [
        {
          "data": {
            "text/html": [
              "<div>\n",
              "<style scoped>\n",
              "    .dataframe tbody tr th:only-of-type {\n",
              "        vertical-align: middle;\n",
              "    }\n",
              "\n",
              "    .dataframe tbody tr th {\n",
              "        vertical-align: top;\n",
              "    }\n",
              "\n",
              "    .dataframe thead th {\n",
              "        text-align: right;\n",
              "    }\n",
              "</style>\n",
              "<table border=\"1\" class=\"dataframe\">\n",
              "  <thead>\n",
              "    <tr style=\"text-align: right;\">\n",
              "      <th>Survived</th>\n",
              "      <th>0</th>\n",
              "      <th>1</th>\n",
              "    </tr>\n",
              "    <tr>\n",
              "      <th>Pclass</th>\n",
              "      <th></th>\n",
              "      <th></th>\n",
              "    </tr>\n",
              "  </thead>\n",
              "  <tbody>\n",
              "    <tr>\n",
              "      <th>1</th>\n",
              "      <td>80</td>\n",
              "      <td>131</td>\n",
              "    </tr>\n",
              "    <tr>\n",
              "      <th>2</th>\n",
              "      <td>97</td>\n",
              "      <td>87</td>\n",
              "    </tr>\n",
              "    <tr>\n",
              "      <th>3</th>\n",
              "      <td>372</td>\n",
              "      <td>119</td>\n",
              "    </tr>\n",
              "  </tbody>\n",
              "</table>\n",
              "</div>"
            ],
            "text/plain": [
              "Survived    0    1\n",
              "Pclass            \n",
              "1          80  131\n",
              "2          97   87\n",
              "3         372  119"
            ]
          },
          "execution_count": 120,
          "metadata": {},
          "output_type": "execute_result"
        }
      ],
      "source": [
        "pd.crosstab(index = df_Titanic['Pclass'], columns = df_Titanic['Survived'])"
      ]
    },
    {
      "cell_type": "code",
      "execution_count": null,
      "id": "d85e3f4e",
      "metadata": {
        "id": "d85e3f4e",
        "outputId": "7cf0dffc-429d-4418-e223-11338fb12149"
      },
      "outputs": [
        {
          "data": {
            "text/plain": [
              "<AxesSubplot:xlabel='Survived', ylabel='Pclass'>"
            ]
          },
          "execution_count": 121,
          "metadata": {},
          "output_type": "execute_result"
        },
        {
          "data": {
            "image/png": "[encoded data removed]",
            "text/plain": [
              "<Figure size 640x480 with 2 Axes>"
            ]
          },
          "metadata": {},
          "output_type": "display_data"
        }
      ],
      "source": [
        "sb.heatmap(pd.crosstab(index = df_Titanic['Pclass'], columns = df_Titanic['Survived']), annot=True, cmap='Blues', fmt='d')"
      ]
    },
    {
      "cell_type": "code",
      "execution_count": null,
      "id": "aa66f81a",
      "metadata": {
        "id": "aa66f81a",
        "outputId": "766b9bc9-c229-4a6f-e3a5-27184d1fd55f"
      },
      "outputs": [
        {
          "data": {
            "text/plain": [
              "SibSp\n",
              "0    603\n",
              "1    209\n",
              "2     28\n",
              "3     16\n",
              "4     18\n",
              "5      5\n",
              "8      7\n",
              "dtype: int64"
            ]
          },
          "execution_count": 59,
          "metadata": {},
          "output_type": "execute_result"
        }
      ],
      "source": [
        "# Feature SibSp\n",
        "df_Titanic.groupby('SibSp').size()"
      ]
    },
    {
      "cell_type": "code",
      "execution_count": null,
      "id": "eb408a10",
      "metadata": {
        "id": "eb408a10",
        "outputId": "918f06d8-a514-46a5-dc55-612494c4fbc8"
      },
      "outputs": [
        {
          "data": {
            "text/html": [
              "<div>\n",
              "<style scoped>\n",
              "    .dataframe tbody tr th:only-of-type {\n",
              "        vertical-align: middle;\n",
              "    }\n",
              "\n",
              "    .dataframe tbody tr th {\n",
              "        vertical-align: top;\n",
              "    }\n",
              "\n",
              "    .dataframe thead th {\n",
              "        text-align: right;\n",
              "    }\n",
              "</style>\n",
              "<table border=\"1\" class=\"dataframe\">\n",
              "  <thead>\n",
              "    <tr style=\"text-align: right;\">\n",
              "      <th>Survived</th>\n",
              "      <th>0</th>\n",
              "      <th>1</th>\n",
              "    </tr>\n",
              "    <tr>\n",
              "      <th>SibSp</th>\n",
              "      <th></th>\n",
              "      <th></th>\n",
              "    </tr>\n",
              "  </thead>\n",
              "  <tbody>\n",
              "    <tr>\n",
              "      <th>0</th>\n",
              "      <td>398</td>\n",
              "      <td>205</td>\n",
              "    </tr>\n",
              "    <tr>\n",
              "      <th>1</th>\n",
              "      <td>97</td>\n",
              "      <td>112</td>\n",
              "    </tr>\n",
              "    <tr>\n",
              "      <th>2</th>\n",
              "      <td>15</td>\n",
              "      <td>13</td>\n",
              "    </tr>\n",
              "    <tr>\n",
              "      <th>3</th>\n",
              "      <td>12</td>\n",
              "      <td>4</td>\n",
              "    </tr>\n",
              "    <tr>\n",
              "      <th>4</th>\n",
              "      <td>15</td>\n",
              "      <td>3</td>\n",
              "    </tr>\n",
              "    <tr>\n",
              "      <th>5</th>\n",
              "      <td>5</td>\n",
              "      <td>0</td>\n",
              "    </tr>\n",
              "    <tr>\n",
              "      <th>8</th>\n",
              "      <td>7</td>\n",
              "      <td>0</td>\n",
              "    </tr>\n",
              "  </tbody>\n",
              "</table>\n",
              "</div>"
            ],
            "text/plain": [
              "Survived    0    1\n",
              "SibSp             \n",
              "0         398  205\n",
              "1          97  112\n",
              "2          15   13\n",
              "3          12    4\n",
              "4          15    3\n",
              "5           5    0\n",
              "8           7    0"
            ]
          },
          "execution_count": 60,
          "metadata": {},
          "output_type": "execute_result"
        }
      ],
      "source": [
        "pd.crosstab(index = df_Titanic['SibSp'], columns = df_Titanic['Survived'])"
      ]
    },
    {
      "cell_type": "code",
      "execution_count": null,
      "id": "1a2ad424",
      "metadata": {
        "id": "1a2ad424",
        "outputId": "321d3b1e-abd1-46cd-e490-51ee8de4db7d"
      },
      "outputs": [
        {
          "data": {
            "text/plain": [
              "Parch\n",
              "0    674\n",
              "1    117\n",
              "2     80\n",
              "3      5\n",
              "4      4\n",
              "5      5\n",
              "6      1\n",
              "dtype: int64"
            ]
          },
          "execution_count": 61,
          "metadata": {},
          "output_type": "execute_result"
        }
      ],
      "source": [
        "# Feature Parch\n",
        "df_Titanic.groupby('Parch').size()"
      ]
    },
    {
      "cell_type": "code",
      "execution_count": null,
      "id": "6ede79db",
      "metadata": {
        "id": "6ede79db",
        "outputId": "72987151-55bc-46ab-8e7f-04d93a9b716c"
      },
      "outputs": [
        {
          "data": {
            "text/html": [
              "<div>\n",
              "<style scoped>\n",
              "    .dataframe tbody tr th:only-of-type {\n",
              "        vertical-align: middle;\n",
              "    }\n",
              "\n",
              "    .dataframe tbody tr th {\n",
              "        vertical-align: top;\n",
              "    }\n",
              "\n",
              "    .dataframe thead th {\n",
              "        text-align: right;\n",
              "    }\n",
              "</style>\n",
              "<table border=\"1\" class=\"dataframe\">\n",
              "  <thead>\n",
              "    <tr style=\"text-align: right;\">\n",
              "      <th>Survived</th>\n",
              "      <th>0</th>\n",
              "      <th>1</th>\n",
              "    </tr>\n",
              "    <tr>\n",
              "      <th>Parch</th>\n",
              "      <th></th>\n",
              "      <th></th>\n",
              "    </tr>\n",
              "  </thead>\n",
              "  <tbody>\n",
              "    <tr>\n",
              "      <th>0</th>\n",
              "      <td>445</td>\n",
              "      <td>229</td>\n",
              "    </tr>\n",
              "    <tr>\n",
              "      <th>1</th>\n",
              "      <td>53</td>\n",
              "      <td>64</td>\n",
              "    </tr>\n",
              "    <tr>\n",
              "      <th>2</th>\n",
              "      <td>40</td>\n",
              "      <td>40</td>\n",
              "    </tr>\n",
              "    <tr>\n",
              "      <th>3</th>\n",
              "      <td>2</td>\n",
              "      <td>3</td>\n",
              "    </tr>\n",
              "    <tr>\n",
              "      <th>4</th>\n",
              "      <td>4</td>\n",
              "      <td>0</td>\n",
              "    </tr>\n",
              "    <tr>\n",
              "      <th>5</th>\n",
              "      <td>4</td>\n",
              "      <td>1</td>\n",
              "    </tr>\n",
              "    <tr>\n",
              "      <th>6</th>\n",
              "      <td>1</td>\n",
              "      <td>0</td>\n",
              "    </tr>\n",
              "  </tbody>\n",
              "</table>\n",
              "</div>"
            ],
            "text/plain": [
              "Survived    0    1\n",
              "Parch             \n",
              "0         445  229\n",
              "1          53   64\n",
              "2          40   40\n",
              "3           2    3\n",
              "4           4    0\n",
              "5           4    1\n",
              "6           1    0"
            ]
          },
          "execution_count": 62,
          "metadata": {},
          "output_type": "execute_result"
        }
      ],
      "source": [
        "pd.crosstab(index = df_Titanic['Parch'], columns = df_Titanic['Survived'])"
      ]
    },
    {
      "cell_type": "markdown",
      "id": "f78810d4",
      "metadata": {
        "id": "f78810d4"
      },
      "source": [
        "#### Categorical Features: Sex, Embarked"
      ]
    },
    {
      "cell_type": "markdown",
      "id": "a2613fee",
      "metadata": {
        "id": "a2613fee"
      },
      "source": [
        "#### Crosstab Analysis of Categorical Features on Target"
      ]
    },
    {
      "cell_type": "code",
      "execution_count": null,
      "id": "7bc605c8",
      "metadata": {
        "id": "7bc605c8",
        "outputId": "2a2501a2-a3ac-491f-d78c-5994b31a178f"
      },
      "outputs": [
        {
          "data": {
            "text/plain": [
              "Sex\n",
              "female    311\n",
              "male      575\n",
              "dtype: int64"
            ]
          },
          "execution_count": 63,
          "metadata": {},
          "output_type": "execute_result"
        }
      ],
      "source": [
        "# Feature Sex\n",
        "df_Titanic.groupby('Sex').size()"
      ]
    },
    {
      "cell_type": "code",
      "execution_count": null,
      "id": "0e7dabc5",
      "metadata": {
        "id": "0e7dabc5",
        "outputId": "33fced12-12cd-4494-ec3d-44ca497f6a7d"
      },
      "outputs": [
        {
          "data": {
            "text/html": [
              "<div>\n",
              "<style scoped>\n",
              "    .dataframe tbody tr th:only-of-type {\n",
              "        vertical-align: middle;\n",
              "    }\n",
              "\n",
              "    .dataframe tbody tr th {\n",
              "        vertical-align: top;\n",
              "    }\n",
              "\n",
              "    .dataframe thead th {\n",
              "        text-align: right;\n",
              "    }\n",
              "</style>\n",
              "<table border=\"1\" class=\"dataframe\">\n",
              "  <thead>\n",
              "    <tr style=\"text-align: right;\">\n",
              "      <th>Survived</th>\n",
              "      <th>0</th>\n",
              "      <th>1</th>\n",
              "    </tr>\n",
              "    <tr>\n",
              "      <th>Sex</th>\n",
              "      <th></th>\n",
              "      <th></th>\n",
              "    </tr>\n",
              "  </thead>\n",
              "  <tbody>\n",
              "    <tr>\n",
              "      <th>female</th>\n",
              "      <td>81</td>\n",
              "      <td>230</td>\n",
              "    </tr>\n",
              "    <tr>\n",
              "      <th>male</th>\n",
              "      <td>468</td>\n",
              "      <td>107</td>\n",
              "    </tr>\n",
              "  </tbody>\n",
              "</table>\n",
              "</div>"
            ],
            "text/plain": [
              "Survived    0    1\n",
              "Sex               \n",
              "female     81  230\n",
              "male      468  107"
            ]
          },
          "execution_count": 64,
          "metadata": {},
          "output_type": "execute_result"
        }
      ],
      "source": [
        "pd.crosstab(index = df_Titanic['Sex'], columns = df_Titanic['Survived'])"
      ]
    },
    {
      "cell_type": "code",
      "execution_count": null,
      "id": "337abaa8",
      "metadata": {
        "id": "337abaa8",
        "outputId": "d982715a-d659-4de1-c401-e8449f8ed340"
      },
      "outputs": [
        {
          "data": {
            "text/plain": [
              "Embarked\n",
              "C    165\n",
              "Q     77\n",
              "S    644\n",
              "dtype: int64"
            ]
          },
          "execution_count": 65,
          "metadata": {},
          "output_type": "execute_result"
        }
      ],
      "source": [
        "# Feature Embarked\n",
        "df_Titanic.groupby('Embarked').size()"
      ]
    },
    {
      "cell_type": "code",
      "execution_count": null,
      "id": "887f624c",
      "metadata": {
        "id": "887f624c",
        "outputId": "9613ba49-8271-473c-db26-a990d53b824a"
      },
      "outputs": [
        {
          "data": {
            "text/html": [
              "<div>\n",
              "<style scoped>\n",
              "    .dataframe tbody tr th:only-of-type {\n",
              "        vertical-align: middle;\n",
              "    }\n",
              "\n",
              "    .dataframe tbody tr th {\n",
              "        vertical-align: top;\n",
              "    }\n",
              "\n",
              "    .dataframe thead th {\n",
              "        text-align: right;\n",
              "    }\n",
              "</style>\n",
              "<table border=\"1\" class=\"dataframe\">\n",
              "  <thead>\n",
              "    <tr style=\"text-align: right;\">\n",
              "      <th>Survived</th>\n",
              "      <th>0</th>\n",
              "      <th>1</th>\n",
              "    </tr>\n",
              "    <tr>\n",
              "      <th>Embarked</th>\n",
              "      <th></th>\n",
              "      <th></th>\n",
              "    </tr>\n",
              "  </thead>\n",
              "  <tbody>\n",
              "    <tr>\n",
              "      <th>C</th>\n",
              "      <td>75</td>\n",
              "      <td>90</td>\n",
              "    </tr>\n",
              "    <tr>\n",
              "      <th>Q</th>\n",
              "      <td>47</td>\n",
              "      <td>30</td>\n",
              "    </tr>\n",
              "    <tr>\n",
              "      <th>S</th>\n",
              "      <td>427</td>\n",
              "      <td>217</td>\n",
              "    </tr>\n",
              "  </tbody>\n",
              "</table>\n",
              "</div>"
            ],
            "text/plain": [
              "Survived    0    1\n",
              "Embarked          \n",
              "C          75   90\n",
              "Q          47   30\n",
              "S         427  217"
            ]
          },
          "execution_count": 66,
          "metadata": {},
          "output_type": "execute_result"
        }
      ],
      "source": [
        "pd.crosstab(index = df_Titanic['Embarked'], columns = df_Titanic['Survived'])"
      ]
    },
    {
      "cell_type": "code",
      "execution_count": null,
      "id": "d8706da5",
      "metadata": {
        "id": "d8706da5"
      },
      "outputs": [],
      "source": []
    },
    {
      "cell_type": "markdown",
      "id": "15c8f61a",
      "metadata": {
        "id": "15c8f61a"
      },
      "source": [
        "#### Encoding of Categorical Features"
      ]
    },
    {
      "cell_type": "code",
      "execution_count": null,
      "id": "38460a52",
      "metadata": {
        "id": "38460a52",
        "outputId": "844dc718-0588-4f1d-813f-236e46cb8d70"
      },
      "outputs": [
        {
          "data": {
            "text/plain": [
              "array(['male', 'female'], dtype=object)"
            ]
          },
          "execution_count": 68,
          "metadata": {},
          "output_type": "execute_result"
        }
      ],
      "source": [
        "df_Titanic['Sex'].unique()"
      ]
    },
    {
      "cell_type": "code",
      "execution_count": null,
      "id": "34088bd3",
      "metadata": {
        "id": "34088bd3",
        "outputId": "14658954-ef88-42f0-b0b1-59aeceb5e739"
      },
      "outputs": [
        {
          "data": {
            "text/plain": [
              "array(['S', 'C', 'Q'], dtype=object)"
            ]
          },
          "execution_count": 69,
          "metadata": {},
          "output_type": "execute_result"
        }
      ],
      "source": [
        "df_Titanic['Embarked'].unique()"
      ]
    },
    {
      "cell_type": "code",
      "execution_count": null,
      "id": "c57d7791",
      "metadata": {
        "id": "c57d7791"
      },
      "outputs": [],
      "source": [
        "# Convert categorical variables into dummy variables\n",
        "sex = pd.get_dummies(df_Titanic['Sex'], drop_first = True)\n",
        "embarked = pd.get_dummies(df_Titanic['Embarked'], drop_first = True)"
      ]
    },
    {
      "cell_type": "code",
      "execution_count": null,
      "id": "5acaaf7f",
      "metadata": {
        "id": "5acaaf7f",
        "outputId": "fa41bd75-ffc9-414d-9401-d2758813e482"
      },
      "outputs": [
        {
          "data": {
            "text/html": [
              "<div>\n",
              "<style scoped>\n",
              "    .dataframe tbody tr th:only-of-type {\n",
              "        vertical-align: middle;\n",
              "    }\n",
              "\n",
              "    .dataframe tbody tr th {\n",
              "        vertical-align: top;\n",
              "    }\n",
              "\n",
              "    .dataframe thead th {\n",
              "        text-align: right;\n",
              "    }\n",
              "</style>\n",
              "<table border=\"1\" class=\"dataframe\">\n",
              "  <thead>\n",
              "    <tr style=\"text-align: right;\">\n",
              "      <th></th>\n",
              "      <th>Survived</th>\n",
              "      <th>Pclass</th>\n",
              "      <th>Sex</th>\n",
              "      <th>Age</th>\n",
              "      <th>SibSp</th>\n",
              "      <th>Parch</th>\n",
              "      <th>Fare</th>\n",
              "      <th>Embarked</th>\n",
              "      <th>male</th>\n",
              "      <th>Q</th>\n",
              "      <th>S</th>\n",
              "    </tr>\n",
              "  </thead>\n",
              "  <tbody>\n",
              "    <tr>\n",
              "      <th>0</th>\n",
              "      <td>0</td>\n",
              "      <td>3</td>\n",
              "      <td>male</td>\n",
              "      <td>22.0</td>\n",
              "      <td>1</td>\n",
              "      <td>0</td>\n",
              "      <td>7.2500</td>\n",
              "      <td>S</td>\n",
              "      <td>1</td>\n",
              "      <td>0</td>\n",
              "      <td>1</td>\n",
              "    </tr>\n",
              "    <tr>\n",
              "      <th>1</th>\n",
              "      <td>1</td>\n",
              "      <td>1</td>\n",
              "      <td>female</td>\n",
              "      <td>38.0</td>\n",
              "      <td>1</td>\n",
              "      <td>0</td>\n",
              "      <td>71.2833</td>\n",
              "      <td>C</td>\n",
              "      <td>0</td>\n",
              "      <td>0</td>\n",
              "      <td>0</td>\n",
              "    </tr>\n",
              "    <tr>\n",
              "      <th>2</th>\n",
              "      <td>1</td>\n",
              "      <td>3</td>\n",
              "      <td>female</td>\n",
              "      <td>26.0</td>\n",
              "      <td>0</td>\n",
              "      <td>0</td>\n",
              "      <td>7.9250</td>\n",
              "      <td>S</td>\n",
              "      <td>0</td>\n",
              "      <td>0</td>\n",
              "      <td>1</td>\n",
              "    </tr>\n",
              "    <tr>\n",
              "      <th>3</th>\n",
              "      <td>1</td>\n",
              "      <td>1</td>\n",
              "      <td>female</td>\n",
              "      <td>35.0</td>\n",
              "      <td>1</td>\n",
              "      <td>0</td>\n",
              "      <td>53.1000</td>\n",
              "      <td>S</td>\n",
              "      <td>0</td>\n",
              "      <td>0</td>\n",
              "      <td>1</td>\n",
              "    </tr>\n",
              "    <tr>\n",
              "      <th>4</th>\n",
              "      <td>0</td>\n",
              "      <td>3</td>\n",
              "      <td>male</td>\n",
              "      <td>35.0</td>\n",
              "      <td>0</td>\n",
              "      <td>0</td>\n",
              "      <td>8.0500</td>\n",
              "      <td>S</td>\n",
              "      <td>1</td>\n",
              "      <td>0</td>\n",
              "      <td>1</td>\n",
              "    </tr>\n",
              "  </tbody>\n",
              "</table>\n",
              "</div>"
            ],
            "text/plain": [
              "   Survived  Pclass     Sex   Age  SibSp  Parch     Fare Embarked  male  Q  S\n",
              "0         0       3    male  22.0      1      0   7.2500        S     1  0  1\n",
              "1         1       1  female  38.0      1      0  71.2833        C     0  0  0\n",
              "2         1       3  female  26.0      0      0   7.9250        S     0  0  1\n",
              "3         1       1  female  35.0      1      0  53.1000        S     0  0  1\n",
              "4         0       3    male  35.0      0      0   8.0500        S     1  0  1"
            ]
          },
          "execution_count": 71,
          "metadata": {},
          "output_type": "execute_result"
        }
      ],
      "source": [
        "# Add new dummy columns to data frame\n",
        "df_Titanic = pd.concat([df_Titanic, sex, embarked], axis = 1)\n",
        "df_Titanic.head()"
      ]
    },
    {
      "cell_type": "code",
      "execution_count": null,
      "id": "6916ade3",
      "metadata": {
        "id": "6916ade3"
      },
      "outputs": [],
      "source": [
        "# Removing the features Sex, Embarked\n",
        "df_Titanic = df_Titanic.drop(['Sex','Embarked'], axis = 1)"
      ]
    },
    {
      "cell_type": "code",
      "execution_count": null,
      "id": "148ae550",
      "metadata": {
        "id": "148ae550",
        "outputId": "370f610a-9eab-41de-a4a9-960645153fd6"
      },
      "outputs": [
        {
          "data": {
            "text/html": [
              "<div>\n",
              "<style scoped>\n",
              "    .dataframe tbody tr th:only-of-type {\n",
              "        vertical-align: middle;\n",
              "    }\n",
              "\n",
              "    .dataframe tbody tr th {\n",
              "        vertical-align: top;\n",
              "    }\n",
              "\n",
              "    .dataframe thead th {\n",
              "        text-align: right;\n",
              "    }\n",
              "</style>\n",
              "<table border=\"1\" class=\"dataframe\">\n",
              "  <thead>\n",
              "    <tr style=\"text-align: right;\">\n",
              "      <th></th>\n",
              "      <th>Survived</th>\n",
              "      <th>Pclass</th>\n",
              "      <th>Age</th>\n",
              "      <th>SibSp</th>\n",
              "      <th>Parch</th>\n",
              "      <th>Fare</th>\n",
              "      <th>male</th>\n",
              "      <th>Q</th>\n",
              "      <th>S</th>\n",
              "    </tr>\n",
              "  </thead>\n",
              "  <tbody>\n",
              "    <tr>\n",
              "      <th>0</th>\n",
              "      <td>0</td>\n",
              "      <td>3</td>\n",
              "      <td>22.0</td>\n",
              "      <td>1</td>\n",
              "      <td>0</td>\n",
              "      <td>7.2500</td>\n",
              "      <td>1</td>\n",
              "      <td>0</td>\n",
              "      <td>1</td>\n",
              "    </tr>\n",
              "    <tr>\n",
              "      <th>1</th>\n",
              "      <td>1</td>\n",
              "      <td>1</td>\n",
              "      <td>38.0</td>\n",
              "      <td>1</td>\n",
              "      <td>0</td>\n",
              "      <td>71.2833</td>\n",
              "      <td>0</td>\n",
              "      <td>0</td>\n",
              "      <td>0</td>\n",
              "    </tr>\n",
              "    <tr>\n",
              "      <th>2</th>\n",
              "      <td>1</td>\n",
              "      <td>3</td>\n",
              "      <td>26.0</td>\n",
              "      <td>0</td>\n",
              "      <td>0</td>\n",
              "      <td>7.9250</td>\n",
              "      <td>0</td>\n",
              "      <td>0</td>\n",
              "      <td>1</td>\n",
              "    </tr>\n",
              "    <tr>\n",
              "      <th>3</th>\n",
              "      <td>1</td>\n",
              "      <td>1</td>\n",
              "      <td>35.0</td>\n",
              "      <td>1</td>\n",
              "      <td>0</td>\n",
              "      <td>53.1000</td>\n",
              "      <td>0</td>\n",
              "      <td>0</td>\n",
              "      <td>1</td>\n",
              "    </tr>\n",
              "    <tr>\n",
              "      <th>4</th>\n",
              "      <td>0</td>\n",
              "      <td>3</td>\n",
              "      <td>35.0</td>\n",
              "      <td>0</td>\n",
              "      <td>0</td>\n",
              "      <td>8.0500</td>\n",
              "      <td>1</td>\n",
              "      <td>0</td>\n",
              "      <td>1</td>\n",
              "    </tr>\n",
              "  </tbody>\n",
              "</table>\n",
              "</div>"
            ],
            "text/plain": [
              "   Survived  Pclass   Age  SibSp  Parch     Fare  male  Q  S\n",
              "0         0       3  22.0      1      0   7.2500     1  0  1\n",
              "1         1       1  38.0      1      0  71.2833     0  0  0\n",
              "2         1       3  26.0      0      0   7.9250     0  0  1\n",
              "3         1       1  35.0      1      0  53.1000     0  0  1\n",
              "4         0       3  35.0      0      0   8.0500     1  0  1"
            ]
          },
          "execution_count": 73,
          "metadata": {},
          "output_type": "execute_result"
        }
      ],
      "source": [
        "df_Titanic.head()"
      ]
    },
    {
      "cell_type": "code",
      "execution_count": null,
      "id": "3c48d70e",
      "metadata": {
        "id": "3c48d70e"
      },
      "outputs": [],
      "source": []
    },
    {
      "cell_type": "markdown",
      "id": "5566b399",
      "metadata": {
        "id": "5566b399"
      },
      "source": [
        "### Other ways"
      ]
    },
    {
      "cell_type": "code",
      "execution_count": null,
      "id": "e6168a16",
      "metadata": {
        "id": "e6168a16"
      },
      "outputs": [],
      "source": [
        "df = pd.read_csv('titanic.csv')"
      ]
    },
    {
      "cell_type": "markdown",
      "id": "6c84349d",
      "metadata": {
        "id": "6c84349d"
      },
      "source": [
        "#### Imputation for Age"
      ]
    },
    {
      "cell_type": "code",
      "execution_count": null,
      "id": "9050973a",
      "metadata": {
        "id": "9050973a",
        "outputId": "a6e820ff-49a2-41e8-e3bc-a0afadf8385b"
      },
      "outputs": [
        {
          "data": {
            "text/plain": [
              "<AxesSubplot:>"
            ]
          },
          "execution_count": 124,
          "metadata": {},
          "output_type": "execute_result"
        },
        {
          "data": {
            "image/png": "[encoded data removed]",
            "text/plain": [
              "<Figure size 640x480 with 1 Axes>"
            ]
          },
          "metadata": {},
          "output_type": "display_data"
        }
      ],
      "source": [
        "sb.heatmap(df.isnull(),yticklabels = False, cbar = False)"
      ]
    },
    {
      "cell_type": "code",
      "execution_count": null,
      "id": "5b6023c1",
      "metadata": {
        "id": "5b6023c1",
        "outputId": "e35733e5-aecc-4357-c97c-049d58dbbfd3"
      },
      "outputs": [
        {
          "data": {
            "text/plain": [
              "0                              Braund, Mr. Owen Harris\n",
              "1    Cumings, Mrs. John Bradley (Florence Briggs Th...\n",
              "2                               Heikkinen, Miss. Laina\n",
              "3         Futrelle, Mrs. Jacques Heath (Lily May Peel)\n",
              "4                             Allen, Mr. William Henry\n",
              "Name: Name, dtype: object"
            ]
          },
          "execution_count": 130,
          "metadata": {},
          "output_type": "execute_result"
        }
      ],
      "source": [
        "df['Name'].head()"
      ]
    },
    {
      "cell_type": "code",
      "execution_count": null,
      "id": "880bc48f",
      "metadata": {
        "id": "880bc48f",
        "outputId": "aa217456-ec03-47d0-a1e8-e99abf61ea0d"
      },
      "outputs": [
        {
          "data": {
            "text/plain": [
              "0      Mr\n",
              "1     Mrs\n",
              "2    Miss\n",
              "3     Mrs\n",
              "4      Mr\n",
              "Name: Title, dtype: object"
            ]
          },
          "execution_count": 143,
          "metadata": {},
          "output_type": "execute_result"
        }
      ],
      "source": [
        "df['Title'] = df['Name'].str.extract('([A-Za-z]+)\\.', expand=True)\n",
        "df['Title'].head()"
      ]
    },
    {
      "cell_type": "code",
      "execution_count": null,
      "id": "517bce9d",
      "metadata": {
        "id": "517bce9d",
        "outputId": "b4fcd5f1-701a-48b5-8556-53a4abb6736f"
      },
      "outputs": [
        {
          "data": {
            "text/plain": [
              "Mr          517\n",
              "Miss        182\n",
              "Mrs         125\n",
              "Master       40\n",
              "Dr            7\n",
              "Rev           6\n",
              "Mlle          2\n",
              "Major         2\n",
              "Col           2\n",
              "Countess      1\n",
              "Capt          1\n",
              "Ms            1\n",
              "Sir           1\n",
              "Lady          1\n",
              "Mme           1\n",
              "Don           1\n",
              "Jonkheer      1\n",
              "Name: Title, dtype: int64"
            ]
          },
          "execution_count": 144,
          "metadata": {},
          "output_type": "execute_result"
        }
      ],
      "source": [
        "df['Title'].value_counts()"
      ]
    },
    {
      "cell_type": "code",
      "execution_count": null,
      "id": "67afbe4b",
      "metadata": {
        "id": "67afbe4b"
      },
      "outputs": [],
      "source": [
        "# replace rare titles with more common ones\n",
        "mapping = {'Mlle': 'Miss', 'Major': 'Mr', 'Col': 'Mr', 'Sir': 'Mr',\n",
        "           'Don': 'Mr', 'Mme': 'Mrs', 'Jonkheer': 'Mr', 'Lady': 'Mrs',\n",
        "           'Capt': 'Mr', 'Countess': 'Mrs', 'Ms': 'Miss', 'Dona': 'Mrs'}\n",
        "df.replace({'Title': mapping}, inplace=True)"
      ]
    },
    {
      "cell_type": "code",
      "execution_count": null,
      "id": "ba9ff177",
      "metadata": {
        "id": "ba9ff177"
      },
      "outputs": [],
      "source": [
        "# confirm that we are left with just six values\n",
        "df['Title'].value_counts()"
      ]
    },
    {
      "cell_type": "code",
      "execution_count": null,
      "id": "2132993d",
      "metadata": {
        "id": "2132993d",
        "outputId": "360d7edf-f46f-41db-fb69-ee475c6a3245"
      },
      "outputs": [
        {
          "data": {
            "text/plain": [
              "{'Capt': 70.0,\n",
              " 'Col': 58.0,\n",
              " 'Countess': 33.0,\n",
              " 'Don': 40.0,\n",
              " 'Dr': 46.5,\n",
              " 'Jonkheer': 38.0,\n",
              " 'Lady': 48.0,\n",
              " 'Major': 48.5,\n",
              " 'Master': 3.5,\n",
              " 'Miss': 21.0,\n",
              " 'Mlle': 24.0,\n",
              " 'Mme': 24.0,\n",
              " 'Mr': 30.0,\n",
              " 'Mrs': 35.0,\n",
              " 'Ms': 28.0,\n",
              " 'Rev': 46.5,\n",
              " 'Sir': 49.0}"
            ]
          },
          "execution_count": 145,
          "metadata": {},
          "output_type": "execute_result"
        }
      ],
      "source": [
        "# impute missing Age values using median of Title groups\n",
        "title_ages = dict(df.groupby('Title')['Age'].median())\n",
        "title_ages"
      ]
    },
    {
      "cell_type": "code",
      "execution_count": null,
      "id": "2eeae879",
      "metadata": {
        "id": "2eeae879",
        "outputId": "c24ba9c0-3cd3-42dc-82d0-f3f3c2a3de6a"
      },
      "outputs": [
        {
          "data": {
            "image/png": "[encoded data removed]",
            "text/plain": [
              "<Figure size 640x480 with 1 Axes>"
            ]
          },
          "metadata": {},
          "output_type": "display_data"
        }
      ],
      "source": [
        "sb.barplot(x='Title', y='Age', data=df, estimator=np.median, ci=None, palette='Blues_d')\n",
        "plt.xticks(rotation=45)\n",
        "plt.show()"
      ]
    },
    {
      "cell_type": "code",
      "execution_count": null,
      "id": "92749116",
      "metadata": {
        "id": "92749116"
      },
      "outputs": [],
      "source": [
        "# create a column of the average ages\n",
        "df['age_med'] = df['Title'].apply(lambda x: title_ages[x])"
      ]
    },
    {
      "cell_type": "code",
      "execution_count": null,
      "id": "44c3ed7f",
      "metadata": {
        "id": "44c3ed7f"
      },
      "outputs": [],
      "source": [
        "# replace all missing ages with the value in this column\n",
        "df['Age'].fillna(df['age_med'], inplace=True)"
      ]
    },
    {
      "cell_type": "code",
      "execution_count": null,
      "id": "1f2f5bd3",
      "metadata": {
        "id": "1f2f5bd3",
        "outputId": "24a49ca6-ef7a-4735-dd42-245e9b38f15a"
      },
      "outputs": [
        {
          "data": {
            "text/plain": [
              "0"
            ]
          },
          "execution_count": 149,
          "metadata": {},
          "output_type": "execute_result"
        }
      ],
      "source": [
        "df['Age'].isnull().sum()"
      ]
    },
    {
      "cell_type": "markdown",
      "id": "625b4f19",
      "metadata": {
        "id": "625b4f19"
      },
      "source": [
        "#### Survival based on Age Title"
      ]
    },
    {
      "cell_type": "code",
      "execution_count": null,
      "id": "80ec3a50",
      "metadata": {
        "id": "80ec3a50",
        "outputId": "72684a79-7257-4dba-f012-c4bf09b60ddf"
      },
      "outputs": [
        {
          "data": {
            "image/png": "[encoded data removed]",
            "text/plain": [
              "<Figure size 640x480 with 1 Axes>"
            ]
          },
          "metadata": {},
          "output_type": "display_data"
        }
      ],
      "source": [
        "sb.countplot(x='Title', data=df, palette='hls', hue='Survived')\n",
        "plt.xticks(rotation=45)\n",
        "plt.show()"
      ]
    },
    {
      "cell_type": "markdown",
      "id": "86651c36",
      "metadata": {
        "id": "86651c36"
      },
      "source": [
        "#### Exploaration of survival based on family count"
      ]
    },
    {
      "cell_type": "code",
      "execution_count": null,
      "id": "d8434c54",
      "metadata": {
        "id": "d8434c54"
      },
      "outputs": [],
      "source": []
    },
    {
      "cell_type": "code",
      "execution_count": null,
      "id": "c14357e8",
      "metadata": {
        "id": "c14357e8"
      },
      "outputs": [],
      "source": [
        "df['FamilyCount']=df.SibSp+df.Parch"
      ]
    },
    {
      "cell_type": "code",
      "execution_count": null,
      "id": "c5f4d0b0",
      "metadata": {
        "id": "c5f4d0b0",
        "outputId": "d497542f-85d4-4a9b-9ab8-0203621c52a8"
      },
      "outputs": [
        {
          "data": {
            "text/plain": [
              "FamilyCount\n",
              "0     537\n",
              "1     161\n",
              "2     102\n",
              "3      29\n",
              "4      15\n",
              "5      22\n",
              "6      12\n",
              "7       6\n",
              "10      7\n",
              "dtype: int64"
            ]
          },
          "execution_count": 155,
          "metadata": {},
          "output_type": "execute_result"
        }
      ],
      "source": [
        "df.groupby(df.FamilyCount).size()"
      ]
    },
    {
      "cell_type": "code",
      "execution_count": null,
      "id": "0e3e0406",
      "metadata": {
        "id": "0e3e0406",
        "outputId": "3ad5c71e-0f22-4b44-ba55-292925c9104d"
      },
      "outputs": [
        {
          "data": {
            "text/html": [
              "<div>\n",
              "<style scoped>\n",
              "    .dataframe tbody tr th:only-of-type {\n",
              "        vertical-align: middle;\n",
              "    }\n",
              "\n",
              "    .dataframe tbody tr th {\n",
              "        vertical-align: top;\n",
              "    }\n",
              "\n",
              "    .dataframe thead th {\n",
              "        text-align: right;\n",
              "    }\n",
              "</style>\n",
              "<table border=\"1\" class=\"dataframe\">\n",
              "  <thead>\n",
              "    <tr style=\"text-align: right;\">\n",
              "      <th>Survived</th>\n",
              "      <th>0</th>\n",
              "      <th>1</th>\n",
              "    </tr>\n",
              "    <tr>\n",
              "      <th>FamilyCount</th>\n",
              "      <th></th>\n",
              "      <th></th>\n",
              "    </tr>\n",
              "  </thead>\n",
              "  <tbody>\n",
              "    <tr>\n",
              "      <th>0</th>\n",
              "      <td>374</td>\n",
              "      <td>163</td>\n",
              "    </tr>\n",
              "    <tr>\n",
              "      <th>1</th>\n",
              "      <td>72</td>\n",
              "      <td>89</td>\n",
              "    </tr>\n",
              "    <tr>\n",
              "      <th>2</th>\n",
              "      <td>43</td>\n",
              "      <td>59</td>\n",
              "    </tr>\n",
              "    <tr>\n",
              "      <th>3</th>\n",
              "      <td>8</td>\n",
              "      <td>21</td>\n",
              "    </tr>\n",
              "    <tr>\n",
              "      <th>4</th>\n",
              "      <td>12</td>\n",
              "      <td>3</td>\n",
              "    </tr>\n",
              "    <tr>\n",
              "      <th>5</th>\n",
              "      <td>19</td>\n",
              "      <td>3</td>\n",
              "    </tr>\n",
              "    <tr>\n",
              "      <th>6</th>\n",
              "      <td>8</td>\n",
              "      <td>4</td>\n",
              "    </tr>\n",
              "    <tr>\n",
              "      <th>7</th>\n",
              "      <td>6</td>\n",
              "      <td>0</td>\n",
              "    </tr>\n",
              "    <tr>\n",
              "      <th>10</th>\n",
              "      <td>7</td>\n",
              "      <td>0</td>\n",
              "    </tr>\n",
              "  </tbody>\n",
              "</table>\n",
              "</div>"
            ],
            "text/plain": [
              "Survived       0    1\n",
              "FamilyCount          \n",
              "0            374  163\n",
              "1             72   89\n",
              "2             43   59\n",
              "3              8   21\n",
              "4             12    3\n",
              "5             19    3\n",
              "6              8    4\n",
              "7              6    0\n",
              "10             7    0"
            ]
          },
          "execution_count": 158,
          "metadata": {},
          "output_type": "execute_result"
        }
      ],
      "source": [
        "pd.crosstab(index = df.FamilyCount, columns = df['Survived'])"
      ]
    },
    {
      "cell_type": "code",
      "execution_count": null,
      "id": "251cab13",
      "metadata": {
        "id": "251cab13",
        "outputId": "e9c41cc4-57de-478d-ead5-b64df699ddfd"
      },
      "outputs": [
        {
          "data": {
            "text/html": [
              "<div>\n",
              "<style scoped>\n",
              "    .dataframe tbody tr th:only-of-type {\n",
              "        vertical-align: middle;\n",
              "    }\n",
              "\n",
              "    .dataframe tbody tr th {\n",
              "        vertical-align: top;\n",
              "    }\n",
              "\n",
              "    .dataframe thead th {\n",
              "        text-align: right;\n",
              "    }\n",
              "</style>\n",
              "<table border=\"1\" class=\"dataframe\">\n",
              "  <thead>\n",
              "    <tr style=\"text-align: right;\">\n",
              "      <th>Survived</th>\n",
              "      <th>0</th>\n",
              "      <th>1</th>\n",
              "    </tr>\n",
              "    <tr>\n",
              "      <th>FamilyCount</th>\n",
              "      <th></th>\n",
              "      <th></th>\n",
              "    </tr>\n",
              "  </thead>\n",
              "  <tbody>\n",
              "    <tr>\n",
              "      <th>0</th>\n",
              "      <td>69.646182</td>\n",
              "      <td>30.353818</td>\n",
              "    </tr>\n",
              "    <tr>\n",
              "      <th>1</th>\n",
              "      <td>44.720497</td>\n",
              "      <td>55.279503</td>\n",
              "    </tr>\n",
              "    <tr>\n",
              "      <th>2</th>\n",
              "      <td>42.156863</td>\n",
              "      <td>57.843137</td>\n",
              "    </tr>\n",
              "    <tr>\n",
              "      <th>3</th>\n",
              "      <td>27.586207</td>\n",
              "      <td>72.413793</td>\n",
              "    </tr>\n",
              "    <tr>\n",
              "      <th>4</th>\n",
              "      <td>80.000000</td>\n",
              "      <td>20.000000</td>\n",
              "    </tr>\n",
              "    <tr>\n",
              "      <th>5</th>\n",
              "      <td>86.363636</td>\n",
              "      <td>13.636364</td>\n",
              "    </tr>\n",
              "    <tr>\n",
              "      <th>6</th>\n",
              "      <td>66.666667</td>\n",
              "      <td>33.333333</td>\n",
              "    </tr>\n",
              "    <tr>\n",
              "      <th>7</th>\n",
              "      <td>100.000000</td>\n",
              "      <td>0.000000</td>\n",
              "    </tr>\n",
              "    <tr>\n",
              "      <th>10</th>\n",
              "      <td>100.000000</td>\n",
              "      <td>0.000000</td>\n",
              "    </tr>\n",
              "  </tbody>\n",
              "</table>\n",
              "</div>"
            ],
            "text/plain": [
              "Survived              0          1\n",
              "FamilyCount                       \n",
              "0             69.646182  30.353818\n",
              "1             44.720497  55.279503\n",
              "2             42.156863  57.843137\n",
              "3             27.586207  72.413793\n",
              "4             80.000000  20.000000\n",
              "5             86.363636  13.636364\n",
              "6             66.666667  33.333333\n",
              "7            100.000000   0.000000\n",
              "10           100.000000   0.000000"
            ]
          },
          "execution_count": 159,
          "metadata": {},
          "output_type": "execute_result"
        }
      ],
      "source": [
        "pd.crosstab(df['FamilyCount'], df['Survived'], normalize='index') * 100"
      ]
    },
    {
      "cell_type": "code",
      "execution_count": null,
      "id": "911b28d3",
      "metadata": {
        "id": "911b28d3"
      },
      "outputs": [],
      "source": []
    },
    {
      "cell_type": "markdown",
      "id": "b02499e0",
      "metadata": {
        "id": "b02499e0"
      },
      "source": [
        "#### Way for filling missing value in Embarked column"
      ]
    },
    {
      "cell_type": "code",
      "execution_count": null,
      "id": "9ec9821f",
      "metadata": {
        "id": "9ec9821f",
        "outputId": "b0733d7a-f7cb-4135-ff97-ac2aa5d7a3c3",
        "scrolled": true
      },
      "outputs": [
        {
          "data": {
            "text/html": [
              "<div>\n",
              "<style scoped>\n",
              "    .dataframe tbody tr th:only-of-type {\n",
              "        vertical-align: middle;\n",
              "    }\n",
              "\n",
              "    .dataframe tbody tr th {\n",
              "        vertical-align: top;\n",
              "    }\n",
              "\n",
              "    .dataframe thead th {\n",
              "        text-align: right;\n",
              "    }\n",
              "</style>\n",
              "<table border=\"1\" class=\"dataframe\">\n",
              "  <thead>\n",
              "    <tr style=\"text-align: right;\">\n",
              "      <th></th>\n",
              "      <th>PassengerId</th>\n",
              "      <th>Survived</th>\n",
              "      <th>Pclass</th>\n",
              "      <th>Name</th>\n",
              "      <th>Sex</th>\n",
              "      <th>Age</th>\n",
              "      <th>SibSp</th>\n",
              "      <th>Parch</th>\n",
              "      <th>Ticket</th>\n",
              "      <th>Fare</th>\n",
              "      <th>Cabin</th>\n",
              "      <th>Embarked</th>\n",
              "    </tr>\n",
              "  </thead>\n",
              "  <tbody>\n",
              "    <tr>\n",
              "      <th>61</th>\n",
              "      <td>62</td>\n",
              "      <td>1</td>\n",
              "      <td>1</td>\n",
              "      <td>Icard, Miss. Amelie</td>\n",
              "      <td>female</td>\n",
              "      <td>38.0</td>\n",
              "      <td>0</td>\n",
              "      <td>0</td>\n",
              "      <td>113572</td>\n",
              "      <td>80.0</td>\n",
              "      <td>B28</td>\n",
              "      <td>NaN</td>\n",
              "    </tr>\n",
              "    <tr>\n",
              "      <th>829</th>\n",
              "      <td>830</td>\n",
              "      <td>1</td>\n",
              "      <td>1</td>\n",
              "      <td>Stone, Mrs. George Nelson (Martha Evelyn)</td>\n",
              "      <td>female</td>\n",
              "      <td>62.0</td>\n",
              "      <td>0</td>\n",
              "      <td>0</td>\n",
              "      <td>113572</td>\n",
              "      <td>80.0</td>\n",
              "      <td>B28</td>\n",
              "      <td>NaN</td>\n",
              "    </tr>\n",
              "  </tbody>\n",
              "</table>\n",
              "</div>"
            ],
            "text/plain": [
              "     PassengerId  Survived  Pclass                                       Name  \\\n",
              "61            62         1       1                        Icard, Miss. Amelie   \n",
              "829          830         1       1  Stone, Mrs. George Nelson (Martha Evelyn)   \n",
              "\n",
              "        Sex   Age  SibSp  Parch  Ticket  Fare Cabin Embarked  \n",
              "61   female  38.0      0      0  113572  80.0   B28      NaN  \n",
              "829  female  62.0      0      0  113572  80.0   B28      NaN  "
            ]
          },
          "execution_count": 131,
          "metadata": {},
          "output_type": "execute_result"
        }
      ],
      "source": [
        "df[df['Embarked'].isnull()]"
      ]
    },
    {
      "cell_type": "code",
      "execution_count": null,
      "id": "260bf22a",
      "metadata": {
        "id": "260bf22a",
        "outputId": "6b7456b9-4131-4784-9b54-f90fe55c86bc"
      },
      "outputs": [
        {
          "data": {
            "text/html": [
              "<div>\n",
              "<style scoped>\n",
              "    .dataframe tbody tr th:only-of-type {\n",
              "        vertical-align: middle;\n",
              "    }\n",
              "\n",
              "    .dataframe tbody tr th {\n",
              "        vertical-align: top;\n",
              "    }\n",
              "\n",
              "    .dataframe thead th {\n",
              "        text-align: right;\n",
              "    }\n",
              "</style>\n",
              "<table border=\"1\" class=\"dataframe\">\n",
              "  <thead>\n",
              "    <tr style=\"text-align: right;\">\n",
              "      <th></th>\n",
              "      <th>PassengerId</th>\n",
              "      <th>Survived</th>\n",
              "      <th>Pclass</th>\n",
              "      <th>Name</th>\n",
              "      <th>Sex</th>\n",
              "      <th>Age</th>\n",
              "      <th>SibSp</th>\n",
              "      <th>Parch</th>\n",
              "      <th>Ticket</th>\n",
              "      <th>Fare</th>\n",
              "      <th>Cabin</th>\n",
              "      <th>Embarked</th>\n",
              "    </tr>\n",
              "  </thead>\n",
              "  <tbody>\n",
              "    <tr>\n",
              "      <th>61</th>\n",
              "      <td>62</td>\n",
              "      <td>1</td>\n",
              "      <td>1</td>\n",
              "      <td>Icard, Miss. Amelie</td>\n",
              "      <td>female</td>\n",
              "      <td>38.0</td>\n",
              "      <td>0</td>\n",
              "      <td>0</td>\n",
              "      <td>113572</td>\n",
              "      <td>80.0</td>\n",
              "      <td>B28</td>\n",
              "      <td>NaN</td>\n",
              "    </tr>\n",
              "    <tr>\n",
              "      <th>829</th>\n",
              "      <td>830</td>\n",
              "      <td>1</td>\n",
              "      <td>1</td>\n",
              "      <td>Stone, Mrs. George Nelson (Martha Evelyn)</td>\n",
              "      <td>female</td>\n",
              "      <td>62.0</td>\n",
              "      <td>0</td>\n",
              "      <td>0</td>\n",
              "      <td>113572</td>\n",
              "      <td>80.0</td>\n",
              "      <td>B28</td>\n",
              "      <td>NaN</td>\n",
              "    </tr>\n",
              "  </tbody>\n",
              "</table>\n",
              "</div>"
            ],
            "text/plain": [
              "     PassengerId  Survived  Pclass                                       Name  \\\n",
              "61            62         1       1                        Icard, Miss. Amelie   \n",
              "829          830         1       1  Stone, Mrs. George Nelson (Martha Evelyn)   \n",
              "\n",
              "        Sex   Age  SibSp  Parch  Ticket  Fare Cabin Embarked  \n",
              "61   female  38.0      0      0  113572  80.0   B28      NaN  \n",
              "829  female  62.0      0      0  113572  80.0   B28      NaN  "
            ]
          },
          "execution_count": 132,
          "metadata": {},
          "output_type": "execute_result"
        }
      ],
      "source": [
        "df[df['Cabin']=='B28']"
      ]
    },
    {
      "cell_type": "code",
      "execution_count": null,
      "id": "f23b40cd",
      "metadata": {
        "id": "f23b40cd",
        "outputId": "92f554e6-a33a-46e6-ddd7-acec78357044"
      },
      "outputs": [
        {
          "data": {
            "text/html": [
              "<div>\n",
              "<style scoped>\n",
              "    .dataframe tbody tr th:only-of-type {\n",
              "        vertical-align: middle;\n",
              "    }\n",
              "\n",
              "    .dataframe tbody tr th {\n",
              "        vertical-align: top;\n",
              "    }\n",
              "\n",
              "    .dataframe thead th {\n",
              "        text-align: right;\n",
              "    }\n",
              "</style>\n",
              "<table border=\"1\" class=\"dataframe\">\n",
              "  <thead>\n",
              "    <tr style=\"text-align: right;\">\n",
              "      <th></th>\n",
              "      <th>PassengerId</th>\n",
              "      <th>Survived</th>\n",
              "      <th>Pclass</th>\n",
              "      <th>Name</th>\n",
              "      <th>Sex</th>\n",
              "      <th>Age</th>\n",
              "      <th>SibSp</th>\n",
              "      <th>Parch</th>\n",
              "      <th>Ticket</th>\n",
              "      <th>Fare</th>\n",
              "      <th>Cabin</th>\n",
              "      <th>Embarked</th>\n",
              "    </tr>\n",
              "  </thead>\n",
              "  <tbody>\n",
              "    <tr>\n",
              "      <th>61</th>\n",
              "      <td>62</td>\n",
              "      <td>1</td>\n",
              "      <td>1</td>\n",
              "      <td>Icard, Miss. Amelie</td>\n",
              "      <td>female</td>\n",
              "      <td>38.0</td>\n",
              "      <td>0</td>\n",
              "      <td>0</td>\n",
              "      <td>113572</td>\n",
              "      <td>80.0</td>\n",
              "      <td>B28</td>\n",
              "      <td>NaN</td>\n",
              "    </tr>\n",
              "    <tr>\n",
              "      <th>829</th>\n",
              "      <td>830</td>\n",
              "      <td>1</td>\n",
              "      <td>1</td>\n",
              "      <td>Stone, Mrs. George Nelson (Martha Evelyn)</td>\n",
              "      <td>female</td>\n",
              "      <td>62.0</td>\n",
              "      <td>0</td>\n",
              "      <td>0</td>\n",
              "      <td>113572</td>\n",
              "      <td>80.0</td>\n",
              "      <td>B28</td>\n",
              "      <td>NaN</td>\n",
              "    </tr>\n",
              "  </tbody>\n",
              "</table>\n",
              "</div>"
            ],
            "text/plain": [
              "     PassengerId  Survived  Pclass                                       Name  \\\n",
              "61            62         1       1                        Icard, Miss. Amelie   \n",
              "829          830         1       1  Stone, Mrs. George Nelson (Martha Evelyn)   \n",
              "\n",
              "        Sex   Age  SibSp  Parch  Ticket  Fare Cabin Embarked  \n",
              "61   female  38.0      0      0  113572  80.0   B28      NaN  \n",
              "829  female  62.0      0      0  113572  80.0   B28      NaN  "
            ]
          },
          "execution_count": 135,
          "metadata": {},
          "output_type": "execute_result"
        }
      ],
      "source": [
        "df[df['Ticket']=='113572']"
      ]
    },
    {
      "cell_type": "code",
      "execution_count": null,
      "id": "9a3ab424",
      "metadata": {
        "id": "9a3ab424",
        "outputId": "47400437-b981-4c46-ec6a-ce4d8359c710"
      },
      "outputs": [
        {
          "data": {
            "text/html": [
              "<div>\n",
              "<style scoped>\n",
              "    .dataframe tbody tr th:only-of-type {\n",
              "        vertical-align: middle;\n",
              "    }\n",
              "\n",
              "    .dataframe tbody tr th {\n",
              "        vertical-align: top;\n",
              "    }\n",
              "\n",
              "    .dataframe thead th {\n",
              "        text-align: right;\n",
              "    }\n",
              "</style>\n",
              "<table border=\"1\" class=\"dataframe\">\n",
              "  <thead>\n",
              "    <tr style=\"text-align: right;\">\n",
              "      <th></th>\n",
              "      <th>PassengerId</th>\n",
              "      <th>Survived</th>\n",
              "      <th>Pclass</th>\n",
              "      <th>Name</th>\n",
              "      <th>Sex</th>\n",
              "      <th>Age</th>\n",
              "      <th>SibSp</th>\n",
              "      <th>Parch</th>\n",
              "      <th>Ticket</th>\n",
              "      <th>Fare</th>\n",
              "      <th>Cabin</th>\n",
              "      <th>Embarked</th>\n",
              "    </tr>\n",
              "  </thead>\n",
              "  <tbody>\n",
              "    <tr>\n",
              "      <th>61</th>\n",
              "      <td>62</td>\n",
              "      <td>1</td>\n",
              "      <td>1</td>\n",
              "      <td>Icard, Miss. Amelie</td>\n",
              "      <td>female</td>\n",
              "      <td>38.0</td>\n",
              "      <td>0</td>\n",
              "      <td>0</td>\n",
              "      <td>113572</td>\n",
              "      <td>80.0</td>\n",
              "      <td>B28</td>\n",
              "      <td>NaN</td>\n",
              "    </tr>\n",
              "    <tr>\n",
              "      <th>829</th>\n",
              "      <td>830</td>\n",
              "      <td>1</td>\n",
              "      <td>1</td>\n",
              "      <td>Stone, Mrs. George Nelson (Martha Evelyn)</td>\n",
              "      <td>female</td>\n",
              "      <td>62.0</td>\n",
              "      <td>0</td>\n",
              "      <td>0</td>\n",
              "      <td>113572</td>\n",
              "      <td>80.0</td>\n",
              "      <td>B28</td>\n",
              "      <td>NaN</td>\n",
              "    </tr>\n",
              "  </tbody>\n",
              "</table>\n",
              "</div>"
            ],
            "text/plain": [
              "     PassengerId  Survived  Pclass                                       Name  \\\n",
              "61            62         1       1                        Icard, Miss. Amelie   \n",
              "829          830         1       1  Stone, Mrs. George Nelson (Martha Evelyn)   \n",
              "\n",
              "        Sex   Age  SibSp  Parch  Ticket  Fare Cabin Embarked  \n",
              "61   female  38.0      0      0  113572  80.0   B28      NaN  \n",
              "829  female  62.0      0      0  113572  80.0   B28      NaN  "
            ]
          },
          "execution_count": 142,
          "metadata": {},
          "output_type": "execute_result"
        }
      ],
      "source": [
        "df[df['Fare'] ==80]"
      ]
    },
    {
      "cell_type": "code",
      "execution_count": null,
      "id": "561afcda",
      "metadata": {
        "id": "561afcda"
      },
      "outputs": [],
      "source": []
    },
    {
      "cell_type": "code",
      "execution_count": null,
      "id": "744f00db",
      "metadata": {
        "id": "744f00db"
      },
      "outputs": [],
      "source": []
    }
  ],
  "metadata": {
    "colab": {
      "provenance": []
    },
    "kernelspec": {
      "display_name": "Python 3",
      "language": "python",
      "name": "python3"
    },
    "language_info": {
      "codemirror_mode": {
        "name": "ipython",
        "version": 3
      },
      "file_extension": ".py",
      "mimetype": "text/x-python",
      "name": "python",
      "nbconvert_exporter": "python",
      "pygments_lexer": "ipython3",
      "version": "3.13.0"
    }
  },
  "nbformat": 4,
  "nbformat_minor": 5
}
