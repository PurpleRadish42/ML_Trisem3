{
 "cells": [
  {
   "cell_type": "code",
   "execution_count": null,
   "metadata": {},
   "outputs": [],
   "source": [
    "import pandas as pd\n",
    "import numpy as np\n",
    "import matplotlib.pyplot as plt\n",
    "import seaborn as sns\n",
    "from sklearn.datasets import fetch_california_housing\n",
    "from sklearn.model_selection import train_test_split, cross_val_score\n",
    "from sklearn.linear_model import LinearRegression\n",
    "from sklearn.metrics import mean_squared_error, r2_score\n",
    "from sklearn.preprocessing import StandardScaler\n",
    "import statsmodels.api as sm\n",
    "from statsmodels.stats.outliers_influence import variance_inflation_factor"
   ]
  },
  {
   "cell_type": "code",
   "execution_count": null,
   "metadata": {},
   "outputs": [],
   "source": [
    "# Set seed for reproducibility\n",
    "np.random.seed(42)\n",
    "\n",
    "# Load California Housing dataset\n",
    "housing = fetch_california_housing()\n",
    "df = pd.DataFrame(housing.data, columns=housing.feature_names)\n",
    "df['PRICE'] = housing.target\n",
    "\n",
    "print(\"California Housing Dataset:\")\n",
    "print(f\"Dataset shape: {df.shape}\")\n",
    "print(\"\\nFeatures description:\")\n",
    "for i, feature in enumerate(housing.feature_names):\n",
    "    print(f\"{feature}: {housing.feature_names[i]}\")\n",
    "print(\"\\nTarget variable: PRICE (median house value in $100,000s)\")"
   ]
  },
  {
   "cell_type": "code",
   "execution_count": null,
   "metadata": {},
   "outputs": [],
   "source": [
    "print(\"\\nFirst 5 rows of the dataset:\")\n",
    "print(df.head())\n",
    "\n",
    "print(\"\\nSummary statistics:\")\n",
    "print(df.describe())"
   ]
  },
  {
   "cell_type": "code",
   "execution_count": null,
   "metadata": {},
   "outputs": [],
   "source": [
    "plt.figure(figsize=(12, 10))\n",
    "sns.heatmap(df.corr(), annot=True, cmap='coolwarm', fmt='.2f')\n",
    "plt.title('Correlation Matrix of California Housing Features')\n",
    "plt.tight_layout()\n",
    "plt.show()"
   ]
  },
  {
   "cell_type": "code",
   "execution_count": null,
   "metadata": {},
   "outputs": [],
   "source": [
    "# Split data into features and target\n",
    "X = df.drop('PRICE', axis=1)\n",
    "y = df['PRICE']"
   ]
  },
  {
   "cell_type": "code",
   "execution_count": null,
   "metadata": {},
   "outputs": [],
   "source": [
    "# Train-test split\n",
    "X_train, X_test, y_train, y_test = train_test_split(X, y, test_size=0.2, random_state=42)\n",
    "\n",
    "# Standardize features\n",
    "scaler = StandardScaler()\n",
    "X_train_scaled = scaler.fit_transform(X_train)\n",
    "X_test_scaled = scaler.transform(X_test);"
   ]
  },
  {
   "cell_type": "code",
   "execution_count": null,
   "metadata": {},
   "outputs": [],
   "source": [
    "def evaluate_model(X_train, X_test, y_train, y_test, feature_names, model_name=\"Model\"):\n",
    "    model = LinearRegression()\n",
    "    model.fit(X_train, y_train)\n",
    "    \n",
    "    # Training predictions and evaluation\n",
    "    y_train_pred = model.predict(X_train)\n",
    "    train_mse = mean_squared_error(y_train, y_train_pred)\n",
    "    train_rmse = np.sqrt(train_mse)\n",
    "    train_r2 = r2_score(y_train, y_train_pred)\n",
    "    \n",
    "    # Test predictions and evaluation\n",
    "    y_test_pred = model.predict(X_test)\n",
    "    test_mse = mean_squared_error(y_test, y_test_pred)\n",
    "    test_rmse = np.sqrt(test_mse)\n",
    "    test_r2 = r2_score(y_test, y_test_pred)\n",
    "    \n",
    "    # Cross-validation for more robust evaluation\n",
    "    cv_scores = cross_val_score(model, X_train, y_train, cv=5, scoring='neg_mean_squared_error')\n",
    "    cv_rmse = np.sqrt(-cv_scores.mean())\n",
    "    \n",
    "    # Calculate adjusted R-squared for test set\n",
    "    n = X_test.shape[0]  # number of observations\n",
    "    p = X_test.shape[1]  # number of predictors\n",
    "    test_adj_r2 = 1 - (1 - test_r2) * (n - 1) / (n - p - 1)\n",
    "    \n",
    "    print(f\"\\n--- {model_name} Evaluation ---\")\n",
    "    print(f\"Features used: {', '.join(feature_names)}\")\n",
    "    print(f\"Number of features: {len(feature_names)}\")\n",
    "    print(f\"Training RMSE: {train_rmse:.4f}\")\n",
    "    print(f\"Test RMSE: {test_rmse:.4f}\")\n",
    "    print(f\"Cross-validation RMSE: {cv_rmse:.4f}\")\n",
    "    print(f\"Training R²: {train_r2:.4f}\")\n",
    "    print(f\"Test R²: {test_r2:.4f}\")\n",
    "    print(f\"Test Adjusted R²: {test_adj_r2:.4f}\")\n",
    "    \n",
    "    # Return the coefficient values along with evaluation metrics\n",
    "    coefficients = pd.DataFrame({\n",
    "        'Feature': feature_names,\n",
    "        'Coefficient': model.coef_\n",
    "    }).sort_values(by='Coefficient', ascending=False)\n",
    "    \n",
    "    result = {\n",
    "        'model': model,\n",
    "        'feature_names': feature_names,\n",
    "        'test_rmse': test_rmse,\n",
    "        'test_r2': test_r2,\n",
    "        'test_adj_r2': test_adj_r2,\n",
    "        'coefficients': coefficients,\n",
    "        'cv_rmse': cv_rmse\n",
    "    }\n",
    "    \n",
    "    return result\n",
    "\n",
    "# Evaluate base model with all features\n",
    "base_result = evaluate_model(\n",
    "    X_train_scaled, X_test_scaled, y_train, y_test, \n",
    "    X.columns, \"Base Model (All Features)\"\n",
    ");"
   ]
  }
 ],
 "metadata": {
  "kernelspec": {
   "display_name": "Python 3",
   "language": "python",
   "name": "python3"
  },
  "language_info": {
   "name": "python",
   "version": "3.13.2"
  }
 },
 "nbformat": 4,
 "nbformat_minor": 2
}
