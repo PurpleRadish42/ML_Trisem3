{
 "cells": [
  {
   "cell_type": "markdown",
   "metadata": {},
   "source": [
    "<center> <h3><b>Practice Lab: Pairwise Seperation</b></h3></center>\n",
    "<center><p> R Abhijit Srivathsan <br> 2448044 </p></center>"
   ]
  },
  {
   "cell_type": "code",
   "execution_count": 1,
   "metadata": {},
   "outputs": [],
   "source": [
    "import numpy as np\n",
    "from itertools import combinations\n",
    "\n",
    "from sklearn.datasets import load_iris\n",
    "from sklearn.model_selection import train_test_split, cross_val_score\n",
    "from sklearn.svm import SVC\n",
    "from sklearn.metrics import classification_report, accuracy_score"
   ]
  },
  {
   "cell_type": "code",
   "execution_count": 2,
   "metadata": {},
   "outputs": [],
   "source": [
    "iris = load_iris()\n",
    "X = iris.data\n",
    "y = iris.target\n",
    "target_names = iris.target_names"
   ]
  },
  {
   "cell_type": "code",
   "execution_count": 3,
   "metadata": {},
   "outputs": [
    {
     "name": "stdout",
     "output_type": "stream",
     "text": [
      "Feature matrix shape: (150, 4)\n",
      "Labels shape: (150,)\n",
      "Unique class labels: [0 1 2] ['setosa' 'versicolor' 'virginica']\n"
     ]
    }
   ],
   "source": [
    "print(\"Feature matrix shape:\", X.shape)\n",
    "print(\"Labels shape:\", y.shape)\n",
    "print(\"Unique class labels:\", np.unique(y), target_names)"
   ]
  },
  {
   "cell_type": "code",
   "execution_count": 4,
   "metadata": {},
   "outputs": [
    {
     "name": "stdout",
     "output_type": "stream",
     "text": [
      "\n",
      "Pairwise class combinations:\n",
      "  Classes 0 vs 1 (setosa vs versicolor)\n",
      "  Classes 0 vs 2 (setosa vs virginica)\n",
      "  Classes 1 vs 2 (versicolor vs virginica)\n"
     ]
    }
   ],
   "source": [
    "class_pairs = list(combinations(np.unique(y), 2))\n",
    "print(\"\\nPairwise class combinations:\")\n",
    "for pair in class_pairs:\n",
    "    print(f\"  Classes {pair[0]} vs {pair[1]} ({target_names[pair[0]]} vs {target_names[pair[1]]})\")"
   ]
  },
  {
   "cell_type": "code",
   "execution_count": 5,
   "metadata": {},
   "outputs": [
    {
     "name": "stdout",
     "output_type": "stream",
     "text": [
      "\n",
      "===================================\n",
      "Results for classes (np.int64(0), np.int64(1)) (setosa vs versicolor)\n",
      "===================================\n",
      "Classification Report:\n",
      "              precision    recall  f1-score   support\n",
      "\n",
      "      setosa       1.00      1.00      1.00        12\n",
      "  versicolor       1.00      1.00      1.00         8\n",
      "\n",
      "    accuracy                           1.00        20\n",
      "   macro avg       1.00      1.00      1.00        20\n",
      "weighted avg       1.00      1.00      1.00        20\n",
      "\n",
      "Accuracy: 1.0\n",
      "\n",
      "===================================\n",
      "Results for classes (np.int64(0), np.int64(2)) (setosa vs virginica)\n",
      "===================================\n",
      "Classification Report:\n",
      "              precision    recall  f1-score   support\n",
      "\n",
      "      setosa       1.00      1.00      1.00        12\n",
      "   virginica       1.00      1.00      1.00         8\n",
      "\n",
      "    accuracy                           1.00        20\n",
      "   macro avg       1.00      1.00      1.00        20\n",
      "weighted avg       1.00      1.00      1.00        20\n",
      "\n",
      "Accuracy: 1.0\n",
      "\n",
      "===================================\n",
      "Results for classes (np.int64(1), np.int64(2)) (versicolor vs virginica)\n",
      "===================================\n",
      "Classification Report:\n",
      "              precision    recall  f1-score   support\n",
      "\n",
      "  versicolor       1.00      0.83      0.91        12\n",
      "   virginica       0.80      1.00      0.89         8\n",
      "\n",
      "    accuracy                           0.90        20\n",
      "   macro avg       0.90      0.92      0.90        20\n",
      "weighted avg       0.92      0.90      0.90        20\n",
      "\n",
      "Accuracy: 0.9\n"
     ]
    }
   ],
   "source": [
    "for pair in class_pairs:\n",
    "    # Extract samples belonging to just these two classes\n",
    "    idx = np.where((y == pair[0]) | (y == pair[1]))\n",
    "    X_pair = X[idx]\n",
    "    y_pair = y[idx]\n",
    "    \n",
    "    # Define and train the model (SVC)\n",
    "    model = SVC(kernel='linear', random_state=42)\n",
    "    \n",
    "    # Let's do a train/test split for demonstration\n",
    "    X_train, X_test, y_train, y_test = train_test_split(\n",
    "        X_pair, y_pair, test_size=0.2, random_state=42\n",
    "    )\n",
    "    \n",
    "    model.fit(X_train, y_train)\n",
    "    y_pred = model.predict(X_test)\n",
    "    \n",
    "    print(\"\\n===================================\")\n",
    "    print(f\"Results for classes {pair} ({target_names[pair[0]]} vs {target_names[pair[1]]})\")\n",
    "    print(\"===================================\")\n",
    "    print(\"Classification Report:\")\n",
    "    print(classification_report(y_test, y_pred, target_names=[target_names[pair[0]], target_names[pair[1]]]))\n",
    "    print(\"Accuracy:\", accuracy_score(y_test, y_pred))"
   ]
  },
  {
   "cell_type": "code",
   "execution_count": 6,
   "metadata": {},
   "outputs": [
    {
     "name": "stdout",
     "output_type": "stream",
     "text": [
      "Cross-validation scores (5-fold): [0.95 1.   0.95 0.95 1.  ]\n",
      "Mean CV Accuracy: 0.97\n"
     ]
    }
   ],
   "source": [
    "cv_scores = cross_val_score(model, X_pair, y_pair, cv=5)\n",
    "print(\"Cross-validation scores (5-fold):\", cv_scores)\n",
    "print(\"Mean CV Accuracy:\", cv_scores.mean())"
   ]
  },
  {
   "cell_type": "markdown",
   "metadata": {},
   "source": [
    "### Observation\n",
    "From the 5-fold cross-validation, we see individual fold accuracies of `[0.95, 1.0, 0.95, 0.95, 1.0]` and a mean accuracy of `0.97`. This indicates that in most folds, the classifier performs very well, often achieving a perfect score (100%). The slight drop to 0.95 in some folds suggests a small number of misclassifications. Overall, the model consistently separates these two classes with high accuracy.\n",
    "\n",
    "### Conclusion\n",
    "The consistently high cross-validation accuracy (mean = `0.97`) demonstrates that the classifier (in this pairwise setting) is highly effective at distinguishing between these two particular classes. The results suggest strong separability in the chosen feature space and indicate that the model is robust for this binary (pairwise) classification task.\n"
   ]
  }
 ],
 "metadata": {
  "kernelspec": {
   "display_name": "Python 3",
   "language": "python",
   "name": "python3"
  },
  "language_info": {
   "codemirror_mode": {
    "name": "ipython",
    "version": 3
   },
   "file_extension": ".py",
   "mimetype": "text/x-python",
   "name": "python",
   "nbconvert_exporter": "python",
   "pygments_lexer": "ipython3",
   "version": "3.13.2"
  }
 },
 "nbformat": 4,
 "nbformat_minor": 2
}
