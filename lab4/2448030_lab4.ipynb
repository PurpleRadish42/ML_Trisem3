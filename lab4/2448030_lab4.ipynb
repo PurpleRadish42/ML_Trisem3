{
 "cells": [
  {
   "cell_type": "markdown",
   "metadata": {},
   "source": [
    "Introduction<br>\n",
    "In modern machine learning tasks, selecting the most relevant features is crucial for building robust, interpretable, and computationally efficient models. Feature selection can help reduce overfitting, improve model accuracy, and decrease training time. This report presents a detailed study on two major categories of feature selection techniques: Wrapper Methods and Embedded Methods.\n",
    "\n",
    "Wrapper Methods evaluate various subsets of features by training a model on each subset. Techniques such as Forward Selection, Backward Elimination, Recursive Feature Elimination (RFE), and Exhaustive Search are common examples.\n",
    "Embedded Methods incorporate feature selection as part of the model training process. Regularization techniques such as Lasso (L1 regularization) not only help in reducing overfitting but also automatically shrink the coefficients of less important features to zero."
   ]
  },
  {
   "cell_type": "markdown",
   "metadata": {},
   "source": [
    " Dataset Description<br>\n",
    "Dataset: Wine Quality (red wine)<br>\n",
    "Source: UCI Machine Learning Repository<br >\n",
    "Features:\n",
    "\n",
    "fixed acidity\n",
    "volatile acidity\n",
    "citric acid\n",
    "residual sugar\n",
    "chlorides\n",
    "free sulfur dioxide\n",
    "total sulfur dioxide\n",
    "density\n",
    "pH\n",
    "sulphates\n",
    "alcohol\n",
    "Target: quality\n",
    "<br> Data Loading and Cleaning\n",
    "Since the dataset is semicolon-delimited, it is important to load it with the correct separator. We also clean the column names to remove any extraneous quotes or whitespace."
   ]
  },
  {
   "cell_type": "code",
   "execution_count": 1,
   "metadata": {},
   "outputs": [
    {
     "name": "stdout",
     "output_type": "stream",
     "text": [
      "Columns: ['fixed acidity', 'volatile acidity', 'citric acid', 'residual sugar', 'chlorides', 'free sulfur dioxide', 'total sulfur dioxide', 'density', 'pH', 'sulphates', 'alcohol', 'quality']\n"
     ]
    }
   ],
   "source": [
    "import pandas as pd\n",
    "\n",
    "# Load the Wine Quality dataset using the correct delimiter (semicolon)\n",
    "df = pd.read_csv(\"winequality-red.csv\", sep=\";\")\n",
    "\n",
    "# Clean column names in case of extra quotes or spaces\n",
    "df.columns = df.columns.str.replace('\"', '').str.strip()\n",
    "\n",
    "# Verify that the columns are correctly parsed\n",
    "print(\"Columns:\", df.columns.tolist())\n",
    "\n",
    "\n"
   ]
  },
  {
   "cell_type": "markdown",
   "metadata": {},
   "source": [
    "We separate the features (X) from the target variable (y) and split the data into training and testing sets to avoid data leakage during the feature selection process"
   ]
  },
  {
   "cell_type": "code",
   "execution_count": 2,
   "metadata": {},
   "outputs": [],
   "source": [
    "# Clean column names by removing extra quotes and whitespace\n",
    "df.columns = df.columns.str.replace('\"', '').str.strip()\n",
    "\n",
    "# Separate features and target variable\n",
    "X = df.drop(\"quality\", axis=1)\n",
    "y = df[\"quality\"]\n",
    "\n",
    "# Split the dataset into training and testing sets\n",
    "from sklearn.model_selection import train_test_split\n",
    "X_train, X_test, y_train, y_test = train_test_split(X, y, test_size=0.2, random_state=42)\n"
   ]
  },
  {
   "cell_type": "markdown",
   "metadata": {},
   "source": [
    " Wrapper Methods\n",
    "Wrapper methods use a predictive model to evaluate different subsets of features. In our study, we implement the following wrapper methods:\n",
    "\n",
    "a) Forward Selection\n",
    "Starts with an empty set of features and adds one feature at a time that maximally improves the model’s performance. We use scikit-learn’s SequentialFeatureSelector."
   ]
  },
  {
   "cell_type": "code",
   "execution_count": 3,
   "metadata": {},
   "outputs": [
    {
     "name": "stdout",
     "output_type": "stream",
     "text": [
      "Selected features (Forward Selection): ['volatile acidity', 'chlorides', 'total sulfur dioxide', 'sulphates', 'alcohol']\n"
     ]
    }
   ],
   "source": [
    "from sklearn.linear_model import LinearRegression\n",
    "from sklearn.feature_selection import SequentialFeatureSelector\n",
    "\n",
    "# Initialize a linear regression estimator\n",
    "estimator = LinearRegression()\n",
    "\n",
    "# Forward selection: start with no features, add one at a time\n",
    "sfs_forward = SequentialFeatureSelector(estimator, \n",
    "                                        n_features_to_select=5, \n",
    "                                        direction='forward',\n",
    "                                        cv=5,\n",
    "                                        n_jobs=-1)\n",
    "sfs_forward.fit(X_train, y_train)\n",
    "\n",
    "# Get selected features\n",
    "selected_features_forward = X_train.columns[sfs_forward.get_support()]\n",
    "print(\"Selected features (Forward Selection):\", selected_features_forward.tolist())\n",
    "\n",
    "\n"
   ]
  },
  {
   "cell_type": "markdown",
   "metadata": {},
   "source": [
    "Starts with all features and removes one at a time—the least significant feature—until a desired number of features remains."
   ]
  },
  {
   "cell_type": "code",
   "execution_count": 4,
   "metadata": {},
   "outputs": [
    {
     "name": "stdout",
     "output_type": "stream",
     "text": [
      "Selected features (Backward Elimination): ['volatile acidity', 'chlorides', 'total sulfur dioxide', 'sulphates', 'alcohol']\n"
     ]
    }
   ],
   "source": [
    "# Backward elimination: start with all features, remove one at a time\n",
    "sfs_backward = SequentialFeatureSelector(estimator, \n",
    "                                         n_features_to_select=5, \n",
    "                                         direction='backward',\n",
    "                                         cv=5,\n",
    "                                         n_jobs=-1)\n",
    "sfs_backward.fit(X_train, y_train)\n",
    "\n",
    "# Get selected features\n",
    "selected_features_backward = X_train.columns[sfs_backward.get_support()]\n",
    "print(\"Selected features (Backward Elimination):\", selected_features_backward.tolist())\n"
   ]
  },
  {
   "cell_type": "markdown",
   "metadata": {},
   "source": [
    " Recursive Feature Elimination (RFE)\n",
    "RFE works by recursively removing the least important feature based on the model’s coefficients until only the desired number of features remains."
   ]
  },
  {
   "cell_type": "code",
   "execution_count": 5,
   "metadata": {},
   "outputs": [
    {
     "name": "stdout",
     "output_type": "stream",
     "text": [
      "Selected features (RFE): ['volatile acidity', 'chlorides', 'density', 'pH', 'sulphates']\n"
     ]
    }
   ],
   "source": [
    "from sklearn.feature_selection import RFE\n",
    "\n",
    "# Initialize RFE with the linear regression estimator to select the top 5 features\n",
    "selector = RFE(estimator, n_features_to_select=5, step=1)\n",
    "selector = selector.fit(X_train, y_train)\n",
    "\n",
    "# Extract and print selected features from RFE\n",
    "selected_features_rfe = X_train.columns[selector.support_]\n",
    "print(\"Selected features (RFE):\", selected_features_rfe.tolist())\n"
   ]
  },
  {
   "cell_type": "markdown",
   "metadata": {},
   "source": [
    "Exhaustive Search <br >\n",
    "This method evaluates every possible combination of features to find the best subset. Due to its computational intensity, it is typically only feasible for datasets with a small number of features. We use the ExhaustiveFeatureSelector from the mlxtend library."
   ]
  },
  {
   "cell_type": "code",
   "execution_count": 6,
   "metadata": {},
   "outputs": [
    {
     "name": "stderr",
     "output_type": "stream",
     "text": [
      "Features: 462/462"
     ]
    },
    {
     "name": "stdout",
     "output_type": "stream",
     "text": [
      "Selected features (Exhaustive Search): ['volatile acidity', 'chlorides', 'total sulfur dioxide', 'sulphates', 'alcohol']\n"
     ]
    }
   ],
   "source": [
    "\n",
    "from mlxtend.feature_selection import ExhaustiveFeatureSelector as EFS\n",
    "\n",
    "# Exhaustive search using a linear regression estimator\n",
    "efs = EFS(estimator,\n",
    "          min_features=5,\n",
    "          max_features=5,\n",
    "          scoring='r2',  # or any scoring metric you prefer\n",
    "          print_progress=True,\n",
    "          cv=5,\n",
    "          n_jobs=-1)\n",
    "\n",
    "efs = efs.fit(X_train, y_train)\n",
    "\n",
    "# Selected feature indices and names\n",
    "selected_features_exhaustive = X_train.columns[list(efs.best_idx_)]\n",
    "print(\"Selected features (Exhaustive Search):\", selected_features_exhaustive.tolist())\n",
    "\n",
    "\n"
   ]
  },
  {
   "cell_type": "markdown",
   "metadata": {},
   "source": [
    "Embedded Methods<br>\n",
    "Embedded methods perform feature selection as part of the model training process. In this study, we use LassoCV, which applies L1 regularization to shrink coefficients to zero for less important features."
   ]
  },
  {
   "cell_type": "code",
   "execution_count": 7,
   "metadata": {},
   "outputs": [
    {
     "name": "stdout",
     "output_type": "stream",
     "text": [
      "Selected features (LassoCV): ['fixed acidity', 'volatile acidity', 'residual sugar', 'free sulfur dioxide', 'total sulfur dioxide', 'sulphates', 'alcohol']\n"
     ]
    }
   ],
   "source": [
    "from sklearn.linear_model import LassoCV\n",
    "\n",
    "# Use LassoCV to perform embedded feature selection with cross-validation\n",
    "lasso = LassoCV(cv=5, random_state=42).fit(X_train, y_train)\n",
    "\n",
    "# Create a series with feature coefficients\n",
    "coef = pd.Series(lasso.coef_, index=X_train.columns)\n",
    "\n",
    "# Select features with non-zero coefficients\n",
    "selected_features_lasso = coef[coef != 0].index\n",
    "print(\"Selected features (LassoCV):\", list(selected_features_lasso))\n",
    "\n"
   ]
  },
  {
   "cell_type": "markdown",
   "metadata": {},
   "source": [
    "Visualizing the Lasso coefficients can help interpret the relative importance of each feature."
   ]
  },
  {
   "cell_type": "code",
   "execution_count": 8,
   "metadata": {},
   "outputs": [
    {
     "name": "stderr",
     "output_type": "stream",
     "text": [
      "Matplotlib is building the font cache; this may take a moment.\n"
     ]
    },
    {
     "data": {
      "image/png": "[encoded data removed]",
      "text/plain": [
       "<Figure size 1000x500 with 1 Axes>"
      ]
     },
     "metadata": {},
     "output_type": "display_data"
    }
   ],
   "source": [
    "import matplotlib.pyplot as plt\n",
    "\n",
    "# Plot the coefficients from the Lasso model\n",
    "plt.figure(figsize=(10, 5))\n",
    "coef.plot(kind='bar')\n",
    "plt.title(\"Lasso Coefficients\")\n",
    "plt.xlabel(\"Features\")\n",
    "plt.ylabel(\"Coefficient Value\")\n",
    "plt.tight_layout()\n",
    "plt.show()\n"
   ]
  },
  {
   "cell_type": "markdown",
   "metadata": {},
   "source": [
    " Results Summary and Detailed Comparison<br>\n",
    "Summary of Selected Features<br>\n",
    "Forward Selection:<br>\n",
    "['volatile acidity', 'chlorides', 'total sulfur dioxide', 'sulphates', 'alcohol']\n",
    "\n",
    "Backward Elimination:<br>\n",
    "['volatile acidity', 'chlorides', 'total sulfur dioxide', 'sulphates', 'alcohol']\n",
    "\n",
    "RFE:<br>\n",
    "['volatile acidity', 'chlorides', 'density', 'pH', 'sulphates']\n",
    "\n",
    "Exhaustive Search:<br>\n",
    "['volatile acidity', 'chlorides', 'total sulfur dioxide', 'sulphates', 'alcohol']\n",
    "\n",
    "LassoCV:<br>\n",
    "['fixed acidity', 'volatile acidity', 'residual sugar', 'free sulfur dioxide', 'total sulfur dioxide', 'sulphates', 'alcohol']"
   ]
  },
  {
   "cell_type": "markdown",
   "metadata": {},
   "source": [
    "Detailed Comparison<br>\n",
    "Consistency Across Methods:<br>\n",
    "The three wrapper methods (Forward Selection, Backward Elimination, and Exhaustive Search) all converge on the same subset of features:<br>\n",
    "['volatile acidity', 'chlorides', 'total sulfur dioxide', 'sulphates', 'alcohol']\n",
    "This strong agreement implies that these features are consistently recognized as the most relevant predictors for wine quality when using a search-based method.\n",
    "\n",
    "RFE's Divergence:<br>\n",
    "RFE selected ['volatile acidity', 'chlorides', 'density', 'pH', 'sulphates']—differing by substituting density and pH for total sulfur dioxide and alcohol.\n",
    "\n",
    "Inference:<br>\n",
    "This difference suggests that the recursive elimination process, which relies on model coefficients, may detect interactions or non-linear relationships differently. Density and pH might carry useful information that, in combination with the other features, provide similar predictive power.<br>\n",
    "Embedded Method (LassoCV) – A Broader Perspective:<br>\n",
    "LassoCV identified a larger set of features:<br>\n",
    "['fixed acidity', 'volatile acidity', 'residual sugar', 'free sulfur dioxide', 'total sulfur dioxide', 'sulphates', 'alcohol']<br>\n",
    "\n",
    "Inference:<br>\n",
    "LassoCV’s selection indicates that while some features have a relatively smaller effect (e.g., fixed acidity, residual sugar, free sulfur dioxide), their contributions are non-zero and may improve model performance. Lasso's regularization tends to be more inclusive, capturing subtle influences that the more rigid wrapper methods might exclude."
   ]
  },
  {
   "cell_type": "markdown",
   "metadata": {},
   "source": [
    "Inferences<br>\n",
    "Key Consistent Features:<br>\n",
    "Across all methods, volatile acidity, chlorides, and sulphates are consistently selected. This reinforces their importance in determining wine quality.\n",
    "\n",
    "Method-Specific Insights:<br>\n",
    "\n",
    "Wrapper Methods: Provide a concise and highly interpretable feature set, which is advantageous when model simplicity is desired.<br>\n",
    "RFE: Its divergence suggests sensitivity to the method of eliminating features based on coefficient stability.<br>\n",
    "LassoCV: Offers a more nuanced view by retaining additional features with small but non-zero impacts, potentially leading to improved predictive performance when these subtle effects are valuable.<br>\n",
    "Practical Implication:<br>\n",
    "The choice of feature selection method should depend on your goals. If you aim for the most interpretable model with a minimal set of features, the consensus from the wrapper methods is compelling. If your priority is to capture all influential signals—even those with modest effects—an embedded method like LassoCV may be preferable."
   ]
  },
  {
   "cell_type": "markdown",
   "metadata": {},
   "source": [
    "This study demonstrated the application of multiple feature selection techniques on the Wine Quality dataset:\n",
    "\n",
    "Wrapper Methods (Forward Selection, Backward Elimination, Exhaustive Search, and RFE) generally converged on a subset of five key features, with RFE slightly differing by including density and pH.\n",
    "Embedded Method (LassoCV) selected a broader feature set that includes additional predictors with smaller coefficients.\n",
    "The consistency among several wrapper methods suggests that volatile acidity, chlorides, total sulfur dioxide, sulphates, and alcohol are critical predictors of wine quality. Meanwhile, LassoCV’s broader selection provides further insight into subtle influences from features such as fixed acidity, residual sugar, and free sulfur dioxide."
   ]
  }
 ],
 "metadata": {
  "kernelspec": {
   "display_name": "Python 3",
   "language": "python",
   "name": "python3"
  },
  "language_info": {
   "codemirror_mode": {
    "name": "ipython",
    "version": 3
   },
   "file_extension": ".py",
   "mimetype": "text/x-python",
   "name": "python",
   "nbconvert_exporter": "python",
   "pygments_lexer": "ipython3",
   "version": "3.13.2"
  }
 },
 "nbformat": 4,
 "nbformat_minor": 2
}
