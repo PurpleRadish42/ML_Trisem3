{
 "cells": [
  {
   "cell_type": "code",
   "execution_count": 1,
   "metadata": {},
   "outputs": [
    {
     "name": "stdout",
     "output_type": "stream",
     "text": [
      "Classification Report:\n",
      "              precision    recall  f1-score   support\n",
      "\n",
      "      setosa       1.00      1.00      1.00        19\n",
      "  versicolor       1.00      1.00      1.00        13\n",
      "   virginica       1.00      1.00      1.00        13\n",
      "\n",
      "    accuracy                           1.00        45\n",
      "   macro avg       1.00      1.00      1.00        45\n",
      "weighted avg       1.00      1.00      1.00        45\n",
      "\n"
     ]
    },
    {
     "data": {
      "image/png": "[encoded data removed]",
      "text/plain": [
       "<Figure size 800x600 with 2 Axes>"
      ]
     },
     "metadata": {},
     "output_type": "display_data"
    }
   ],
   "source": [
    "# Import necessary libraries\n",
    "from sklearn.datasets import load_iris\n",
    "from sklearn.model_selection import train_test_split\n",
    "from sklearn.ensemble import RandomForestClassifier\n",
    "from sklearn.metrics import classification_report, confusion_matrix\n",
    "import seaborn as sns\n",
    "import matplotlib.pyplot as plt\n",
    "\n",
    "# Load the iris dataset\n",
    "iris = load_iris()\n",
    "X = iris.data\n",
    "y = iris.target\n",
    "\n",
    "# Split the data\n",
    "X_train, X_test, y_train, y_test = train_test_split(X, y, test_size=0.3, random_state=42)\n",
    "\n",
    "# Train the model\n",
    "rf_classifier = RandomForestClassifier(n_estimators=100, random_state=42)\n",
    "rf_classifier.fit(X_train, y_train)\n",
    "\n",
    "# Make predictions\n",
    "y_pred = rf_classifier.predict(X_test)\n",
    "\n",
    "# Print classification report\n",
    "print(\"Classification Report:\")\n",
    "print(classification_report(y_test, y_pred, target_names=iris.target_names))\n",
    "\n",
    "# Create confusion matrix visualization\n",
    "plt.figure(figsize=(8, 6))\n",
    "sns.heatmap(confusion_matrix(y_test, y_pred), annot=True, fmt='d', \n",
    "            xticklabels=iris.target_names, yticklabels=iris.target_names)\n",
    "plt.title('Confusion Matrix')\n",
    "plt.ylabel('True Label')\n",
    "plt.xlabel('Predicted Label')\n",
    "plt.show()"
   ]
  },
  {
   "cell_type": "markdown",
   "metadata": {},
   "source": [
    "Precision:\n",
    "Precision is the ratio of correctly predicted positive observations to the total predicted positives\n",
    "Formula: Precision = True Positives / (True Positives + False Positives)"
   ]
  },
  {
   "cell_type": "code",
   "execution_count": 2,
   "metadata": {},
   "outputs": [
    {
     "name": "stdout",
     "output_type": "stream",
     "text": [
      "Confusion Matrix:\n",
      "[[19  0  0]\n",
      " [ 0 13  0]\n",
      " [ 0  0 13]]\n",
      "\n",
      "Class setosa:\n",
      "True Positives: 19\n",
      "False Positives: 0\n",
      "Precision: 1.000\n",
      "\n",
      "Class versicolor:\n",
      "True Positives: 13\n",
      "False Positives: 0\n",
      "Precision: 1.000\n",
      "\n",
      "Class virginica:\n",
      "True Positives: 13\n",
      "False Positives: 0\n",
      "Precision: 1.000\n"
     ]
    }
   ],
   "source": [
    "from sklearn.datasets import load_iris\n",
    "from sklearn.model_selection import train_test_split\n",
    "from sklearn.ensemble import RandomForestClassifier\n",
    "from sklearn.metrics import confusion_matrix\n",
    "import numpy as np\n",
    "\n",
    "# Load data\n",
    "iris = load_iris()\n",
    "X = iris.data\n",
    "y = iris.target\n",
    "\n",
    "# Split and train\n",
    "X_train, X_test, y_train, y_test = train_test_split(X, y, test_size=0.3, random_state=42)\n",
    "rf_classifier = RandomForestClassifier(random_state=42)\n",
    "rf_classifier.fit(X_train, y_train)\n",
    "\n",
    "# Get predictions\n",
    "y_pred = rf_classifier.predict(X_test)\n",
    "\n",
    "# Get confusion matrix\n",
    "cm = confusion_matrix(y_test, y_pred)\n",
    "print(\"Confusion Matrix:\")\n",
    "print(cm)\n",
    "\n",
    "# Calculate precision for each class manually\n",
    "for i in range(3):\n",
    "    true_positives = cm[i][i]\n",
    "    false_positives = sum(cm[:,i]) - cm[i][i]\n",
    "    precision = true_positives / (true_positives + false_positives)\n",
    "    print(f\"\\nClass {iris.target_names[i]}:\")\n",
    "    print(f\"True Positives: {true_positives}\")\n",
    "    print(f\"False Positives: {false_positives}\")\n",
    "    print(f\"Precision: {precision:.3f}\")"
   ]
  },
  {
   "cell_type": "markdown",
   "metadata": {},
   "source": [
    "Understanding Confusion Matrix\n",
    "Assume we get this confusion matrix:"
   ]
  },
  {
   "cell_type": "markdown",
   "metadata": {},
   "source": [
    "[[15  0  0]\n",
    " [ 0 13  2]\n",
    " [ 0  1 14]]"
   ]
  },
  {
   "cell_type": "markdown",
   "metadata": {},
   "source": [
    "Where rows represent actual classes and columns represent predicted classes:\n",
    "Setosa (0)\n",
    "Versicolor (1)\n",
    "Virginica (2)"
   ]
  },
  {
   "cell_type": "markdown",
   "metadata": {},
   "source": [
    "Precision Calculation for Each Class\n",
    "Setosa (Class 0)\n",
    "True Positives (TP) = 15 (correctly predicted Setosa)\n",
    "False Positives (FP) = 0 + 0 = 0 (other flowers predicted as Setosa)\n",
    "\n",
    "Precision = TP / (TP + FP)\n",
    "         = 15 / (15 + 0)\n",
    "         = 15/15\n",
    "         = 1.0 (100%)"
   ]
  },
  {
   "cell_type": "markdown",
   "metadata": {},
   "source": [
    "Versicolor (Class 1)\n",
    "True Positives (TP) = 13 (correctly predicted Versicolor)\n",
    "False Positives (FP) = 0 + 1 = 1 (other flowers predicted as Versicolor)\n",
    "\n",
    "Precision = TP / (TP + FP)\n",
    "         = 13 / (13 + 1)\n",
    "         = 13/14\n",
    "         ≈ 0.929 (92.9%)"
   ]
  },
  {
   "cell_type": "markdown",
   "metadata": {},
   "source": [
    "Virginica (Class 2)\n",
    "?????"
   ]
  },
  {
   "cell_type": "markdown",
   "metadata": {},
   "source": [
    "True Positives (TP) = 14 (correctly predicted Virginica)\n",
    "False Positives (FP) = 2 + 0 = 2 (other flowers predicted as Virginica)\n",
    "\n",
    "Precision = TP / (TP + FP) <br>\n",
    "         = 14 / (14 + 2) <br>\n",
    "         = 14/16 <br>\n",
    "         = 0.875 (87.5%)"
   ]
  },
  {
   "cell_type": "markdown",
   "metadata": {},
   "source": [
    "Recall (Sensitivity)\n",
    "Measures the model's ability to identify all positive instance"
   ]
  },
  {
   "cell_type": "markdown",
   "metadata": {},
   "source": [
    "Recall Calculation for Each Class\n",
    "Setosa (Class 0)"
   ]
  },
  {
   "cell_type": "markdown",
   "metadata": {},
   "source": [
    "True Positives (TP) = 15 (correctly predicted Setosa)\n",
    "False Negatives (FN) = 0 + 0 = 0 (Setosa flowers predicted as other classes)\n",
    "\n",
    "Recall = TP / (TP + FN)\n",
    "       = 15 / (15 + 0)\n",
    "       = 15/15\n",
    "       = 1.0 (100%)"
   ]
  },
  {
   "cell_type": "markdown",
   "metadata": {},
   "source": [
    "Versicolor (Class 1)\n",
    "True Positives (TP) = 13 (correctly predicted Versicolor)\n",
    "False Negatives (FN) = 0 + 2 = 2 (Versicolor flowers predicted as other classes)\n",
    "\n",
    "Recall = TP / (TP + FN)\n",
    "       = 13 / (13 + 2)\n",
    "       = 13/15\n",
    "       ≈ 0.867 (86.7%)"
   ]
  },
  {
   "cell_type": "markdown",
   "metadata": {},
   "source": [
    "Virginica (Class 2)\n",
    "True Positives (TP) = 14 (correctly predicted Virginica)\n",
    "False Negatives (FN) = 1 + 0 = 1 (Virginica flowers predicted as other classes)\n",
    "\n",
    "Recall = TP / (TP + FN)\n",
    "       = 14 / (14 + 1)\n",
    "       = 14/15\n",
    "       ≈ 0.933 (93.3%)"
   ]
  },
  {
   "cell_type": "markdown",
   "metadata": {},
   "source": [
    "F1 Score\n",
    "A harmonic mean of precision and recall that balances the importance of both metric"
   ]
  },
  {
   "cell_type": "markdown",
   "metadata": {},
   "source": [
    "[[15  0  0]\n",
    " [ 0 13  2]\n",
    " [ 0  1 14]]"
   ]
  },
  {
   "cell_type": "markdown",
   "metadata": {},
   "source": [
    "Precision = 15 / (15 + 0) = 1.000\n",
    "Recall = 15 / (15 + 0) = 1.000\n",
    "\n",
    "F1 Score Calculation for Each Class\n",
    "Setosa (Class 0)\n",
    "F1 Score = 2 * (Precision * Recall) / (Precision + Recall)\n",
    "         = 2 * (1.000 * 1.000) / (1.000 + 1.000)\n",
    "         = 2 * 1.000 / 2.000\n",
    "         = 1.000 (100%)"
   ]
  },
  {
   "cell_type": "markdown",
   "metadata": {},
   "source": [
    "Versicolor (Class 1)\n",
    "Precision = 13 / (13 + 1) = 0.929\n",
    "Recall = 13 / (13 + 2) = 0.867\n",
    "\n",
    "F1 Score = 2 * (0.929 * 0.867) / (0.929 + 0.867)\n",
    "         = 2 * 0.805 / 1.796\n",
    "         ≈ 0.897 (89.7%)"
   ]
  },
  {
   "cell_type": "markdown",
   "metadata": {},
   "source": [
    "Virginica (Class 2)\n",
    "Precision = 14 / (14 + 2) = 0.875\n",
    "Recall = 14 / (14 + 1) = 0.933\n",
    "\n",
    "F1 Score = 2 * (0.875 * 0.933) / (0.875 + 0.933)\n",
    "         = 2 * 0.816 / 1.808\n",
    "         ≈ 0.903 (90.3%)"
   ]
  },
  {
   "cell_type": "code",
   "execution_count": 4,
   "metadata": {},
   "outputs": [
    {
     "data": {
      "image/png": "[encoded data removed]",
      "text/plain": [
       "<Figure size 1000x600 with 2 Axes>"
      ]
     },
     "metadata": {},
     "output_type": "display_data"
    },
    {
     "name": "stdout",
     "output_type": "stream",
     "text": [
      "\n",
      "Precision Calculation Breakdown:\n",
      "True Positives (TP): 172\n",
      "False Positives (FP): 144\n",
      "Precision = TP / (TP + FP) = 172 / (172 + 144) = 0.544\n",
      "\n",
      "Precision by Class:\n",
      "Not Churned (Class 0): 0.815\n",
      "Churned (Class 1): 0.544\n",
      "\n",
      "Additional Metrics:\n",
      "Total Customers in Test Set: 1407\n",
      "Actual Churn Rate: 26.58%\n",
      "Predicted Churn Rate: 22.46%\n",
      "\n",
      "Business Interpretation:\n",
      "1. Precision for Churn Prediction:\n",
      "   - When our model predicts a customer will churn, it is correct 54.4% of the time\n",
      "\n",
      "2. Business Impact Analysis:\n",
      "   - Potential savings from retained customers: $172,000\n",
      "   - Cost of retention attempts: $31,600\n",
      "   - Net benefit: $140,400\n"
     ]
    }
   ],
   "source": [
    "import pandas as pd\n",
    "import numpy as np\n",
    "from sklearn.model_selection import train_test_split\n",
    "from sklearn.preprocessing import StandardScaler\n",
    "from sklearn.ensemble import RandomForestClassifier\n",
    "from sklearn.metrics import confusion_matrix, precision_score\n",
    "import seaborn as sns\n",
    "import matplotlib.pyplot as plt\n",
    "\n",
    "# Load and prepare data\n",
    "def prepare_churn_data():\n",
    "    # Load telecom customer churn dataset\n",
    "    df = pd.read_csv('https://raw.githubusercontent.com/IBM/telco-customer-churn-on-icp4d/master/data/Telco-Customer-Churn.csv')\n",
    "    \n",
    "    # Basic data cleaning\n",
    "    df['TotalCharges'] = pd.to_numeric(df['TotalCharges'], errors='coerce')\n",
    "    df = df.dropna()\n",
    "    \n",
    "    # Convert target variable\n",
    "    df['Churn'] = (df['Churn'] == 'Yes').astype(int)\n",
    "    \n",
    "    # Select and prepare features\n",
    "    features = ['tenure', 'MonthlyCharges', 'TotalCharges', 'Contract', 'InternetService', 'PaymentMethod']\n",
    "    X = pd.get_dummies(df[features])\n",
    "    y = df['Churn']\n",
    "    \n",
    "    return X, y\n",
    "\n",
    "# Train model and calculate precision\n",
    "def calculate_precision():\n",
    "    # Prepare data\n",
    "    X, y = prepare_churn_data()\n",
    "    \n",
    "    # Split data\n",
    "    X_train, X_test, y_train, y_test = train_test_split(X, y, test_size=0.2, random_state=42)\n",
    "    \n",
    "    # Scale features\n",
    "    scaler = StandardScaler()\n",
    "    X_train_scaled = scaler.fit_transform(X_train)\n",
    "    X_test_scaled = scaler.transform(X_test)\n",
    "    \n",
    "    # Train model\n",
    "    model = RandomForestClassifier(random_state=42)\n",
    "    model.fit(X_train_scaled, y_train)\n",
    "    \n",
    "    # Make predictions\n",
    "    y_pred = model.predict(X_test_scaled)\n",
    "    \n",
    "    # Get confusion matrix\n",
    "    cm = confusion_matrix(y_test, y_pred)\n",
    "    \n",
    "    # Calculate precision manually\n",
    "    true_positives = cm[1][1]\n",
    "    false_positives = cm[0][1]\n",
    "    precision = true_positives / (true_positives + false_positives)\n",
    "    \n",
    "    return cm, precision, y_test, y_pred\n",
    "\n",
    "# Visualize results\n",
    "def visualize_results(cm, precision, y_test, y_pred):\n",
    "    # Plot confusion matrix\n",
    "    plt.figure(figsize=(10, 6))\n",
    "    sns.heatmap(cm, annot=True, fmt='d', cmap='Blues',\n",
    "                xticklabels=['Not Churned', 'Churned'],\n",
    "                yticklabels=['Not Churned', 'Churned'])\n",
    "    plt.title('Confusion Matrix for Churn Prediction')\n",
    "    plt.ylabel('Actual Label')\n",
    "    plt.xlabel('Predicted Label')\n",
    "    plt.show()\n",
    "    \n",
    "    # Print detailed precision analysis\n",
    "    print(\"\\nPrecision Calculation Breakdown:\")\n",
    "    print(f\"True Positives (TP): {cm[1][1]}\")\n",
    "    print(f\"False Positives (FP): {cm[0][1]}\")\n",
    "    print(f\"Precision = TP / (TP + FP) = {cm[1][1]} / ({cm[1][1]} + {cm[0][1]}) = {precision:.3f}\")\n",
    "    \n",
    "    # Calculate precision for each class\n",
    "    class_0_precision = cm[0][0] / (cm[0][0] + cm[1][0])\n",
    "    class_1_precision = cm[1][1] / (cm[1][1] + cm[0][1])\n",
    "    \n",
    "    print(\"\\nPrecision by Class:\")\n",
    "    print(f\"Not Churned (Class 0): {class_0_precision:.3f}\")\n",
    "    print(f\"Churned (Class 1): {class_1_precision:.3f}\")\n",
    "    \n",
    "    # Additional analysis\n",
    "    total_predictions = len(y_test)\n",
    "    churn_rate = sum(y_test) / total_predictions\n",
    "    \n",
    "    print(\"\\nAdditional Metrics:\")\n",
    "    print(f\"Total Customers in Test Set: {total_predictions}\")\n",
    "    print(f\"Actual Churn Rate: {churn_rate:.2%}\")\n",
    "    print(f\"Predicted Churn Rate: {sum(y_pred)/total_predictions:.2%}\")\n",
    "\n",
    "# Main execution\n",
    "if __name__ == \"__main__\":\n",
    "    # Calculate precision\n",
    "    cm, precision, y_test, y_pred = calculate_precision()\n",
    "    \n",
    "    # Visualize and analyze results\n",
    "    visualize_results(cm, precision, y_test, y_pred)\n",
    "    \n",
    "    # Business interpretation\n",
    "    print(\"\\nBusiness Interpretation:\")\n",
    "    print(\"1. Precision for Churn Prediction:\")\n",
    "    print(f\"   - When our model predicts a customer will churn, it is correct {precision:.1%} of the time\")\n",
    "    \n",
    "    # Cost-benefit analysis example\n",
    "    avg_customer_value = 1000  # Example value in dollars\n",
    "    retention_cost = 100       # Example cost per retention attempt\n",
    "    \n",
    "    true_positives = cm[1][1]\n",
    "    false_positives = cm[0][1]\n",
    "    \n",
    "    potential_savings = true_positives * avg_customer_value\n",
    "    retention_costs = (true_positives + false_positives) * retention_cost\n",
    "    net_benefit = potential_savings - retention_costs\n",
    "    \n",
    "    print(\"\\n2. Business Impact Analysis:\")\n",
    "    print(f\"   - Potential savings from retained customers: ${potential_savings:,}\")\n",
    "    print(f\"   - Cost of retention attempts: ${retention_costs:,}\")\n",
    "    print(f\"   - Net benefit: ${net_benefit:,}\")"
   ]
  }
 ],
 "metadata": {
  "kernelspec": {
   "display_name": "Python 3",
   "language": "python",
   "name": "python3"
  },
  "language_info": {
   "codemirror_mode": {
    "name": "ipython",
    "version": 3
   },
   "file_extension": ".py",
   "mimetype": "text/x-python",
   "name": "python",
   "nbconvert_exporter": "python",
   "pygments_lexer": "ipython3",
   "version": "3.11.9"
  }
 },
 "nbformat": 4,
 "nbformat_minor": 2
}
